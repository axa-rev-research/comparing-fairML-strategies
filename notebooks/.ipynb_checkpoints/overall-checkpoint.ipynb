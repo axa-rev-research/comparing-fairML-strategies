{
 "cells": [
  {
   "cell_type": "markdown",
   "id": "bb50a16c-f81b-473b-abf7-ad9064a1fcf8",
   "metadata": {},
   "source": [
    "Notebook for comparisons across multiple datasets"
   ]
  },
  {
   "cell_type": "markdown",
   "id": "e3b224f8-bc8c-4e16-89eb-c24ce1762604",
   "metadata": {
    "tags": []
   },
   "source": [
    "# Imports"
   ]
  },
  {
   "cell_type": "code",
   "execution_count": 171,
   "id": "3d5e8cf9-0bde-4110-a914-85d3f4cecc35",
   "metadata": {},
   "outputs": [
    {
     "name": "stdout",
     "output_type": "stream",
     "text": [
      "The autoreload extension is already loaded. To reload it, use:\n",
      "  %reload_ext autoreload\n"
     ]
    }
   ],
   "source": [
    "# HIDE\n",
    "%load_ext autoreload\n",
    "%autoreload 2"
   ]
  },
  {
   "cell_type": "code",
   "execution_count": 2,
   "id": "f5513f00-97d9-4888-9522-c3bb0cfc13e2",
   "metadata": {},
   "outputs": [],
   "source": [
    "import sys\n",
    "sys.path.append('../')\n",
    "sys.path.append('../../')"
   ]
  },
  {
   "cell_type": "code",
   "execution_count": 3,
   "id": "a0743ac2-fb8a-4414-bd81-57660fdd4e2b",
   "metadata": {
    "tags": []
   },
   "outputs": [
    {
     "name": "stderr",
     "output_type": "stream",
     "text": [
      "WARNING:root:No module named 'tempeh': LawSchoolGPADataset will be unavailable. To install, run:\n",
      "pip install 'aif360[LawSchoolGPA]'\n",
      "2022-12-05 16:25:25.566233: I tensorflow/core/platform/cpu_feature_guard.cc:193] This TensorFlow binary is optimized with oneAPI Deep Neural Network Library (oneDNN) to use the following CPU instructions in performance-critical operations:  AVX2 FMA\n",
      "To enable them in other operations, rebuild TensorFlow with the appropriate compiler flags.\n"
     ]
    }
   ],
   "source": [
    "import matplotlib.pyplot as plt\n",
    "import numpy as np\n",
    "\n",
    "import pandas as pd\n",
    "import seaborn as sns\n",
    "import torch\n",
    "import torch.nn as nn\n",
    "import torch.optim as t_optim\n",
    "import skorch\n",
    "import pickle\n",
    "from IPython import display\n",
    "from sklearn.ensemble import HistGradientBoostingClassifier\n",
    "from sklearn.ensemble import RandomForestClassifier\n",
    "from sklearn import metrics\n",
    "from sklearn.model_selection import train_test_split\n",
    "from sklearn.preprocessing import StandardScaler\n",
    "from sklearn.utils.class_weight import compute_class_weight\n",
    "from torch.utils.data import TensorDataset\n",
    "from torch.utils.data import DataLoader\n",
    "#from cont_metrics.density_estimation.pytorch_kde import kde\n",
    "#from cont_metrics.hgr import hgr_cond\n",
    "#from cont_metrics.hgr import hgr\n",
    "import aif360 as aif\n",
    "\n",
    "from fairness.helpers import load_ICU_data\n",
    "from fairness.helpers import plot_distributions\n",
    "from fairness.helpers import *\n",
    "\n",
    "#from fairlearn.postprocessing import ThresholdOptimizer\n",
    "#from fairlearn.postprocessing import plot_threshold_optimizer\n",
    "\n",
    "from fairness.avd_helpers import *\n",
    "\n",
    "#from aif360.algorithms.postprocessing import *\n",
    "import aif360\n",
    "from aif360.datasets import CompasDataset\n",
    "from aif360.algorithms.inprocessing import AdversarialDebiasing\n",
    "#from comet_ml import Experiment\n",
    "import tensorflow.compat.v1 as tf\n",
    "from aif360.datasets import BinaryLabelDataset\n",
    "from aif360.algorithms.preprocessing import LFR\n",
    "\n",
    "torch.manual_seed(1)\n",
    "np.random.seed(7)\n",
    "sns.set(style=\"white\", palette=\"colorblind\", color_codes=True, context=\"talk\")\n",
    "sns.set_theme()\n",
    "\n",
    "tf.disable_eager_execution()\n",
    "\n",
    "%matplotlib inline"
   ]
  },
  {
   "cell_type": "markdown",
   "id": "fe581abc-ecb0-4ff2-a140-bdd23a484f17",
   "metadata": {},
   "source": [
    "# Comparisons"
   ]
  },
  {
   "cell_type": "code",
   "execution_count": 53,
   "id": "867ce218-45ce-4ba9-9b64-7c49604598ce",
   "metadata": {},
   "outputs": [],
   "source": [
    "adult = pd.read_csv('../results/adult/comp_df.csv').rename({'Unnamed: 0': 'index'}, axis=1).set_index('index')[['sex', 'biased_pred', 'adv_pred',\n",
    "                                                                                                               'lfr_pred', 'eq_pred', 'adv_change',\n",
    "                                                                                                               'lfr_change', 'eq_change']]\n",
    "\n",
    "compas = pd.read_csv('../results/compas/test_results.csv').rename({'Unnamed: 0': 'index'}, axis=1).set_index('index').drop(columns=['eq_label', 'target'])\\\n",
    "                        [['race', 'biased_pred', 'lfr_pred', 'adv_pred', 'eq_pred',\n",
    "                         'lfr_change', 'adv_change', 'eq_change']]\n",
    "\n",
    "dutch = pd.read_csv('../results/dutch/test_results.csv').rename({'Unnamed: 0': 'index'}, axis=1).set_index('index').drop(columns=['target', 'num_changes'])\\\n",
    "                        [['sex', 'biased_pred', 'lfr_pred', 'adv_pred', 'eq_pred',\n",
    "                         'lfr_change', 'adv_change', 'eq_change']]"
   ]
  },
  {
   "cell_type": "code",
   "execution_count": 54,
   "id": "794bdbd3-6c66-40ef-bc0b-e4ca302b8266",
   "metadata": {},
   "outputs": [
    {
     "data": {
      "text/html": [
       "<div>\n",
       "<style scoped>\n",
       "    .dataframe tbody tr th:only-of-type {\n",
       "        vertical-align: middle;\n",
       "    }\n",
       "\n",
       "    .dataframe tbody tr th {\n",
       "        vertical-align: top;\n",
       "    }\n",
       "\n",
       "    .dataframe thead th {\n",
       "        text-align: right;\n",
       "    }\n",
       "</style>\n",
       "<table border=\"1\" class=\"dataframe\">\n",
       "  <thead>\n",
       "    <tr style=\"text-align: right;\">\n",
       "      <th></th>\n",
       "      <th>sex</th>\n",
       "      <th>biased_pred</th>\n",
       "      <th>lfr_pred</th>\n",
       "      <th>adv_pred</th>\n",
       "      <th>eq_pred</th>\n",
       "      <th>lfr_change</th>\n",
       "      <th>adv_change</th>\n",
       "      <th>eq_change</th>\n",
       "    </tr>\n",
       "    <tr>\n",
       "      <th>index</th>\n",
       "      <th></th>\n",
       "      <th></th>\n",
       "      <th></th>\n",
       "      <th></th>\n",
       "      <th></th>\n",
       "      <th></th>\n",
       "      <th></th>\n",
       "      <th></th>\n",
       "    </tr>\n",
       "  </thead>\n",
       "  <tbody>\n",
       "    <tr>\n",
       "      <th>6235</th>\n",
       "      <td>1</td>\n",
       "      <td>0</td>\n",
       "      <td>0</td>\n",
       "      <td>0</td>\n",
       "      <td>0</td>\n",
       "      <td>0</td>\n",
       "      <td>0</td>\n",
       "      <td>0</td>\n",
       "    </tr>\n",
       "    <tr>\n",
       "      <th>49276</th>\n",
       "      <td>0</td>\n",
       "      <td>0</td>\n",
       "      <td>0</td>\n",
       "      <td>0</td>\n",
       "      <td>0</td>\n",
       "      <td>0</td>\n",
       "      <td>0</td>\n",
       "      <td>0</td>\n",
       "    </tr>\n",
       "    <tr>\n",
       "      <th>7891</th>\n",
       "      <td>0</td>\n",
       "      <td>0</td>\n",
       "      <td>0</td>\n",
       "      <td>0</td>\n",
       "      <td>0</td>\n",
       "      <td>0</td>\n",
       "      <td>0</td>\n",
       "      <td>0</td>\n",
       "    </tr>\n",
       "    <tr>\n",
       "      <th>17572</th>\n",
       "      <td>1</td>\n",
       "      <td>1</td>\n",
       "      <td>1</td>\n",
       "      <td>1</td>\n",
       "      <td>1</td>\n",
       "      <td>0</td>\n",
       "      <td>0</td>\n",
       "      <td>0</td>\n",
       "    </tr>\n",
       "    <tr>\n",
       "      <th>34628</th>\n",
       "      <td>0</td>\n",
       "      <td>0</td>\n",
       "      <td>0</td>\n",
       "      <td>0</td>\n",
       "      <td>0</td>\n",
       "      <td>0</td>\n",
       "      <td>0</td>\n",
       "      <td>0</td>\n",
       "    </tr>\n",
       "  </tbody>\n",
       "</table>\n",
       "</div>"
      ],
      "text/plain": [
       "       sex  biased_pred  lfr_pred  adv_pred  eq_pred  lfr_change  adv_change  \\\n",
       "index                                                                          \n",
       "6235     1            0         0         0        0           0           0   \n",
       "49276    0            0         0         0        0           0           0   \n",
       "7891     0            0         0         0        0           0           0   \n",
       "17572    1            1         1         1        1           0           0   \n",
       "34628    0            0         0         0        0           0           0   \n",
       "\n",
       "       eq_change  \n",
       "index             \n",
       "6235           0  \n",
       "49276          0  \n",
       "7891           0  \n",
       "17572          0  \n",
       "34628          0  "
      ]
     },
     "execution_count": 54,
     "metadata": {},
     "output_type": "execute_result"
    }
   ],
   "source": [
    "dutch.head()"
   ]
  },
  {
   "cell_type": "code",
   "execution_count": 78,
   "id": "f1f1b7a1-25fd-4c9c-b701-ca419dd3a963",
   "metadata": {},
   "outputs": [],
   "source": [
    "dutch_lfr = len(dutch[dutch.lfr_change!=0]) / len(dutch) * 100\n",
    "dutch_adv = len(dutch[dutch.adv_change!=0]) / len(dutch) * 100\n",
    "dutch_eq = len(dutch[dutch.eq_change!=0]) / len(dutch) * 100"
   ]
  },
  {
   "cell_type": "code",
   "execution_count": 79,
   "id": "db864c8a-980d-4d3f-b32a-2a7e8f1d5c5d",
   "metadata": {},
   "outputs": [],
   "source": [
    "adult_lfr = len(adult[adult.lfr_change!=0]) / len(adult) * 100\n",
    "adult_adv = len(adult[adult.adv_change!=0]) / len(adult) * 100\n",
    "adult_eq = len(adult[adult.eq_change!=0]) / len(adult) * 100"
   ]
  },
  {
   "cell_type": "code",
   "execution_count": 80,
   "id": "ebca714b-ad9b-48e4-8b1d-2032a381d8f3",
   "metadata": {},
   "outputs": [],
   "source": [
    "compas_lfr = len(compas[compas.lfr_change!=0]) / len(compas) * 100\n",
    "compas_adv = len(compas[compas.adv_change!=0]) / len(compas) * 100\n",
    "compas_eq = len(compas[compas.eq_change!=0]) / len(compas) * 100"
   ]
  },
  {
   "cell_type": "code",
   "execution_count": 81,
   "id": "f323faeb-390a-478b-9a6e-a1d7eafb0ac0",
   "metadata": {},
   "outputs": [],
   "source": [
    "dnum = pd.DataFrame({\n",
    "    'method': ['LFR', 'Adversarial', 'Equal Odds'],\n",
    "    'dataset': 'Dutch Census',\n",
    "    'predictions changed': [dutch_lfr, dutch_adv, dutch_eq]\n",
    "})\n",
    "\n",
    "anum = pd.DataFrame({\n",
    "    'method': ['LFR', 'Adversarial', 'Equal Odds'],\n",
    "    'dataset': 'Adult',\n",
    "    'predictions changed': [adult_lfr, adult_adv, adult_eq]\n",
    "})\n",
    "\n",
    "cnum = pd.DataFrame({\n",
    "    'method': ['LFR', 'Adversarial', 'Equal Odds'],\n",
    "    'dataset': 'Compas',\n",
    "    'predictions changed': [compas_lfr, compas_adv, compas_eq]\n",
    "})"
   ]
  },
  {
   "cell_type": "code",
   "execution_count": 82,
   "id": "192aa2c7-366f-4956-956a-7de42589f6e1",
   "metadata": {},
   "outputs": [
    {
     "data": {
      "text/html": [
       "<div>\n",
       "<style scoped>\n",
       "    .dataframe tbody tr th:only-of-type {\n",
       "        vertical-align: middle;\n",
       "    }\n",
       "\n",
       "    .dataframe tbody tr th {\n",
       "        vertical-align: top;\n",
       "    }\n",
       "\n",
       "    .dataframe thead th {\n",
       "        text-align: right;\n",
       "    }\n",
       "</style>\n",
       "<table border=\"1\" class=\"dataframe\">\n",
       "  <thead>\n",
       "    <tr style=\"text-align: right;\">\n",
       "      <th></th>\n",
       "      <th>method</th>\n",
       "      <th>dataset</th>\n",
       "      <th>predictions changed</th>\n",
       "    </tr>\n",
       "  </thead>\n",
       "  <tbody>\n",
       "    <tr>\n",
       "      <th>0</th>\n",
       "      <td>LFR</td>\n",
       "      <td>Dutch Census</td>\n",
       "      <td>5.292949</td>\n",
       "    </tr>\n",
       "    <tr>\n",
       "      <th>1</th>\n",
       "      <td>Adversarial</td>\n",
       "      <td>Dutch Census</td>\n",
       "      <td>9.642502</td>\n",
       "    </tr>\n",
       "    <tr>\n",
       "      <th>2</th>\n",
       "      <td>Equal Odds</td>\n",
       "      <td>Dutch Census</td>\n",
       "      <td>7.163191</td>\n",
       "    </tr>\n",
       "    <tr>\n",
       "      <th>0</th>\n",
       "      <td>LFR</td>\n",
       "      <td>Adult</td>\n",
       "      <td>10.533751</td>\n",
       "    </tr>\n",
       "    <tr>\n",
       "      <th>1</th>\n",
       "      <td>Adversarial</td>\n",
       "      <td>Adult</td>\n",
       "      <td>8.856950</td>\n",
       "    </tr>\n",
       "    <tr>\n",
       "      <th>2</th>\n",
       "      <td>Equal Odds</td>\n",
       "      <td>Adult</td>\n",
       "      <td>6.535225</td>\n",
       "    </tr>\n",
       "    <tr>\n",
       "      <th>0</th>\n",
       "      <td>LFR</td>\n",
       "      <td>Compas</td>\n",
       "      <td>20.272831</td>\n",
       "    </tr>\n",
       "    <tr>\n",
       "      <th>1</th>\n",
       "      <td>Adversarial</td>\n",
       "      <td>Compas</td>\n",
       "      <td>21.599091</td>\n",
       "    </tr>\n",
       "    <tr>\n",
       "      <th>2</th>\n",
       "      <td>Equal Odds</td>\n",
       "      <td>Compas</td>\n",
       "      <td>13.338386</td>\n",
       "    </tr>\n",
       "  </tbody>\n",
       "</table>\n",
       "</div>"
      ],
      "text/plain": [
       "        method       dataset  predictions changed\n",
       "0          LFR  Dutch Census             5.292949\n",
       "1  Adversarial  Dutch Census             9.642502\n",
       "2   Equal Odds  Dutch Census             7.163191\n",
       "0          LFR         Adult            10.533751\n",
       "1  Adversarial         Adult             8.856950\n",
       "2   Equal Odds         Adult             6.535225\n",
       "0          LFR        Compas            20.272831\n",
       "1  Adversarial        Compas            21.599091\n",
       "2   Equal Odds        Compas            13.338386"
      ]
     },
     "execution_count": 82,
     "metadata": {},
     "output_type": "execute_result"
    }
   ],
   "source": [
    "pd.concat([dnum, anum, cnum])"
   ]
  },
  {
   "cell_type": "code",
   "execution_count": 87,
   "id": "4d8638a7-902e-46d2-a650-6891060ca1e1",
   "metadata": {},
   "outputs": [
    {
     "data": {
      "image/png": "[encoded data removed]",
      "text/plain": [
       "<Figure size 864x504 with 1 Axes>"
      ]
     },
     "metadata": {
      "needs_background": "light"
     },
     "output_type": "display_data"
    }
   ],
   "source": [
    "fig, axs = plt.subplots(1,1,figsize=(12,7))\n",
    "\n",
    "sns.barplot(data=pd.concat([dnum, anum, cnum]), x='dataset', y='predictions changed', hue='method', ax=axs)\n",
    "\n",
    "axs.set_ylabel('%')\n",
    "axs.set_xlabel('Dataset')\n",
    "\n",
    "axs.set_title('Percentage of predictions changed by each method, across 3 datasets')\n",
    "\n",
    "plt.savefig('../figs/prez/changed_datasets.png')"
   ]
  },
  {
   "cell_type": "code",
   "execution_count": 103,
   "id": "6bddbfe2-1648-4af7-839e-a415917df1ad",
   "metadata": {},
   "outputs": [],
   "source": [
    "plot_df = pd.concat([dnum, anum, cnum])\n",
    "plot_df.index = range(len(plot_df))"
   ]
  },
  {
   "cell_type": "code",
   "execution_count": 104,
   "id": "29af6f32-d2c3-4d50-960f-313a214c0246",
   "metadata": {},
   "outputs": [
    {
     "data": {
      "text/html": [
       "<div>\n",
       "<style scoped>\n",
       "    .dataframe tbody tr th:only-of-type {\n",
       "        vertical-align: middle;\n",
       "    }\n",
       "\n",
       "    .dataframe tbody tr th {\n",
       "        vertical-align: top;\n",
       "    }\n",
       "\n",
       "    .dataframe thead th {\n",
       "        text-align: right;\n",
       "    }\n",
       "</style>\n",
       "<table border=\"1\" class=\"dataframe\">\n",
       "  <thead>\n",
       "    <tr style=\"text-align: right;\">\n",
       "      <th></th>\n",
       "      <th>method</th>\n",
       "      <th>dataset</th>\n",
       "      <th>predictions changed</th>\n",
       "    </tr>\n",
       "  </thead>\n",
       "  <tbody>\n",
       "    <tr>\n",
       "      <th>0</th>\n",
       "      <td>LFR</td>\n",
       "      <td>Dutch Census</td>\n",
       "      <td>5.292949</td>\n",
       "    </tr>\n",
       "    <tr>\n",
       "      <th>1</th>\n",
       "      <td>Adversarial</td>\n",
       "      <td>Dutch Census</td>\n",
       "      <td>9.642502</td>\n",
       "    </tr>\n",
       "    <tr>\n",
       "      <th>2</th>\n",
       "      <td>Equal Odds</td>\n",
       "      <td>Dutch Census</td>\n",
       "      <td>7.163191</td>\n",
       "    </tr>\n",
       "    <tr>\n",
       "      <th>3</th>\n",
       "      <td>LFR</td>\n",
       "      <td>Adult</td>\n",
       "      <td>10.533751</td>\n",
       "    </tr>\n",
       "    <tr>\n",
       "      <th>4</th>\n",
       "      <td>Adversarial</td>\n",
       "      <td>Adult</td>\n",
       "      <td>8.856950</td>\n",
       "    </tr>\n",
       "    <tr>\n",
       "      <th>5</th>\n",
       "      <td>Equal Odds</td>\n",
       "      <td>Adult</td>\n",
       "      <td>6.535225</td>\n",
       "    </tr>\n",
       "    <tr>\n",
       "      <th>6</th>\n",
       "      <td>LFR</td>\n",
       "      <td>Compas</td>\n",
       "      <td>20.272831</td>\n",
       "    </tr>\n",
       "    <tr>\n",
       "      <th>7</th>\n",
       "      <td>Adversarial</td>\n",
       "      <td>Compas</td>\n",
       "      <td>21.599091</td>\n",
       "    </tr>\n",
       "    <tr>\n",
       "      <th>8</th>\n",
       "      <td>Equal Odds</td>\n",
       "      <td>Compas</td>\n",
       "      <td>13.338386</td>\n",
       "    </tr>\n",
       "  </tbody>\n",
       "</table>\n",
       "</div>"
      ],
      "text/plain": [
       "        method       dataset  predictions changed\n",
       "0          LFR  Dutch Census             5.292949\n",
       "1  Adversarial  Dutch Census             9.642502\n",
       "2   Equal Odds  Dutch Census             7.163191\n",
       "3          LFR         Adult            10.533751\n",
       "4  Adversarial         Adult             8.856950\n",
       "5   Equal Odds         Adult             6.535225\n",
       "6          LFR        Compas            20.272831\n",
       "7  Adversarial        Compas            21.599091\n",
       "8   Equal Odds        Compas            13.338386"
      ]
     },
     "execution_count": 104,
     "metadata": {},
     "output_type": "execute_result"
    }
   ],
   "source": [
    "plot_df"
   ]
  },
  {
   "cell_type": "code",
   "execution_count": 98,
   "id": "6e83a0cb-79d3-44e8-9e17-ce720765f42f",
   "metadata": {},
   "outputs": [],
   "source": [
    "dutch_inters = len(dutch[(dutch.lfr_change!=0) & (dutch.adv_change!=0) & (dutch.eq_change!=0)]) / len(dutch) * 100\n",
    "dutch_union = len(dutch[(dutch.lfr_change!=0) | (dutch.adv_change!=0) | (dutch.eq_change!=0)]) / len(dutch) * 100\n",
    "\n",
    "adult_inters = len(adult[(adult.lfr_change!=0) & (adult.adv_change!=0) & (adult.eq_change!=0)]) / len(adult) * 100\n",
    "adult_union = len(adult[(adult.lfr_change!=0) | (adult.adv_change!=0) | (adult.eq_change!=0)]) / len(adult) * 100\n",
    "\n",
    "compas_inters = len(compas[(compas.lfr_change!=0) & (compas.adv_change!=0) & (compas.eq_change!=0)]) / len(compas) * 100\n",
    "compas_union = len(compas[(compas.lfr_change!=0) | (compas.adv_change!=0) | (compas.eq_change!=0)]) / len(compas) * 100"
   ]
  },
  {
   "cell_type": "code",
   "execution_count": 108,
   "id": "5a271435-5800-4589-9585-5316e49a0e13",
   "metadata": {},
   "outputs": [],
   "source": [
    "pltdf = pd.DataFrame({\n",
    "    'method': ['All methods', '≥ 1 method']*3,\n",
    "    'dataset': ['Dutch Census', 'Dutch Census', 'Adult', 'Adult', 'Compas', 'Compas'],\n",
    "    'predictions changed': [dutch_inters, dutch_union, adult_inters, adult_union, compas_inters, compas_union]\n",
    "})"
   ]
  },
  {
   "cell_type": "code",
   "execution_count": 112,
   "id": "f0e67210-a093-4616-98c7-95fb618055e4",
   "metadata": {},
   "outputs": [
    {
     "data": {
      "text/html": [
       "<div>\n",
       "<style scoped>\n",
       "    .dataframe tbody tr th:only-of-type {\n",
       "        vertical-align: middle;\n",
       "    }\n",
       "\n",
       "    .dataframe tbody tr th {\n",
       "        vertical-align: top;\n",
       "    }\n",
       "\n",
       "    .dataframe thead th {\n",
       "        text-align: right;\n",
       "    }\n",
       "</style>\n",
       "<table border=\"1\" class=\"dataframe\">\n",
       "  <thead>\n",
       "    <tr style=\"text-align: right;\">\n",
       "      <th></th>\n",
       "      <th>method</th>\n",
       "      <th>dataset</th>\n",
       "      <th>predictions changed</th>\n",
       "    </tr>\n",
       "  </thead>\n",
       "  <tbody>\n",
       "    <tr>\n",
       "      <th>3</th>\n",
       "      <td>LFR</td>\n",
       "      <td>Adult</td>\n",
       "      <td>10.533751</td>\n",
       "    </tr>\n",
       "    <tr>\n",
       "      <th>4</th>\n",
       "      <td>Adversarial</td>\n",
       "      <td>Adult</td>\n",
       "      <td>8.856950</td>\n",
       "    </tr>\n",
       "    <tr>\n",
       "      <th>5</th>\n",
       "      <td>Equal Odds</td>\n",
       "      <td>Adult</td>\n",
       "      <td>6.535225</td>\n",
       "    </tr>\n",
       "    <tr>\n",
       "      <th>2</th>\n",
       "      <td>All methods</td>\n",
       "      <td>Adult</td>\n",
       "      <td>3.261470</td>\n",
       "    </tr>\n",
       "    <tr>\n",
       "      <th>3</th>\n",
       "      <td>≥ 1 method</td>\n",
       "      <td>Adult</td>\n",
       "      <td>15.121921</td>\n",
       "    </tr>\n",
       "    <tr>\n",
       "      <th>6</th>\n",
       "      <td>LFR</td>\n",
       "      <td>Compas</td>\n",
       "      <td>20.272831</td>\n",
       "    </tr>\n",
       "    <tr>\n",
       "      <th>7</th>\n",
       "      <td>Adversarial</td>\n",
       "      <td>Compas</td>\n",
       "      <td>21.599091</td>\n",
       "    </tr>\n",
       "    <tr>\n",
       "      <th>8</th>\n",
       "      <td>Equal Odds</td>\n",
       "      <td>Compas</td>\n",
       "      <td>13.338386</td>\n",
       "    </tr>\n",
       "    <tr>\n",
       "      <th>4</th>\n",
       "      <td>All methods</td>\n",
       "      <td>Compas</td>\n",
       "      <td>0.833649</td>\n",
       "    </tr>\n",
       "    <tr>\n",
       "      <th>5</th>\n",
       "      <td>≥ 1 method</td>\n",
       "      <td>Compas</td>\n",
       "      <td>37.514210</td>\n",
       "    </tr>\n",
       "    <tr>\n",
       "      <th>0</th>\n",
       "      <td>LFR</td>\n",
       "      <td>Dutch Census</td>\n",
       "      <td>5.292949</td>\n",
       "    </tr>\n",
       "    <tr>\n",
       "      <th>1</th>\n",
       "      <td>Adversarial</td>\n",
       "      <td>Dutch Census</td>\n",
       "      <td>9.642502</td>\n",
       "    </tr>\n",
       "    <tr>\n",
       "      <th>2</th>\n",
       "      <td>Equal Odds</td>\n",
       "      <td>Dutch Census</td>\n",
       "      <td>7.163191</td>\n",
       "    </tr>\n",
       "    <tr>\n",
       "      <th>0</th>\n",
       "      <td>All methods</td>\n",
       "      <td>Dutch Census</td>\n",
       "      <td>0.132406</td>\n",
       "    </tr>\n",
       "    <tr>\n",
       "      <th>1</th>\n",
       "      <td>≥ 1 method</td>\n",
       "      <td>Dutch Census</td>\n",
       "      <td>18.348229</td>\n",
       "    </tr>\n",
       "  </tbody>\n",
       "</table>\n",
       "</div>"
      ],
      "text/plain": [
       "        method       dataset  predictions changed\n",
       "3          LFR         Adult            10.533751\n",
       "4  Adversarial         Adult             8.856950\n",
       "5   Equal Odds         Adult             6.535225\n",
       "2  All methods         Adult             3.261470\n",
       "3   ≥ 1 method         Adult            15.121921\n",
       "6          LFR        Compas            20.272831\n",
       "7  Adversarial        Compas            21.599091\n",
       "8   Equal Odds        Compas            13.338386\n",
       "4  All methods        Compas             0.833649\n",
       "5   ≥ 1 method        Compas            37.514210\n",
       "0          LFR  Dutch Census             5.292949\n",
       "1  Adversarial  Dutch Census             9.642502\n",
       "2   Equal Odds  Dutch Census             7.163191\n",
       "0  All methods  Dutch Census             0.132406\n",
       "1   ≥ 1 method  Dutch Census            18.348229"
      ]
     },
     "execution_count": 112,
     "metadata": {},
     "output_type": "execute_result"
    }
   ],
   "source": [
    "plt_df = pd.concat([plot_df, pltdf]).sort_values(['dataset'])\n",
    "plt_df"
   ]
  },
  {
   "cell_type": "code",
   "execution_count": 128,
   "id": "19e9a4a8-a504-4bb9-bb6e-e5447087f1b3",
   "metadata": {},
   "outputs": [],
   "source": [
    "sns.set(font_scale = 2)\n"
   ]
  },
  {
   "cell_type": "code",
   "execution_count": 134,
   "id": "29fa9fcf-c1dc-4620-96cb-1c2857447ae1",
   "metadata": {},
   "outputs": [
    {
     "data": {
      "image/png": "[encoded data removed]",
      "text/plain": [
       "<Figure size 1296x648 with 1 Axes>"
      ]
     },
     "metadata": {},
     "output_type": "display_data"
    }
   ],
   "source": [
    "fig, axs = plt.subplots(1,1,figsize=(18,9))\n",
    "\n",
    "sns.barplot(data=plt_df, x='dataset', y='predictions changed', hue='method', ax=axs)\n",
    "\n",
    "plt.setp(axs.get_legend().get_texts(), fontsize='18') # for legend text\n",
    "\n",
    "\n",
    "axs.set_ylabel('%')\n",
    "axs.set_xlabel('')\n",
    "\n",
    "axs.set_title('Percentage of predictions changed by each method, across 3 datasets')\n",
    "plt.savefig('../figs/prez/changes_overall.png')"
   ]
  },
  {
   "cell_type": "code",
   "execution_count": 136,
   "id": "a5fc8a81-24a8-4f06-becd-6e784d9dbb63",
   "metadata": {},
   "outputs": [
    {
     "data": {
      "text/html": [
       "<div>\n",
       "<style scoped>\n",
       "    .dataframe tbody tr th:only-of-type {\n",
       "        vertical-align: middle;\n",
       "    }\n",
       "\n",
       "    .dataframe tbody tr th {\n",
       "        vertical-align: top;\n",
       "    }\n",
       "\n",
       "    .dataframe thead th {\n",
       "        text-align: right;\n",
       "    }\n",
       "</style>\n",
       "<table border=\"1\" class=\"dataframe\">\n",
       "  <thead>\n",
       "    <tr style=\"text-align: right;\">\n",
       "      <th></th>\n",
       "      <th>sex</th>\n",
       "      <th>biased_pred</th>\n",
       "      <th>adv_pred</th>\n",
       "      <th>lfr_pred</th>\n",
       "      <th>eq_pred</th>\n",
       "      <th>adv_change</th>\n",
       "      <th>lfr_change</th>\n",
       "      <th>eq_change</th>\n",
       "    </tr>\n",
       "    <tr>\n",
       "      <th>index</th>\n",
       "      <th></th>\n",
       "      <th></th>\n",
       "      <th></th>\n",
       "      <th></th>\n",
       "      <th></th>\n",
       "      <th></th>\n",
       "      <th></th>\n",
       "      <th></th>\n",
       "    </tr>\n",
       "  </thead>\n",
       "  <tbody>\n",
       "    <tr>\n",
       "      <th>258</th>\n",
       "      <td>Female</td>\n",
       "      <td>0</td>\n",
       "      <td>0.0</td>\n",
       "      <td>0</td>\n",
       "      <td>0</td>\n",
       "      <td>0.0</td>\n",
       "      <td>0</td>\n",
       "      <td>0</td>\n",
       "    </tr>\n",
       "    <tr>\n",
       "      <th>26976</th>\n",
       "      <td>Female</td>\n",
       "      <td>0</td>\n",
       "      <td>0.0</td>\n",
       "      <td>0</td>\n",
       "      <td>0</td>\n",
       "      <td>0.0</td>\n",
       "      <td>0</td>\n",
       "      <td>0</td>\n",
       "    </tr>\n",
       "    <tr>\n",
       "      <th>9335</th>\n",
       "      <td>Male</td>\n",
       "      <td>0</td>\n",
       "      <td>0.0</td>\n",
       "      <td>0</td>\n",
       "      <td>0</td>\n",
       "      <td>0.0</td>\n",
       "      <td>0</td>\n",
       "      <td>0</td>\n",
       "    </tr>\n",
       "    <tr>\n",
       "      <th>5764</th>\n",
       "      <td>Male</td>\n",
       "      <td>1</td>\n",
       "      <td>1.0</td>\n",
       "      <td>1</td>\n",
       "      <td>1</td>\n",
       "      <td>0.0</td>\n",
       "      <td>0</td>\n",
       "      <td>0</td>\n",
       "    </tr>\n",
       "    <tr>\n",
       "      <th>28351</th>\n",
       "      <td>Female</td>\n",
       "      <td>0</td>\n",
       "      <td>0.0</td>\n",
       "      <td>0</td>\n",
       "      <td>0</td>\n",
       "      <td>0.0</td>\n",
       "      <td>0</td>\n",
       "      <td>0</td>\n",
       "    </tr>\n",
       "  </tbody>\n",
       "</table>\n",
       "</div>"
      ],
      "text/plain": [
       "          sex  biased_pred  adv_pred  lfr_pred  eq_pred  adv_change  \\\n",
       "index                                                                 \n",
       "258    Female            0       0.0         0        0         0.0   \n",
       "26976  Female            0       0.0         0        0         0.0   \n",
       "9335     Male            0       0.0         0        0         0.0   \n",
       "5764     Male            1       1.0         1        1         0.0   \n",
       "28351  Female            0       0.0         0        0         0.0   \n",
       "\n",
       "       lfr_change  eq_change  \n",
       "index                         \n",
       "258             0          0  \n",
       "26976           0          0  \n",
       "9335            0          0  \n",
       "5764            0          0  \n",
       "28351           0          0  "
      ]
     },
     "execution_count": 136,
     "metadata": {},
     "output_type": "execute_result"
    }
   ],
   "source": [
    "adult.head()"
   ]
  },
  {
   "cell_type": "code",
   "execution_count": 150,
   "id": "e0380d31-bfd9-4404-9475-dae07e7e6be1",
   "metadata": {},
   "outputs": [],
   "source": [
    "adult_adv = adult.groupby(['sex', 'adv_change']).count()[['biased_pred']].rename({'biased_pred':'count'}, axis=1).reset_index()\n",
    "adult_adv_useless = adult_adv[((adult_adv.sex=='Female') & (adult_adv.adv_change==-1.0)) | ((adult_adv.sex=='Male') & (adult_adv.adv_change==1.0))].sum()[['count']].item()"
   ]
  },
  {
   "cell_type": "code",
   "execution_count": 151,
   "id": "f458d98a-47d9-4103-b7c4-fa196a50de3f",
   "metadata": {},
   "outputs": [],
   "source": [
    "adult_lfr = adult.groupby(['sex', 'lfr_change']).count()[['biased_pred']].rename({'biased_pred':'count'}, axis=1).reset_index()\n",
    "adult_lfr_useless = adult_lfr[((adult_lfr.sex=='Female') & (adult_lfr.lfr_change==-1.0)) | ((adult_lfr.sex=='Male') & (adult_lfr.lfr_change==1.0))].sum()[['count']].item()"
   ]
  },
  {
   "cell_type": "code",
   "execution_count": 152,
   "id": "267c2972-a683-4459-ab72-fd0ad66a87b2",
   "metadata": {},
   "outputs": [],
   "source": [
    "adult_eq = adult.groupby(['sex', 'eq_change']).count()[['biased_pred']].rename({'biased_pred':'count'}, axis=1).reset_index()\n",
    "adult_eq_useless = adult_eq[((adult_eq.sex=='Female') & (adult_eq.eq_change==-1.0)) |\n",
    "                             ((adult_eq.sex=='Male') & (adult_eq.eq_change==1.0))].sum()[['count']].item()"
   ]
  },
  {
   "cell_type": "code",
   "execution_count": 162,
   "id": "b773f570-d5e5-4dc5-8b77-872104ab5d58",
   "metadata": {},
   "outputs": [
    {
     "data": {
      "text/plain": [
       "<AxesSubplot: xlabel='method', ylabel='percent'>"
      ]
     },
     "execution_count": 162,
     "metadata": {},
     "output_type": "execute_result"
    },
    {
     "data": {
      "image/png": "[encoded data removed]",
      "text/plain": [
       "<Figure size 432x288 with 1 Axes>"
      ]
     },
     "metadata": {},
     "output_type": "display_data"
    }
   ],
   "source": [
    "useless_adult = pd.DataFrame({\n",
    "    'method': ['Adversarial', 'LFR', 'Equal Odds'],\n",
    "    'percent': [adult_adv_useless/len(adult)*100, adult_lfr_useless/len(adult)*100, adult_eq_useless/len(adult)*100],\n",
    "    'dataset': 'Adult'\n",
    "})\n",
    "\n",
    "sns.barplot(useless_adult, x='method', y='percent')"
   ]
  },
  {
   "cell_type": "code",
   "execution_count": 158,
   "id": "7772024d-9e73-4887-af7a-3aaf706b2c02",
   "metadata": {},
   "outputs": [],
   "source": [
    "dutch_adv = dutch.groupby(['sex', 'adv_change']).count()[['biased_pred']].rename({'biased_pred':'count'}, axis=1).reset_index()\n",
    "\n",
    "dutch_adv_useless = dutch_adv[((dutch_adv.sex==0) & (dutch_adv.adv_change==-1.0)) |\n",
    "                              ((dutch_adv.sex==1) & (dutch_adv.adv_change==1.0))].sum()[['count']].item()"
   ]
  },
  {
   "cell_type": "code",
   "execution_count": 159,
   "id": "813984cc-3794-4f66-9437-7d3fd2b6c107",
   "metadata": {},
   "outputs": [],
   "source": [
    "dutch_lfr = dutch.groupby(['sex', 'lfr_change']).count()[['biased_pred']].rename({'biased_pred':'count'}, axis=1).reset_index()\n",
    "\n",
    "dutch_lfr_useless = dutch_lfr[((dutch_lfr.sex==0) & (dutch_lfr.lfr_change==-1.0)) |\n",
    "                              ((dutch_lfr.sex==1) & (dutch_lfr.lfr_change==1.0))].sum()[['count']].item()"
   ]
  },
  {
   "cell_type": "code",
   "execution_count": 163,
   "id": "be2df918-16fc-4843-82ba-049bc8c4983f",
   "metadata": {},
   "outputs": [
    {
     "data": {
      "text/plain": [
       "<AxesSubplot: xlabel='method', ylabel='percent'>"
      ]
     },
     "execution_count": 163,
     "metadata": {},
     "output_type": "execute_result"
    },
    {
     "data": {
      "image/png": "[encoded data removed]",
      "text/plain": [
       "<Figure size 432x288 with 1 Axes>"
      ]
     },
     "metadata": {},
     "output_type": "display_data"
    }
   ],
   "source": [
    "useless_dutch = pd.DataFrame({\n",
    "    'method': ['Adversarial', 'LFR', 'Equal Odds'],\n",
    "    'percent': [dutch_adv_useless/len(dutch)*100, dutch_lfr_useless/len(dutch)*100, 0],\n",
    "    'dataset': 'Dutch'\n",
    "})\n",
    "\n",
    "sns.barplot(useless_dutch, x='method', y='percent')"
   ]
  },
  {
   "cell_type": "code",
   "execution_count": 168,
   "id": "c976eec2-1758-43e1-ac6e-9238373f46e3",
   "metadata": {},
   "outputs": [
    {
     "data": {
      "image/png": "[encoded data removed]",
      "text/plain": [
       "<Figure size 648x432 with 1 Axes>"
      ]
     },
     "metadata": {},
     "output_type": "display_data"
    }
   ],
   "source": [
    "plot_df = pd.concat([useless_dutch, useless_adult])\n",
    "\n",
    "fig, axs = plt.subplots(1,1,figsize=(9,6))\n",
    "\n",
    "sns.barplot(data=plot_df, x='dataset', y='percent', hue='method', ax=axs)\n",
    "\n",
    "plt.savefig('../figs/prez/useless.png')"
   ]
  },
  {
   "cell_type": "code",
   "execution_count": 173,
   "id": "b66aa0b5-a9a1-44ec-b894-108555f0c1a7",
   "metadata": {},
   "outputs": [],
   "source": [
    "compas_union = compas[(compas.adv_change!=0) | (compas.lfr_change!=0) | (compas.eq_change!=0)]\n",
    "compas_intersection = compas[(compas.adv_change!=0) & (compas.lfr_change!=0) & (compas.eq_change!=0)]"
   ]
  },
  {
   "cell_type": "code",
   "execution_count": 175,
   "id": "653860b6-3e17-45d5-a509-e890e09388c6",
   "metadata": {},
   "outputs": [
    {
     "data": {
      "text/plain": [
       "2.2222222222222223"
      ]
     },
     "execution_count": 175,
     "metadata": {},
     "output_type": "execute_result"
    }
   ],
   "source": [
    "len(compas_intersection) / len(compas_union) * 100"
   ]
  },
  {
   "cell_type": "code",
   "execution_count": 178,
   "id": "7b863a71-5c80-4c5b-92ab-d6136175e2ac",
   "metadata": {},
   "outputs": [
    {
     "data": {
      "text/plain": [
       "22"
      ]
     },
     "execution_count": 178,
     "metadata": {},
     "output_type": "execute_result"
    }
   ],
   "source": [
    "len(compas_intersection)"
   ]
  },
  {
   "cell_type": "code",
   "execution_count": 179,
   "id": "8c14c589-11f5-4db1-aaf3-2cf0db12dee1",
   "metadata": {},
   "outputs": [
    {
     "data": {
      "text/plain": [
       "990"
      ]
     },
     "execution_count": 179,
     "metadata": {},
     "output_type": "execute_result"
    }
   ],
   "source": [
    "len(compas_union)"
   ]
  },
  {
   "cell_type": "code",
   "execution_count": null,
   "id": "e36d9974-821f-423b-95f6-dccd90f398c3",
   "metadata": {},
   "outputs": [],
   "source": []
  }
 ],
 "metadata": {
  "kernelspec": {
   "display_name": "myenv",
   "language": "python",
   "name": "myenv"
  },
  "language_info": {
   "codemirror_mode": {
    "name": "ipython",
    "version": 3
   },
   "file_extension": ".py",
   "mimetype": "text/x-python",
   "name": "python",
   "nbconvert_exporter": "python",
   "pygments_lexer": "ipython3",
   "version": "3.10.6"
  }
 },
 "nbformat": 4,
 "nbformat_minor": 5
}
