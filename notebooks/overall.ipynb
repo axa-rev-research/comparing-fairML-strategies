{
 "cells": [
  {
   "cell_type": "markdown",
   "id": "e3b224f8-bc8c-4e16-89eb-c24ce1762604",
   "metadata": {
    "tags": []
   },
   "source": [
    "# Imports"
   ]
  },
  {
   "cell_type": "code",
   "execution_count": 1,
   "id": "3d5e8cf9-0bde-4110-a914-85d3f4cecc35",
   "metadata": {},
   "outputs": [],
   "source": [
    "# HIDE\n",
    "%load_ext autoreload\n",
    "%autoreload 2"
   ]
  },
  {
   "cell_type": "code",
   "execution_count": 2,
   "id": "f5513f00-97d9-4888-9522-c3bb0cfc13e2",
   "metadata": {},
   "outputs": [],
   "source": [
    "import sys\n",
    "sys.path.append('../')\n",
    "sys.path.append('../../')"
   ]
  },
  {
   "cell_type": "code",
   "execution_count": 4,
   "id": "a0743ac2-fb8a-4414-bd81-57660fdd4e2b",
   "metadata": {
    "tags": []
   },
   "outputs": [
    {
     "name": "stderr",
     "output_type": "stream",
     "text": [
      "WARNING:root:No module named 'tempeh': LawSchoolGPADataset will be unavailable. To install, run:\n",
      "pip install 'aif360[LawSchoolGPA]'\n",
      "2023-01-06 14:55:29.186113: I tensorflow/core/platform/cpu_feature_guard.cc:193] This TensorFlow binary is optimized with oneAPI Deep Neural Network Library (oneDNN) to use the following CPU instructions in performance-critical operations:  AVX2 FMA\n",
      "To enable them in other operations, rebuild TensorFlow with the appropriate compiler flags.\n",
      "WARNING:root:No module named 'fairlearn': ExponentiatedGradientReduction will be unavailable. To install, run:\n",
      "pip install 'aif360[Reductions]'\n",
      "WARNING:root:No module named 'fairlearn': GridSearchReduction will be unavailable. To install, run:\n",
      "pip install 'aif360[Reductions]'\n",
      "WARNING:root:No module named 'fairlearn': GridSearchReduction will be unavailable. To install, run:\n",
      "pip install 'aif360[Reductions]'\n"
     ]
    }
   ],
   "source": [
    "import matplotlib.pyplot as plt\n",
    "import numpy as np\n",
    "\n",
    "import pandas as pd\n",
    "import seaborn as sns\n",
    "import torch\n",
    "import torch.nn as nn\n",
    "import torch.optim as t_optim\n",
    "#import skorch\n",
    "import pickle\n",
    "from IPython import display\n",
    "from sklearn.ensemble import HistGradientBoostingClassifier\n",
    "from sklearn.ensemble import RandomForestClassifier\n",
    "from sklearn import metrics\n",
    "from sklearn.model_selection import train_test_split\n",
    "from sklearn.preprocessing import StandardScaler\n",
    "from sklearn.utils.class_weight import compute_class_weight\n",
    "from torch.utils.data import TensorDataset\n",
    "from torch.utils.data import DataLoader\n",
    "#from cont_metrics.density_estimation.pytorch_kde import kde\n",
    "#from cont_metrics.hgr import hgr_cond\n",
    "#from cont_metrics.hgr import hgr\n",
    "import aif360 as aif\n",
    "\n",
    "from fairness.helpers import load_ICU_data\n",
    "from fairness.helpers import plot_distributions\n",
    "from fairness.helpers import *\n",
    "\n",
    "#from fairlearn.postprocessing import ThresholdOptimizer\n",
    "#from fairlearn.postprocessing import plot_threshold_optimizer\n",
    "\n",
    "from fairness.avd_helpers import *\n",
    "\n",
    "#from aif360.algorithms.postprocessing import *\n",
    "import aif360\n",
    "from aif360.datasets import CompasDataset\n",
    "from aif360.algorithms.inprocessing import AdversarialDebiasing\n",
    "#from comet_ml import Experiment\n",
    "import tensorflow.compat.v1 as tf\n",
    "from aif360.datasets import BinaryLabelDataset\n",
    "from aif360.algorithms.preprocessing import LFR\n",
    "\n",
    "torch.manual_seed(1)\n",
    "np.random.seed(7)\n",
    "sns.set(style=\"white\", palette=\"colorblind\", color_codes=True, context=\"talk\")\n",
    "sns.set_theme()\n",
    "\n",
    "tf.disable_eager_execution()\n",
    "\n",
    "%matplotlib inline"
   ]
  },
  {
   "cell_type": "markdown",
   "id": "fe581abc-ecb0-4ff2-a140-bdd23a484f17",
   "metadata": {},
   "source": [
    "# Comparisons"
   ]
  },
  {
   "cell_type": "code",
   "execution_count": 25,
   "id": "4abdd460-6c3b-42ae-8f70-ae361ef82bd5",
   "metadata": {},
   "outputs": [
    {
     "data": {
      "text/html": [
       "<div>\n",
       "<style scoped>\n",
       "    .dataframe tbody tr th:only-of-type {\n",
       "        vertical-align: middle;\n",
       "    }\n",
       "\n",
       "    .dataframe tbody tr th {\n",
       "        vertical-align: top;\n",
       "    }\n",
       "\n",
       "    .dataframe thead th {\n",
       "        text-align: right;\n",
       "    }\n",
       "</style>\n",
       "<table border=\"1\" class=\"dataframe\">\n",
       "  <thead>\n",
       "    <tr style=\"text-align: right;\">\n",
       "      <th></th>\n",
       "      <th>sex</th>\n",
       "      <th>biased_pred</th>\n",
       "      <th>lfr_pred</th>\n",
       "      <th>adv_pred</th>\n",
       "      <th>roc_pred</th>\n",
       "      <th>adv_change</th>\n",
       "      <th>lfr_change</th>\n",
       "      <th>roc_change</th>\n",
       "    </tr>\n",
       "    <tr>\n",
       "      <th>index</th>\n",
       "      <th></th>\n",
       "      <th></th>\n",
       "      <th></th>\n",
       "      <th></th>\n",
       "      <th></th>\n",
       "      <th></th>\n",
       "      <th></th>\n",
       "      <th></th>\n",
       "    </tr>\n",
       "  </thead>\n",
       "  <tbody>\n",
       "    <tr>\n",
       "      <th>6235</th>\n",
       "      <td>1</td>\n",
       "      <td>0</td>\n",
       "      <td>0</td>\n",
       "      <td>0</td>\n",
       "      <td>0.0</td>\n",
       "      <td>0</td>\n",
       "      <td>0</td>\n",
       "      <td>0.0</td>\n",
       "    </tr>\n",
       "    <tr>\n",
       "      <th>49276</th>\n",
       "      <td>0</td>\n",
       "      <td>0</td>\n",
       "      <td>0</td>\n",
       "      <td>0</td>\n",
       "      <td>0.0</td>\n",
       "      <td>0</td>\n",
       "      <td>0</td>\n",
       "      <td>0.0</td>\n",
       "    </tr>\n",
       "    <tr>\n",
       "      <th>7891</th>\n",
       "      <td>0</td>\n",
       "      <td>0</td>\n",
       "      <td>0</td>\n",
       "      <td>0</td>\n",
       "      <td>0.0</td>\n",
       "      <td>0</td>\n",
       "      <td>0</td>\n",
       "      <td>0.0</td>\n",
       "    </tr>\n",
       "    <tr>\n",
       "      <th>17572</th>\n",
       "      <td>1</td>\n",
       "      <td>1</td>\n",
       "      <td>1</td>\n",
       "      <td>1</td>\n",
       "      <td>1.0</td>\n",
       "      <td>0</td>\n",
       "      <td>0</td>\n",
       "      <td>0.0</td>\n",
       "    </tr>\n",
       "    <tr>\n",
       "      <th>34628</th>\n",
       "      <td>0</td>\n",
       "      <td>0</td>\n",
       "      <td>0</td>\n",
       "      <td>0</td>\n",
       "      <td>0.0</td>\n",
       "      <td>0</td>\n",
       "      <td>0</td>\n",
       "      <td>0.0</td>\n",
       "    </tr>\n",
       "  </tbody>\n",
       "</table>\n",
       "</div>"
      ],
      "text/plain": [
       "       sex  biased_pred  lfr_pred  adv_pred  roc_pred  adv_change  lfr_change  \\\n",
       "index                                                                           \n",
       "6235     1            0         0         0       0.0           0           0   \n",
       "49276    0            0         0         0       0.0           0           0   \n",
       "7891     0            0         0         0       0.0           0           0   \n",
       "17572    1            1         1         1       1.0           0           0   \n",
       "34628    0            0         0         0       0.0           0           0   \n",
       "\n",
       "       roc_change  \n",
       "index              \n",
       "6235          0.0  \n",
       "49276         0.0  \n",
       "7891          0.0  \n",
       "17572         0.0  \n",
       "34628         0.0  "
      ]
     },
     "execution_count": 25,
     "metadata": {},
     "output_type": "execute_result"
    }
   ],
   "source": [
    "adult = pd.read_csv('../results/adult/test_results_6_jan.csv').rename({'Unnamed: 0': 'index'}, axis=1).set_index('index')\\\n",
    "        [['sex', 'target', 'biased_label', 'adv_pred', 'lfr_pred', 'roc_pred']]\n",
    "\n",
    "compas = pd.read_csv('../results/compas/test_results.csv').rename({'Unnamed: 0': 'index'}, axis=1).set_index('index')\\\n",
    "        .drop(columns=['target', 'adveq_pred', 'adveq_change', 'eq_eo_pred', 'eq_eo_change'])\n",
    "\n",
    "dutch = pd.read_csv('../results/dutch/preds_2.csv').rename({'Unnamed: 0': 'index'}, axis=1).set_index('index')\\\n",
    "        .drop(columns=['target', 'eq_pred', 'eq_change'])\n",
    "dutch.head()"
   ]
  },
  {
   "cell_type": "code",
   "execution_count": 29,
   "id": "07126a81-6181-47f4-9b07-30f368d78791",
   "metadata": {},
   "outputs": [],
   "source": [
    "adult = adult.assign(\n",
    "    adv_change = adult.adv_pred - adult.biased_label,\n",
    "    lfr_change = adult.lfr_pred - adult.biased_label,\n",
    "    roc_change = adult.roc_pred - adult.biased_label\n",
    ")"
   ]
  },
  {
   "cell_type": "code",
   "execution_count": 30,
   "id": "f1f1b7a1-25fd-4c9c-b701-ca419dd3a963",
   "metadata": {},
   "outputs": [],
   "source": [
    "dutch_lfr = len(dutch[dutch.lfr_change!=0]) / len(dutch) * 100\n",
    "dutch_adv = len(dutch[dutch.adv_change!=0]) / len(dutch) * 100\n",
    "dutch_roc = len(dutch[dutch.roc_change!=0]) / len(dutch) * 100"
   ]
  },
  {
   "cell_type": "code",
   "execution_count": 31,
   "id": "db864c8a-980d-4d3f-b32a-2a7e8f1d5c5d",
   "metadata": {},
   "outputs": [],
   "source": [
    "adult_lfr = len(adult[adult.lfr_change!=0]) / len(adult) * 100\n",
    "adult_adv = len(adult[adult.adv_change!=0]) / len(adult) * 100\n",
    "adult_roc = len(adult[adult.roc_change!=0]) / len(adult) * 100"
   ]
  },
  {
   "cell_type": "code",
   "execution_count": 32,
   "id": "ebca714b-ad9b-48e4-8b1d-2032a381d8f3",
   "metadata": {},
   "outputs": [],
   "source": [
    "compas_lfr = len(compas[compas.lfr_change!=0]) / len(compas) * 100\n",
    "compas_adv = len(compas[compas.adv_change!=0]) / len(compas) * 100\n",
    "compas_roc = len(compas[compas.roc_change!=0]) / len(compas) * 100"
   ]
  },
  {
   "cell_type": "code",
   "execution_count": 47,
   "id": "f323faeb-390a-478b-9a6e-a1d7eafb0ac0",
   "metadata": {},
   "outputs": [],
   "source": [
    "dnum = pd.DataFrame({\n",
    "    'method': ['LFR', 'Adversarial', 'ROC'],\n",
    "    'dataset': 'Dutch Census',\n",
    "    'predictions changed': [dutch_lfr, dutch_adv, dutch_roc]\n",
    "})\n",
    "\n",
    "anum = pd.DataFrame({\n",
    "    'method': ['LFR', 'Adversarial', 'ROC'],\n",
    "    'dataset': 'Adult',\n",
    "    'predictions changed': [adult_lfr, adult_adv, adult_roc]\n",
    "})\n",
    "\n",
    "cnum = pd.DataFrame({\n",
    "    'method': ['LFR', 'Adversarial', 'ROC'],\n",
    "    'dataset': 'Compas',\n",
    "    'predictions changed': [compas_lfr, compas_adv, compas_roc]\n",
    "})"
   ]
  },
  {
   "cell_type": "code",
   "execution_count": 48,
   "id": "192aa2c7-366f-4956-956a-7de42589f6e1",
   "metadata": {},
   "outputs": [
    {
     "data": {
      "text/html": [
       "<div>\n",
       "<style scoped>\n",
       "    .dataframe tbody tr th:only-of-type {\n",
       "        vertical-align: middle;\n",
       "    }\n",
       "\n",
       "    .dataframe tbody tr th {\n",
       "        vertical-align: top;\n",
       "    }\n",
       "\n",
       "    .dataframe thead th {\n",
       "        text-align: right;\n",
       "    }\n",
       "</style>\n",
       "<table border=\"1\" class=\"dataframe\">\n",
       "  <thead>\n",
       "    <tr style=\"text-align: right;\">\n",
       "      <th></th>\n",
       "      <th>method</th>\n",
       "      <th>dataset</th>\n",
       "      <th>predictions changed</th>\n",
       "    </tr>\n",
       "  </thead>\n",
       "  <tbody>\n",
       "    <tr>\n",
       "      <th>0</th>\n",
       "      <td>LFR</td>\n",
       "      <td>Dutch Census</td>\n",
       "      <td>20.357498</td>\n",
       "    </tr>\n",
       "    <tr>\n",
       "      <th>1</th>\n",
       "      <td>Adversarial</td>\n",
       "      <td>Dutch Census</td>\n",
       "      <td>23.730553</td>\n",
       "    </tr>\n",
       "    <tr>\n",
       "      <th>2</th>\n",
       "      <td>ROC</td>\n",
       "      <td>Dutch Census</td>\n",
       "      <td>17.242635</td>\n",
       "    </tr>\n",
       "    <tr>\n",
       "      <th>0</th>\n",
       "      <td>LFR</td>\n",
       "      <td>Adult</td>\n",
       "      <td>12.237999</td>\n",
       "    </tr>\n",
       "    <tr>\n",
       "      <th>1</th>\n",
       "      <td>Adversarial</td>\n",
       "      <td>Adult</td>\n",
       "      <td>10.228041</td>\n",
       "    </tr>\n",
       "    <tr>\n",
       "      <th>2</th>\n",
       "      <td>ROC</td>\n",
       "      <td>Adult</td>\n",
       "      <td>12.403958</td>\n",
       "    </tr>\n",
       "    <tr>\n",
       "      <th>0</th>\n",
       "      <td>LFR</td>\n",
       "      <td>Compas</td>\n",
       "      <td>18.681319</td>\n",
       "    </tr>\n",
       "    <tr>\n",
       "      <th>1</th>\n",
       "      <td>Adversarial</td>\n",
       "      <td>Compas</td>\n",
       "      <td>15.308829</td>\n",
       "    </tr>\n",
       "    <tr>\n",
       "      <th>2</th>\n",
       "      <td>ROC</td>\n",
       "      <td>Compas</td>\n",
       "      <td>12.580523</td>\n",
       "    </tr>\n",
       "  </tbody>\n",
       "</table>\n",
       "</div>"
      ],
      "text/plain": [
       "        method       dataset  predictions changed\n",
       "0          LFR  Dutch Census            20.357498\n",
       "1  Adversarial  Dutch Census            23.730553\n",
       "2          ROC  Dutch Census            17.242635\n",
       "0          LFR         Adult            12.237999\n",
       "1  Adversarial         Adult            10.228041\n",
       "2          ROC         Adult            12.403958\n",
       "0          LFR        Compas            18.681319\n",
       "1  Adversarial        Compas            15.308829\n",
       "2          ROC        Compas            12.580523"
      ]
     },
     "execution_count": 48,
     "metadata": {},
     "output_type": "execute_result"
    }
   ],
   "source": [
    "pd.concat([dnum, anum, cnum])"
   ]
  },
  {
   "cell_type": "code",
   "execution_count": 70,
   "id": "47cd4780-53c1-4d37-8134-679b388aba23",
   "metadata": {},
   "outputs": [
    {
     "data": {
      "image/png": "[encoded data removed]",
      "text/plain": [
       "<Figure size 1200x700 with 1 Axes>"
      ]
     },
     "metadata": {},
     "output_type": "display_data"
    }
   ],
   "source": [
    "fig, axs = plt.subplots(1,1,figsize=(12,7))\n",
    "\n",
    "sns.barplot(data=pd.concat([dnum, anum, cnum]), x='dataset', y='predictions changed', hue='method', ax=axs)\n",
    "\n",
    "axs.set_ylabel('%')\n",
    "axs.set_xlabel('Dataset')\n",
    "\n",
    "axs.set_title('Percentage of predictions changed by each method, across 3 datasets')\n",
    "\n",
    "plt.savefig('../figs/prez/changed_datasets_6_jan.png')"
   ]
  },
  {
   "cell_type": "code",
   "execution_count": 50,
   "id": "6bddbfe2-1648-4af7-839e-a415917df1ad",
   "metadata": {},
   "outputs": [],
   "source": [
    "plot_df = pd.concat([dnum, anum, cnum])\n",
    "plot_df.index = range(len(plot_df))"
   ]
  },
  {
   "cell_type": "code",
   "execution_count": 51,
   "id": "29af6f32-d2c3-4d50-960f-313a214c0246",
   "metadata": {},
   "outputs": [
    {
     "data": {
      "text/html": [
       "<div>\n",
       "<style scoped>\n",
       "    .dataframe tbody tr th:only-of-type {\n",
       "        vertical-align: middle;\n",
       "    }\n",
       "\n",
       "    .dataframe tbody tr th {\n",
       "        vertical-align: top;\n",
       "    }\n",
       "\n",
       "    .dataframe thead th {\n",
       "        text-align: right;\n",
       "    }\n",
       "</style>\n",
       "<table border=\"1\" class=\"dataframe\">\n",
       "  <thead>\n",
       "    <tr style=\"text-align: right;\">\n",
       "      <th></th>\n",
       "      <th>method</th>\n",
       "      <th>dataset</th>\n",
       "      <th>predictions changed</th>\n",
       "    </tr>\n",
       "  </thead>\n",
       "  <tbody>\n",
       "    <tr>\n",
       "      <th>0</th>\n",
       "      <td>LFR</td>\n",
       "      <td>Dutch Census</td>\n",
       "      <td>20.357498</td>\n",
       "    </tr>\n",
       "    <tr>\n",
       "      <th>1</th>\n",
       "      <td>Adversarial</td>\n",
       "      <td>Dutch Census</td>\n",
       "      <td>23.730553</td>\n",
       "    </tr>\n",
       "    <tr>\n",
       "      <th>2</th>\n",
       "      <td>ROC</td>\n",
       "      <td>Dutch Census</td>\n",
       "      <td>17.242635</td>\n",
       "    </tr>\n",
       "    <tr>\n",
       "      <th>3</th>\n",
       "      <td>LFR</td>\n",
       "      <td>Adult</td>\n",
       "      <td>12.237999</td>\n",
       "    </tr>\n",
       "    <tr>\n",
       "      <th>4</th>\n",
       "      <td>Adversarial</td>\n",
       "      <td>Adult</td>\n",
       "      <td>10.228041</td>\n",
       "    </tr>\n",
       "    <tr>\n",
       "      <th>5</th>\n",
       "      <td>ROC</td>\n",
       "      <td>Adult</td>\n",
       "      <td>12.403958</td>\n",
       "    </tr>\n",
       "    <tr>\n",
       "      <th>6</th>\n",
       "      <td>LFR</td>\n",
       "      <td>Compas</td>\n",
       "      <td>18.681319</td>\n",
       "    </tr>\n",
       "    <tr>\n",
       "      <th>7</th>\n",
       "      <td>Adversarial</td>\n",
       "      <td>Compas</td>\n",
       "      <td>15.308829</td>\n",
       "    </tr>\n",
       "    <tr>\n",
       "      <th>8</th>\n",
       "      <td>ROC</td>\n",
       "      <td>Compas</td>\n",
       "      <td>12.580523</td>\n",
       "    </tr>\n",
       "  </tbody>\n",
       "</table>\n",
       "</div>"
      ],
      "text/plain": [
       "        method       dataset  predictions changed\n",
       "0          LFR  Dutch Census            20.357498\n",
       "1  Adversarial  Dutch Census            23.730553\n",
       "2          ROC  Dutch Census            17.242635\n",
       "3          LFR         Adult            12.237999\n",
       "4  Adversarial         Adult            10.228041\n",
       "5          ROC         Adult            12.403958\n",
       "6          LFR        Compas            18.681319\n",
       "7  Adversarial        Compas            15.308829\n",
       "8          ROC        Compas            12.580523"
      ]
     },
     "execution_count": 51,
     "metadata": {},
     "output_type": "execute_result"
    }
   ],
   "source": [
    "plot_df"
   ]
  },
  {
   "cell_type": "code",
   "execution_count": 52,
   "id": "6e83a0cb-79d3-44e8-9e17-ce720765f42f",
   "metadata": {},
   "outputs": [],
   "source": [
    "dutch_inters = len(dutch[(dutch.lfr_change!=0) & (dutch.adv_change!=0) & (dutch.roc_change!=0)]) / len(dutch) * 100\n",
    "dutch_union = len(dutch[(dutch.lfr_change!=0) | (dutch.adv_change!=0) | (dutch.roc_change!=0)]) / len(dutch) * 100\n",
    "\n",
    "adult_inters = len(adult[(adult.lfr_change!=0) & (adult.adv_change!=0) & (adult.roc_change!=0)]) / len(adult) * 100\n",
    "adult_union = len(adult[(adult.lfr_change!=0) | (adult.adv_change!=0) | (adult.roc_change!=0)]) / len(adult) * 100\n",
    "\n",
    "compas_inters = len(compas[(compas.lfr_change!=0) & (compas.adv_change!=0) & (compas.roc_change!=0)]) / len(compas) * 100\n",
    "compas_union = len(compas[(compas.lfr_change!=0) | (compas.adv_change!=0) | (compas.roc_change!=0)]) / len(compas) * 100"
   ]
  },
  {
   "cell_type": "code",
   "execution_count": 55,
   "id": "eef48552-49b4-429c-86de-b3656c72bc13",
   "metadata": {},
   "outputs": [],
   "source": [
    "dutch_inters = len(dutch[(dutch.lfr_change!=0) & (dutch.adv_change!=0) & (dutch.roc_change!=0)])\n",
    "dutch_union = len(dutch[(dutch.lfr_change!=0) | (dutch.adv_change!=0) | (dutch.roc_change!=0)])\n",
    "\n",
    "adult_inters = len(adult[(adult.lfr_change!=0) & (adult.adv_change!=0) & (adult.roc_change!=0)])\n",
    "adult_union = len(adult[(adult.lfr_change!=0) | (adult.adv_change!=0) | (adult.roc_change!=0)])\n",
    "\n",
    "compas_inters = len(compas[(compas.lfr_change!=0) & (compas.adv_change!=0) & (compas.roc_change!=0)])\n",
    "compas_union = len(compas[(compas.lfr_change!=0) | (compas.adv_change!=0) | (compas.roc_change!=0)])\n",
    "\n",
    "dutch_iou = dutch_inters / dutch_union * 100\n",
    "adult_iou = adult_inters / adult_union * 100\n",
    "compas_iou = compas_inters / compas_union * 100"
   ]
  },
  {
   "cell_type": "code",
   "execution_count": 58,
   "id": "8a0cbf85-134c-42b9-bb21-035ebc443847",
   "metadata": {},
   "outputs": [
    {
     "name": "stdout",
     "output_type": "stream",
     "text": [
      "IOU (Dutch) = 22.92%\n",
      "IOU (Adult) = 26.48%\n",
      "IOU (Compas) = 17.89%\n"
     ]
    }
   ],
   "source": [
    "print(f'IOU (Dutch) = {dutch_iou:.2f}%')\n",
    "print(f'IOU (Adult) = {adult_iou:.2f}%')\n",
    "print(f'IOU (Compas) = {compas_iou:.2f}%')"
   ]
  },
  {
   "cell_type": "code",
   "execution_count": 69,
   "id": "b71427f5-b0f6-4683-b5a4-7e99d19eeeae",
   "metadata": {},
   "outputs": [
    {
     "data": {
      "image/png": "[encoded data removed]",
      "text/plain": [
       "<Figure size 1800x900 with 1 Axes>"
      ]
     },
     "metadata": {},
     "output_type": "display_data"
    }
   ],
   "source": [
    "ptdf = pd.DataFrame({\n",
    "    'Dataset': ['Dutch', 'Adult', 'Compas'],\n",
    "    'IOU': [dutch_iou, adult_iou, compas_iou]\n",
    "})\n",
    "\n",
    "fig, axs = plt.subplots(1,1,figsize=(18,9))\n",
    "\n",
    "sns.barplot(data=ptdf, x='Dataset', y='IOU', ax=axs)\n",
    "\n",
    "#plt.setp(axs.get_legend().get_texts(), fontsize='18') # for legend text\n",
    "\n",
    "\n",
    "axs.set_ylabel('%')\n",
    "axs.set_xlabel('')\n",
    "\n",
    "axs.set_title('')\n",
    "plt.savefig('../figs/prez/IOUs.png')"
   ]
  },
  {
   "cell_type": "code",
   "execution_count": 53,
   "id": "5a271435-5800-4589-9585-5316e49a0e13",
   "metadata": {},
   "outputs": [],
   "source": [
    "pltdf = pd.DataFrame({\n",
    "    'method': ['All methods', '≥ 1 method']*3,\n",
    "    'dataset': ['Dutch Census', 'Dutch Census', 'Adult', 'Adult', 'Compas', 'Compas'],\n",
    "    'predictions changed': [dutch_inters, dutch_union, adult_inters, adult_union, compas_inters, compas_union]\n",
    "})"
   ]
  },
  {
   "cell_type": "code",
   "execution_count": 54,
   "id": "f0e67210-a093-4616-98c7-95fb618055e4",
   "metadata": {},
   "outputs": [
    {
     "data": {
      "text/html": [
       "<div>\n",
       "<style scoped>\n",
       "    .dataframe tbody tr th:only-of-type {\n",
       "        vertical-align: middle;\n",
       "    }\n",
       "\n",
       "    .dataframe tbody tr th {\n",
       "        vertical-align: top;\n",
       "    }\n",
       "\n",
       "    .dataframe thead th {\n",
       "        text-align: right;\n",
       "    }\n",
       "</style>\n",
       "<table border=\"1\" class=\"dataframe\">\n",
       "  <thead>\n",
       "    <tr style=\"text-align: right;\">\n",
       "      <th></th>\n",
       "      <th>method</th>\n",
       "      <th>dataset</th>\n",
       "      <th>predictions changed</th>\n",
       "    </tr>\n",
       "  </thead>\n",
       "  <tbody>\n",
       "    <tr>\n",
       "      <th>3</th>\n",
       "      <td>LFR</td>\n",
       "      <td>Adult</td>\n",
       "      <td>12.237999</td>\n",
       "    </tr>\n",
       "    <tr>\n",
       "      <th>4</th>\n",
       "      <td>Adversarial</td>\n",
       "      <td>Adult</td>\n",
       "      <td>10.228041</td>\n",
       "    </tr>\n",
       "    <tr>\n",
       "      <th>5</th>\n",
       "      <td>ROC</td>\n",
       "      <td>Adult</td>\n",
       "      <td>12.403958</td>\n",
       "    </tr>\n",
       "    <tr>\n",
       "      <th>2</th>\n",
       "      <td>All methods</td>\n",
       "      <td>Adult</td>\n",
       "      <td>4.966501</td>\n",
       "    </tr>\n",
       "    <tr>\n",
       "      <th>3</th>\n",
       "      <td>≥ 1 method</td>\n",
       "      <td>Adult</td>\n",
       "      <td>18.753457</td>\n",
       "    </tr>\n",
       "    <tr>\n",
       "      <th>6</th>\n",
       "      <td>LFR</td>\n",
       "      <td>Compas</td>\n",
       "      <td>18.681319</td>\n",
       "    </tr>\n",
       "    <tr>\n",
       "      <th>7</th>\n",
       "      <td>Adversarial</td>\n",
       "      <td>Compas</td>\n",
       "      <td>15.308829</td>\n",
       "    </tr>\n",
       "    <tr>\n",
       "      <th>8</th>\n",
       "      <td>ROC</td>\n",
       "      <td>Compas</td>\n",
       "      <td>12.580523</td>\n",
       "    </tr>\n",
       "    <tr>\n",
       "      <th>4</th>\n",
       "      <td>All methods</td>\n",
       "      <td>Compas</td>\n",
       "      <td>4.433498</td>\n",
       "    </tr>\n",
       "    <tr>\n",
       "      <th>5</th>\n",
       "      <td>≥ 1 method</td>\n",
       "      <td>Compas</td>\n",
       "      <td>24.782114</td>\n",
       "    </tr>\n",
       "    <tr>\n",
       "      <th>0</th>\n",
       "      <td>LFR</td>\n",
       "      <td>Dutch Census</td>\n",
       "      <td>20.357498</td>\n",
       "    </tr>\n",
       "    <tr>\n",
       "      <th>1</th>\n",
       "      <td>Adversarial</td>\n",
       "      <td>Dutch Census</td>\n",
       "      <td>23.730553</td>\n",
       "    </tr>\n",
       "    <tr>\n",
       "      <th>2</th>\n",
       "      <td>ROC</td>\n",
       "      <td>Dutch Census</td>\n",
       "      <td>17.242635</td>\n",
       "    </tr>\n",
       "    <tr>\n",
       "      <th>0</th>\n",
       "      <td>All methods</td>\n",
       "      <td>Dutch Census</td>\n",
       "      <td>9.063224</td>\n",
       "    </tr>\n",
       "    <tr>\n",
       "      <th>1</th>\n",
       "      <td>≥ 1 method</td>\n",
       "      <td>Dutch Census</td>\n",
       "      <td>39.539887</td>\n",
       "    </tr>\n",
       "  </tbody>\n",
       "</table>\n",
       "</div>"
      ],
      "text/plain": [
       "        method       dataset  predictions changed\n",
       "3          LFR         Adult            12.237999\n",
       "4  Adversarial         Adult            10.228041\n",
       "5          ROC         Adult            12.403958\n",
       "2  All methods         Adult             4.966501\n",
       "3   ≥ 1 method         Adult            18.753457\n",
       "6          LFR        Compas            18.681319\n",
       "7  Adversarial        Compas            15.308829\n",
       "8          ROC        Compas            12.580523\n",
       "4  All methods        Compas             4.433498\n",
       "5   ≥ 1 method        Compas            24.782114\n",
       "0          LFR  Dutch Census            20.357498\n",
       "1  Adversarial  Dutch Census            23.730553\n",
       "2          ROC  Dutch Census            17.242635\n",
       "0  All methods  Dutch Census             9.063224\n",
       "1   ≥ 1 method  Dutch Census            39.539887"
      ]
     },
     "execution_count": 54,
     "metadata": {},
     "output_type": "execute_result"
    }
   ],
   "source": [
    "plt_df = pd.concat([plot_df, pltdf]).sort_values(['dataset'])\n",
    "plt_df"
   ]
  },
  {
   "cell_type": "code",
   "execution_count": 68,
   "id": "19e9a4a8-a504-4bb9-bb6e-e5447087f1b3",
   "metadata": {},
   "outputs": [],
   "source": [
    "sns.set(font_scale = 2)\n"
   ]
  },
  {
   "cell_type": "code",
   "execution_count": 134,
   "id": "29fa9fcf-c1dc-4620-96cb-1c2857447ae1",
   "metadata": {},
   "outputs": [
    {
     "data": {
      "image/png": "[encoded data removed]",
      "text/plain": [
       "<Figure size 1296x648 with 1 Axes>"
      ]
     },
     "metadata": {},
     "output_type": "display_data"
    }
   ],
   "source": [
    "fig, axs = plt.subplots(1,1,figsize=(18,9))\n",
    "\n",
    "sns.barplot(data=plt_df, x='dataset', y='predictions changed', hue='method', ax=axs)\n",
    "\n",
    "plt.setp(axs.get_legend().get_texts(), fontsize='18') # for legend text\n",
    "\n",
    "\n",
    "axs.set_ylabel('%')\n",
    "axs.set_xlabel('')\n",
    "\n",
    "axs.set_title('Percentage of predictions changed by each method, across 3 datasets')\n",
    "plt.savefig('../figs/prez/changes_overall.png')"
   ]
  },
  {
   "cell_type": "code",
   "execution_count": 136,
   "id": "a5fc8a81-24a8-4f06-becd-6e784d9dbb63",
   "metadata": {},
   "outputs": [
    {
     "data": {
      "text/html": [
       "<div>\n",
       "<style scoped>\n",
       "    .dataframe tbody tr th:only-of-type {\n",
       "        vertical-align: middle;\n",
       "    }\n",
       "\n",
       "    .dataframe tbody tr th {\n",
       "        vertical-align: top;\n",
       "    }\n",
       "\n",
       "    .dataframe thead th {\n",
       "        text-align: right;\n",
       "    }\n",
       "</style>\n",
       "<table border=\"1\" class=\"dataframe\">\n",
       "  <thead>\n",
       "    <tr style=\"text-align: right;\">\n",
       "      <th></th>\n",
       "      <th>sex</th>\n",
       "      <th>biased_pred</th>\n",
       "      <th>adv_pred</th>\n",
       "      <th>lfr_pred</th>\n",
       "      <th>eq_pred</th>\n",
       "      <th>adv_change</th>\n",
       "      <th>lfr_change</th>\n",
       "      <th>eq_change</th>\n",
       "    </tr>\n",
       "    <tr>\n",
       "      <th>index</th>\n",
       "      <th></th>\n",
       "      <th></th>\n",
       "      <th></th>\n",
       "      <th></th>\n",
       "      <th></th>\n",
       "      <th></th>\n",
       "      <th></th>\n",
       "      <th></th>\n",
       "    </tr>\n",
       "  </thead>\n",
       "  <tbody>\n",
       "    <tr>\n",
       "      <th>258</th>\n",
       "      <td>Female</td>\n",
       "      <td>0</td>\n",
       "      <td>0.0</td>\n",
       "      <td>0</td>\n",
       "      <td>0</td>\n",
       "      <td>0.0</td>\n",
       "      <td>0</td>\n",
       "      <td>0</td>\n",
       "    </tr>\n",
       "    <tr>\n",
       "      <th>26976</th>\n",
       "      <td>Female</td>\n",
       "      <td>0</td>\n",
       "      <td>0.0</td>\n",
       "      <td>0</td>\n",
       "      <td>0</td>\n",
       "      <td>0.0</td>\n",
       "      <td>0</td>\n",
       "      <td>0</td>\n",
       "    </tr>\n",
       "    <tr>\n",
       "      <th>9335</th>\n",
       "      <td>Male</td>\n",
       "      <td>0</td>\n",
       "      <td>0.0</td>\n",
       "      <td>0</td>\n",
       "      <td>0</td>\n",
       "      <td>0.0</td>\n",
       "      <td>0</td>\n",
       "      <td>0</td>\n",
       "    </tr>\n",
       "    <tr>\n",
       "      <th>5764</th>\n",
       "      <td>Male</td>\n",
       "      <td>1</td>\n",
       "      <td>1.0</td>\n",
       "      <td>1</td>\n",
       "      <td>1</td>\n",
       "      <td>0.0</td>\n",
       "      <td>0</td>\n",
       "      <td>0</td>\n",
       "    </tr>\n",
       "    <tr>\n",
       "      <th>28351</th>\n",
       "      <td>Female</td>\n",
       "      <td>0</td>\n",
       "      <td>0.0</td>\n",
       "      <td>0</td>\n",
       "      <td>0</td>\n",
       "      <td>0.0</td>\n",
       "      <td>0</td>\n",
       "      <td>0</td>\n",
       "    </tr>\n",
       "  </tbody>\n",
       "</table>\n",
       "</div>"
      ],
      "text/plain": [
       "          sex  biased_pred  adv_pred  lfr_pred  eq_pred  adv_change  \\\n",
       "index                                                                 \n",
       "258    Female            0       0.0         0        0         0.0   \n",
       "26976  Female            0       0.0         0        0         0.0   \n",
       "9335     Male            0       0.0         0        0         0.0   \n",
       "5764     Male            1       1.0         1        1         0.0   \n",
       "28351  Female            0       0.0         0        0         0.0   \n",
       "\n",
       "       lfr_change  eq_change  \n",
       "index                         \n",
       "258             0          0  \n",
       "26976           0          0  \n",
       "9335            0          0  \n",
       "5764            0          0  \n",
       "28351           0          0  "
      ]
     },
     "execution_count": 136,
     "metadata": {},
     "output_type": "execute_result"
    }
   ],
   "source": [
    "adult.head()"
   ]
  },
  {
   "cell_type": "code",
   "execution_count": 150,
   "id": "e0380d31-bfd9-4404-9475-dae07e7e6be1",
   "metadata": {},
   "outputs": [],
   "source": [
    "adult_adv = adult.groupby(['sex', 'adv_change']).count()[['biased_pred']].rename({'biased_pred':'count'}, axis=1).reset_index()\n",
    "adult_adv_useless = adult_adv[((adult_adv.sex=='Female') & (adult_adv.adv_change==-1.0)) | ((adult_adv.sex=='Male') & (adult_adv.adv_change==1.0))].sum()[['count']].item()"
   ]
  },
  {
   "cell_type": "code",
   "execution_count": 151,
   "id": "f458d98a-47d9-4103-b7c4-fa196a50de3f",
   "metadata": {},
   "outputs": [],
   "source": [
    "adult_lfr = adult.groupby(['sex', 'lfr_change']).count()[['biased_pred']].rename({'biased_pred':'count'}, axis=1).reset_index()\n",
    "adult_lfr_useless = adult_lfr[((adult_lfr.sex=='Female') & (adult_lfr.lfr_change==-1.0)) | ((adult_lfr.sex=='Male') & (adult_lfr.lfr_change==1.0))].sum()[['count']].item()"
   ]
  },
  {
   "cell_type": "code",
   "execution_count": 152,
   "id": "267c2972-a683-4459-ab72-fd0ad66a87b2",
   "metadata": {},
   "outputs": [],
   "source": [
    "adult_eq = adult.groupby(['sex', 'eq_change']).count()[['biased_pred']].rename({'biased_pred':'count'}, axis=1).reset_index()\n",
    "adult_eq_useless = adult_eq[((adult_eq.sex=='Female') & (adult_eq.eq_change==-1.0)) |\n",
    "                             ((adult_eq.sex=='Male') & (adult_eq.eq_change==1.0))].sum()[['count']].item()"
   ]
  },
  {
   "cell_type": "code",
   "execution_count": 162,
   "id": "b773f570-d5e5-4dc5-8b77-872104ab5d58",
   "metadata": {},
   "outputs": [
    {
     "data": {
      "text/plain": [
       "<AxesSubplot: xlabel='method', ylabel='percent'>"
      ]
     },
     "execution_count": 162,
     "metadata": {},
     "output_type": "execute_result"
    },
    {
     "data": {
      "image/png": "[encoded data removed]",
      "text/plain": [
       "<Figure size 432x288 with 1 Axes>"
      ]
     },
     "metadata": {},
     "output_type": "display_data"
    }
   ],
   "source": [
    "useless_adult = pd.DataFrame({\n",
    "    'method': ['Adversarial', 'LFR', 'Equal Odds'],\n",
    "    'percent': [adult_adv_useless/len(adult)*100, adult_lfr_useless/len(adult)*100, adult_eq_useless/len(adult)*100],\n",
    "    'dataset': 'Adult'\n",
    "})\n",
    "\n",
    "sns.barplot(useless_adult, x='method', y='percent')"
   ]
  },
  {
   "cell_type": "code",
   "execution_count": 158,
   "id": "7772024d-9e73-4887-af7a-3aaf706b2c02",
   "metadata": {},
   "outputs": [],
   "source": [
    "dutch_adv = dutch.groupby(['sex', 'adv_change']).count()[['biased_pred']].rename({'biased_pred':'count'}, axis=1).reset_index()\n",
    "\n",
    "dutch_adv_useless = dutch_adv[((dutch_adv.sex==0) & (dutch_adv.adv_change==-1.0)) |\n",
    "                              ((dutch_adv.sex==1) & (dutch_adv.adv_change==1.0))].sum()[['count']].item()"
   ]
  },
  {
   "cell_type": "code",
   "execution_count": 159,
   "id": "813984cc-3794-4f66-9437-7d3fd2b6c107",
   "metadata": {},
   "outputs": [],
   "source": [
    "dutch_lfr = dutch.groupby(['sex', 'lfr_change']).count()[['biased_pred']].rename({'biased_pred':'count'}, axis=1).reset_index()\n",
    "\n",
    "dutch_lfr_useless = dutch_lfr[((dutch_lfr.sex==0) & (dutch_lfr.lfr_change==-1.0)) |\n",
    "                              ((dutch_lfr.sex==1) & (dutch_lfr.lfr_change==1.0))].sum()[['count']].item()"
   ]
  },
  {
   "cell_type": "code",
   "execution_count": 163,
   "id": "be2df918-16fc-4843-82ba-049bc8c4983f",
   "metadata": {},
   "outputs": [
    {
     "data": {
      "text/plain": [
       "<AxesSubplot: xlabel='method', ylabel='percent'>"
      ]
     },
     "execution_count": 163,
     "metadata": {},
     "output_type": "execute_result"
    },
    {
     "data": {
      "image/png": "[encoded data removed]",
      "text/plain": [
       "<Figure size 432x288 with 1 Axes>"
      ]
     },
     "metadata": {},
     "output_type": "display_data"
    }
   ],
   "source": [
    "useless_dutch = pd.DataFrame({\n",
    "    'method': ['Adversarial', 'LFR', 'Equal Odds'],\n",
    "    'percent': [dutch_adv_useless/len(dutch)*100, dutch_lfr_useless/len(dutch)*100, 0],\n",
    "    'dataset': 'Dutch'\n",
    "})\n",
    "\n",
    "sns.barplot(useless_dutch, x='method', y='percent')"
   ]
  },
  {
   "cell_type": "code",
   "execution_count": 168,
   "id": "c976eec2-1758-43e1-ac6e-9238373f46e3",
   "metadata": {},
   "outputs": [
    {
     "data": {
      "image/png": "[encoded data removed]",
      "text/plain": [
       "<Figure size 648x432 with 1 Axes>"
      ]
     },
     "metadata": {},
     "output_type": "display_data"
    }
   ],
   "source": [
    "plot_df = pd.concat([useless_dutch, useless_adult])\n",
    "\n",
    "fig, axs = plt.subplots(1,1,figsize=(9,6))\n",
    "\n",
    "sns.barplot(data=plot_df, x='dataset', y='percent', hue='method', ax=axs)\n",
    "\n",
    "plt.savefig('../figs/prez/useless.png')"
   ]
  },
  {
   "cell_type": "code",
   "execution_count": 173,
   "id": "b66aa0b5-a9a1-44ec-b894-108555f0c1a7",
   "metadata": {},
   "outputs": [],
   "source": [
    "compas_union = compas[(compas.adv_change!=0) | (compas.lfr_change!=0) | (compas.eq_change!=0)]\n",
    "compas_intersection = compas[(compas.adv_change!=0) & (compas.lfr_change!=0) & (compas.eq_change!=0)]"
   ]
  },
  {
   "cell_type": "code",
   "execution_count": 175,
   "id": "653860b6-3e17-45d5-a509-e890e09388c6",
   "metadata": {},
   "outputs": [
    {
     "data": {
      "text/plain": [
       "2.2222222222222223"
      ]
     },
     "execution_count": 175,
     "metadata": {},
     "output_type": "execute_result"
    }
   ],
   "source": [
    "len(compas_intersection) / len(compas_union) * 100"
   ]
  },
  {
   "cell_type": "code",
   "execution_count": 178,
   "id": "7b863a71-5c80-4c5b-92ab-d6136175e2ac",
   "metadata": {},
   "outputs": [
    {
     "data": {
      "text/plain": [
       "22"
      ]
     },
     "execution_count": 178,
     "metadata": {},
     "output_type": "execute_result"
    }
   ],
   "source": [
    "len(compas_intersection)"
   ]
  },
  {
   "cell_type": "code",
   "execution_count": 179,
   "id": "8c14c589-11f5-4db1-aaf3-2cf0db12dee1",
   "metadata": {},
   "outputs": [
    {
     "data": {
      "text/plain": [
       "990"
      ]
     },
     "execution_count": 179,
     "metadata": {},
     "output_type": "execute_result"
    }
   ],
   "source": [
    "len(compas_union)"
   ]
  },
  {
   "cell_type": "code",
   "execution_count": 180,
   "id": "e36d9974-821f-423b-95f6-dccd90f398c3",
   "metadata": {},
   "outputs": [
    {
     "data": {
      "text/html": [
       "<div>\n",
       "<style scoped>\n",
       "    .dataframe tbody tr th:only-of-type {\n",
       "        vertical-align: middle;\n",
       "    }\n",
       "\n",
       "    .dataframe tbody tr th {\n",
       "        vertical-align: top;\n",
       "    }\n",
       "\n",
       "    .dataframe thead th {\n",
       "        text-align: right;\n",
       "    }\n",
       "</style>\n",
       "<table border=\"1\" class=\"dataframe\">\n",
       "  <thead>\n",
       "    <tr style=\"text-align: right;\">\n",
       "      <th></th>\n",
       "      <th>race</th>\n",
       "      <th>biased_pred</th>\n",
       "      <th>lfr_pred</th>\n",
       "      <th>adv_pred</th>\n",
       "      <th>eq_pred</th>\n",
       "      <th>lfr_change</th>\n",
       "      <th>adv_change</th>\n",
       "      <th>eq_change</th>\n",
       "    </tr>\n",
       "    <tr>\n",
       "      <th>index</th>\n",
       "      <th></th>\n",
       "      <th></th>\n",
       "      <th></th>\n",
       "      <th></th>\n",
       "      <th></th>\n",
       "      <th></th>\n",
       "      <th></th>\n",
       "      <th></th>\n",
       "    </tr>\n",
       "  </thead>\n",
       "  <tbody>\n",
       "    <tr>\n",
       "      <th>6401</th>\n",
       "      <td>0</td>\n",
       "      <td>0.0</td>\n",
       "      <td>0.0</td>\n",
       "      <td>1.0</td>\n",
       "      <td>0</td>\n",
       "      <td>0.0</td>\n",
       "      <td>1.0</td>\n",
       "      <td>0.0</td>\n",
       "    </tr>\n",
       "    <tr>\n",
       "      <th>108</th>\n",
       "      <td>1</td>\n",
       "      <td>1.0</td>\n",
       "      <td>1.0</td>\n",
       "      <td>1.0</td>\n",
       "      <td>1</td>\n",
       "      <td>0.0</td>\n",
       "      <td>0.0</td>\n",
       "      <td>0.0</td>\n",
       "    </tr>\n",
       "    <tr>\n",
       "      <th>6770</th>\n",
       "      <td>1</td>\n",
       "      <td>1.0</td>\n",
       "      <td>1.0</td>\n",
       "      <td>1.0</td>\n",
       "      <td>1</td>\n",
       "      <td>0.0</td>\n",
       "      <td>0.0</td>\n",
       "      <td>0.0</td>\n",
       "    </tr>\n",
       "    <tr>\n",
       "      <th>4968</th>\n",
       "      <td>1</td>\n",
       "      <td>1.0</td>\n",
       "      <td>1.0</td>\n",
       "      <td>1.0</td>\n",
       "      <td>1</td>\n",
       "      <td>0.0</td>\n",
       "      <td>0.0</td>\n",
       "      <td>0.0</td>\n",
       "    </tr>\n",
       "    <tr>\n",
       "      <th>890</th>\n",
       "      <td>0</td>\n",
       "      <td>1.0</td>\n",
       "      <td>1.0</td>\n",
       "      <td>1.0</td>\n",
       "      <td>1</td>\n",
       "      <td>0.0</td>\n",
       "      <td>0.0</td>\n",
       "      <td>0.0</td>\n",
       "    </tr>\n",
       "  </tbody>\n",
       "</table>\n",
       "</div>"
      ],
      "text/plain": [
       "       race  biased_pred  lfr_pred  adv_pred  eq_pred  lfr_change  adv_change  \\\n",
       "index                                                                           \n",
       "6401      0          0.0       0.0       1.0        0         0.0         1.0   \n",
       "108       1          1.0       1.0       1.0        1         0.0         0.0   \n",
       "6770      1          1.0       1.0       1.0        1         0.0         0.0   \n",
       "4968      1          1.0       1.0       1.0        1         0.0         0.0   \n",
       "890       0          1.0       1.0       1.0        1         0.0         0.0   \n",
       "\n",
       "       eq_change  \n",
       "index             \n",
       "6401         0.0  \n",
       "108          0.0  \n",
       "6770         0.0  \n",
       "4968         0.0  \n",
       "890          0.0  "
      ]
     },
     "execution_count": 180,
     "metadata": {},
     "output_type": "execute_result"
    }
   ],
   "source": [
    "compas.head()"
   ]
  },
  {
   "cell_type": "code",
   "execution_count": 182,
   "id": "94a1b86b-1baa-4b52-9e6e-b1c386410e2e",
   "metadata": {},
   "outputs": [],
   "source": [
    "compas_df = pd.read_csv('../data/compas/compas-scores-two-years.csv')#[['sex', 'age', 'race', 'juv_fel_count', 'juv_misd_count', 'juv_other_count', 'priors_count', 'c_charge_degree', 'decile_score', 'decile_score.1', 'score_text']]"
   ]
  },
  {
   "cell_type": "code",
   "execution_count": 200,
   "id": "4d19bfff-2c46-4d33-adec-4f05de45aa4b",
   "metadata": {},
   "outputs": [
    {
     "data": {
      "text/html": [
       "<div>\n",
       "<style scoped>\n",
       "    .dataframe tbody tr th:only-of-type {\n",
       "        vertical-align: middle;\n",
       "    }\n",
       "\n",
       "    .dataframe tbody tr th {\n",
       "        vertical-align: top;\n",
       "    }\n",
       "\n",
       "    .dataframe thead th {\n",
       "        text-align: right;\n",
       "    }\n",
       "</style>\n",
       "<table border=\"1\" class=\"dataframe\">\n",
       "  <thead>\n",
       "    <tr style=\"text-align: right;\">\n",
       "      <th></th>\n",
       "      <th>sex</th>\n",
       "      <th>age</th>\n",
       "      <th>race</th>\n",
       "      <th>decile_score</th>\n",
       "      <th>priors_count</th>\n",
       "      <th>score_text</th>\n",
       "      <th>c_charge_degree</th>\n",
       "      <th>juv_fel_count</th>\n",
       "      <th>juv_misd_count</th>\n",
       "      <th>score_factor</th>\n",
       "    </tr>\n",
       "  </thead>\n",
       "  <tbody>\n",
       "    <tr>\n",
       "      <th>1</th>\n",
       "      <td>Male</td>\n",
       "      <td>34</td>\n",
       "      <td>African-American</td>\n",
       "      <td>3</td>\n",
       "      <td>0</td>\n",
       "      <td>Low</td>\n",
       "      <td>Felony</td>\n",
       "      <td>0</td>\n",
       "      <td>0</td>\n",
       "      <td>1</td>\n",
       "    </tr>\n",
       "    <tr>\n",
       "      <th>2</th>\n",
       "      <td>Male</td>\n",
       "      <td>24</td>\n",
       "      <td>African-American</td>\n",
       "      <td>4</td>\n",
       "      <td>4</td>\n",
       "      <td>Low</td>\n",
       "      <td>Felony</td>\n",
       "      <td>0</td>\n",
       "      <td>0</td>\n",
       "      <td>1</td>\n",
       "    </tr>\n",
       "    <tr>\n",
       "      <th>6</th>\n",
       "      <td>Male</td>\n",
       "      <td>41</td>\n",
       "      <td>Caucasian</td>\n",
       "      <td>6</td>\n",
       "      <td>14</td>\n",
       "      <td>Medium</td>\n",
       "      <td>Felony</td>\n",
       "      <td>0</td>\n",
       "      <td>0</td>\n",
       "      <td>0</td>\n",
       "    </tr>\n",
       "    <tr>\n",
       "      <th>8</th>\n",
       "      <td>Female</td>\n",
       "      <td>39</td>\n",
       "      <td>Caucasian</td>\n",
       "      <td>1</td>\n",
       "      <td>0</td>\n",
       "      <td>Low</td>\n",
       "      <td>Misdemeanor</td>\n",
       "      <td>0</td>\n",
       "      <td>0</td>\n",
       "      <td>1</td>\n",
       "    </tr>\n",
       "    <tr>\n",
       "      <th>10</th>\n",
       "      <td>Male</td>\n",
       "      <td>27</td>\n",
       "      <td>Caucasian</td>\n",
       "      <td>4</td>\n",
       "      <td>0</td>\n",
       "      <td>Low</td>\n",
       "      <td>Felony</td>\n",
       "      <td>0</td>\n",
       "      <td>0</td>\n",
       "      <td>1</td>\n",
       "    </tr>\n",
       "  </tbody>\n",
       "</table>\n",
       "</div>"
      ],
      "text/plain": [
       "       sex  age              race  decile_score  priors_count score_text  \\\n",
       "1     Male   34  African-American             3             0        Low   \n",
       "2     Male   24  African-American             4             4        Low   \n",
       "6     Male   41         Caucasian             6            14     Medium   \n",
       "8   Female   39         Caucasian             1             0        Low   \n",
       "10    Male   27         Caucasian             4             0        Low   \n",
       "\n",
       "   c_charge_degree  juv_fel_count  juv_misd_count  score_factor  \n",
       "1           Felony              0               0             1  \n",
       "2           Felony              0               0             1  \n",
       "6           Felony              0               0             0  \n",
       "8      Misdemeanor              0               0             1  \n",
       "10          Felony              0               0             1  "
      ]
     },
     "execution_count": 200,
     "metadata": {},
     "output_type": "execute_result"
    }
   ],
   "source": [
    "dd = compas_df[['sex', 'age', 'age_cat', 'race', 'decile_score', 'priors_count', 'score_text', 'c_charge_degree', 'two_year_recid', 'is_recid', 'days_b_screening_arrest',\n",
    "        'juv_fel_count', 'juv_misd_count']].replace({\n",
    "    'Greater than 45':'Above_FourtyFive',\n",
    "    'Less than 25':'Below_TwentyFive',\n",
    "    '25 - 45': 'Between_25_45',\n",
    "    'M':'Misdemeanor',\n",
    "    'F':'Felony'\n",
    "})#.pipe(pd.get_dummies, drop_first=True)\n",
    "\n",
    "dd = dd[(dd.days_b_screening_arrest <= 30) & (dd.days_b_screening_arrest >=-30)].drop(columns=['days_b_screening_arrest', 'is_recid', 'two_year_recid', 'age_cat']).assign(score_factor = lambda x: x['score_text'].map(lambda y: 1 if y=='Low' else 0))# .pipe(pd.get_dummies, drop_first=True)#.describe()\n",
    "dd = dd[(dd.race=='African-American') | (dd.race=='Caucasian')]\n",
    "dd.head()"
   ]
  },
  {
   "cell_type": "code",
   "execution_count": 201,
   "id": "5f900a54-7382-432b-b9d1-a1f76fd88387",
   "metadata": {},
   "outputs": [],
   "source": [
    "dd = dd.assign(\n",
    "    race = lambda x: (x['race'] == 'Caucasian')*1,\n",
    "    sex = lambda x: (x.sex == 'Male')*1,\n",
    "    felony = lambda x: (x.c_charge_degree == 'Felony')*1\n",
    "         ).drop(columns = ['score_text', 'c_charge_degree'])\n",
    "\n",
    "compas_test = dd.loc[compas.index]"
   ]
  },
  {
   "cell_type": "code",
   "execution_count": 205,
   "id": "96f0f6a6-f1b0-43d5-8e6a-c576ef2cd232",
   "metadata": {},
   "outputs": [],
   "source": [
    "compas_t = pd.concat([compas_test, compas.drop(columns=['race'])], axis=1)"
   ]
  },
  {
   "cell_type": "code",
   "execution_count": 233,
   "id": "cb49e5f0-8acf-485f-a068-e6d068d48da6",
   "metadata": {},
   "outputs": [
    {
     "data": {
      "text/html": [
       "<div>\n",
       "<style scoped>\n",
       "    .dataframe tbody tr th:only-of-type {\n",
       "        vertical-align: middle;\n",
       "    }\n",
       "\n",
       "    .dataframe tbody tr th {\n",
       "        vertical-align: top;\n",
       "    }\n",
       "\n",
       "    .dataframe thead th {\n",
       "        text-align: right;\n",
       "    }\n",
       "</style>\n",
       "<table border=\"1\" class=\"dataframe\">\n",
       "  <thead>\n",
       "    <tr style=\"text-align: right;\">\n",
       "      <th></th>\n",
       "      <th>Age</th>\n",
       "      <th>Priors</th>\n",
       "      <th>Juvenial Felonies</th>\n",
       "      <th>Juvenial Misdemeanors</th>\n",
       "    </tr>\n",
       "  </thead>\n",
       "  <tbody>\n",
       "    <tr>\n",
       "      <th>mean</th>\n",
       "      <td>28.742056</td>\n",
       "      <td>2.31215</td>\n",
       "      <td>0.0</td>\n",
       "      <td>0.005607</td>\n",
       "    </tr>\n",
       "    <tr>\n",
       "      <th>min</th>\n",
       "      <td>19.000000</td>\n",
       "      <td>0.00000</td>\n",
       "      <td>0.0</td>\n",
       "      <td>0.000000</td>\n",
       "    </tr>\n",
       "    <tr>\n",
       "      <th>max</th>\n",
       "      <td>71.000000</td>\n",
       "      <td>14.00000</td>\n",
       "      <td>0.0</td>\n",
       "      <td>1.000000</td>\n",
       "    </tr>\n",
       "  </tbody>\n",
       "</table>\n",
       "</div>"
      ],
      "text/plain": [
       "            Age    Priors  Juvenial Felonies  Juvenial Misdemeanors\n",
       "mean  28.742056   2.31215                0.0               0.005607\n",
       "min   19.000000   0.00000                0.0               0.000000\n",
       "max   71.000000  14.00000                0.0               1.000000"
      ]
     },
     "execution_count": 233,
     "metadata": {},
     "output_type": "execute_result"
    }
   ],
   "source": [
    "a = compas_t[compas_t.lfr_change!=0].describe()[['age', 'priors_count', 'juv_fel_count', 'juv_misd_count']].loc[['mean', 'min', 'max']].rename({\n",
    "                                                                                                       'age':'Age',\n",
    "                                                                                                       'priors_count':'Priors',\n",
    "                                                                                                       'juv_fel_count':'Juvenial Felonies',\n",
    "                                                                                                       'juv_misd_count':'Juvenial Misdemeanors',\n",
    "                                                                                                       'felony':'Felony'}, axis=1)\n",
    "a"
   ]
  },
  {
   "cell_type": "code",
   "execution_count": 234,
   "id": "13b427ae-225f-47e1-b717-8c890bad78cc",
   "metadata": {},
   "outputs": [
    {
     "data": {
      "text/html": [
       "<div>\n",
       "<style scoped>\n",
       "    .dataframe tbody tr th:only-of-type {\n",
       "        vertical-align: middle;\n",
       "    }\n",
       "\n",
       "    .dataframe tbody tr th {\n",
       "        vertical-align: top;\n",
       "    }\n",
       "\n",
       "    .dataframe thead th {\n",
       "        text-align: right;\n",
       "    }\n",
       "</style>\n",
       "<table border=\"1\" class=\"dataframe\">\n",
       "  <thead>\n",
       "    <tr style=\"text-align: right;\">\n",
       "      <th></th>\n",
       "      <th>count</th>\n",
       "    </tr>\n",
       "    <tr>\n",
       "      <th>sex</th>\n",
       "      <th></th>\n",
       "    </tr>\n",
       "  </thead>\n",
       "  <tbody>\n",
       "    <tr>\n",
       "      <th>Female</th>\n",
       "      <td>59</td>\n",
       "    </tr>\n",
       "    <tr>\n",
       "      <th>Male</th>\n",
       "      <td>476</td>\n",
       "    </tr>\n",
       "  </tbody>\n",
       "</table>\n",
       "</div>"
      ],
      "text/plain": [
       "        count\n",
       "sex          \n",
       "Female     59\n",
       "Male      476"
      ]
     },
     "execution_count": 234,
     "metadata": {},
     "output_type": "execute_result"
    }
   ],
   "source": [
    "b = compas_t[compas_t.lfr_change!=0].groupby('sex').count()[['age']].rename({0:'Female', 1:'Male'}).rename({'age':'count'}, axis=1)\n",
    "b"
   ]
  },
  {
   "cell_type": "code",
   "execution_count": 235,
   "id": "f67a6cd1-3bfc-4ab5-ad81-18cda54c191f",
   "metadata": {},
   "outputs": [
    {
     "data": {
      "text/html": [
       "<div>\n",
       "<style scoped>\n",
       "    .dataframe tbody tr th:only-of-type {\n",
       "        vertical-align: middle;\n",
       "    }\n",
       "\n",
       "    .dataframe tbody tr th {\n",
       "        vertical-align: top;\n",
       "    }\n",
       "\n",
       "    .dataframe thead th {\n",
       "        text-align: right;\n",
       "    }\n",
       "</style>\n",
       "<table border=\"1\" class=\"dataframe\">\n",
       "  <thead>\n",
       "    <tr style=\"text-align: right;\">\n",
       "      <th></th>\n",
       "      <th>count</th>\n",
       "    </tr>\n",
       "    <tr>\n",
       "      <th>race</th>\n",
       "      <th></th>\n",
       "    </tr>\n",
       "  </thead>\n",
       "  <tbody>\n",
       "    <tr>\n",
       "      <th>Black</th>\n",
       "      <td>326</td>\n",
       "    </tr>\n",
       "    <tr>\n",
       "      <th>White</th>\n",
       "      <td>209</td>\n",
       "    </tr>\n",
       "  </tbody>\n",
       "</table>\n",
       "</div>"
      ],
      "text/plain": [
       "       count\n",
       "race        \n",
       "Black    326\n",
       "White    209"
      ]
     },
     "execution_count": 235,
     "metadata": {},
     "output_type": "execute_result"
    }
   ],
   "source": [
    "c = compas_t[compas_t.lfr_change!=0].groupby('race').count()[['age']].rename({0:'Black', 1:'White'}).rename({'age':'count'}, axis=1)\n",
    "c"
   ]
  },
  {
   "cell_type": "code",
   "execution_count": 236,
   "id": "5ee5d9bb-2d93-47d6-93d8-0878b9dbea5b",
   "metadata": {},
   "outputs": [
    {
     "data": {
      "text/html": [
       "<div>\n",
       "<style scoped>\n",
       "    .dataframe tbody tr th:only-of-type {\n",
       "        vertical-align: middle;\n",
       "    }\n",
       "\n",
       "    .dataframe tbody tr th {\n",
       "        vertical-align: top;\n",
       "    }\n",
       "\n",
       "    .dataframe thead th {\n",
       "        text-align: right;\n",
       "    }\n",
       "</style>\n",
       "<table border=\"1\" class=\"dataframe\">\n",
       "  <thead>\n",
       "    <tr style=\"text-align: right;\">\n",
       "      <th></th>\n",
       "      <th>count</th>\n",
       "    </tr>\n",
       "    <tr>\n",
       "      <th>felony</th>\n",
       "      <th></th>\n",
       "    </tr>\n",
       "  </thead>\n",
       "  <tbody>\n",
       "    <tr>\n",
       "      <th>0</th>\n",
       "      <td>139</td>\n",
       "    </tr>\n",
       "    <tr>\n",
       "      <th>1</th>\n",
       "      <td>396</td>\n",
       "    </tr>\n",
       "  </tbody>\n",
       "</table>\n",
       "</div>"
      ],
      "text/plain": [
       "        count\n",
       "felony       \n",
       "0         139\n",
       "1         396"
      ]
     },
     "execution_count": 236,
     "metadata": {},
     "output_type": "execute_result"
    }
   ],
   "source": [
    "d = compas_t[compas_t.lfr_change!=0].groupby('felony').count()[['age']].rename({'age':'count'}, axis=1)\n",
    "d"
   ]
  },
  {
   "cell_type": "code",
   "execution_count": 238,
   "id": "97076302-1396-48a9-b058-8e79f55dd522",
   "metadata": {},
   "outputs": [
    {
     "data": {
      "text/html": [
       "<div>\n",
       "<style scoped>\n",
       "    .dataframe tbody tr th:only-of-type {\n",
       "        vertical-align: middle;\n",
       "    }\n",
       "\n",
       "    .dataframe tbody tr th {\n",
       "        vertical-align: top;\n",
       "    }\n",
       "\n",
       "    .dataframe thead th {\n",
       "        text-align: right;\n",
       "    }\n",
       "</style>\n",
       "<table border=\"1\" class=\"dataframe\">\n",
       "  <thead>\n",
       "    <tr style=\"text-align: right;\">\n",
       "      <th></th>\n",
       "      <th>index</th>\n",
       "      <th>Age</th>\n",
       "      <th>Priors</th>\n",
       "      <th>Juvenial Felonies</th>\n",
       "      <th>Juvenial Misdemeanors</th>\n",
       "      <th>sex</th>\n",
       "      <th>count</th>\n",
       "      <th>race</th>\n",
       "      <th>count</th>\n",
       "      <th>felony</th>\n",
       "      <th>count</th>\n",
       "    </tr>\n",
       "  </thead>\n",
       "  <tbody>\n",
       "    <tr>\n",
       "      <th>0</th>\n",
       "      <td>mean</td>\n",
       "      <td>28.742056</td>\n",
       "      <td>2.31215</td>\n",
       "      <td>0.0</td>\n",
       "      <td>0.005607</td>\n",
       "      <td>Female</td>\n",
       "      <td>59.0</td>\n",
       "      <td>Black</td>\n",
       "      <td>326.0</td>\n",
       "      <td>0.0</td>\n",
       "      <td>139.0</td>\n",
       "    </tr>\n",
       "    <tr>\n",
       "      <th>1</th>\n",
       "      <td>min</td>\n",
       "      <td>19.000000</td>\n",
       "      <td>0.00000</td>\n",
       "      <td>0.0</td>\n",
       "      <td>0.000000</td>\n",
       "      <td>Male</td>\n",
       "      <td>476.0</td>\n",
       "      <td>White</td>\n",
       "      <td>209.0</td>\n",
       "      <td>1.0</td>\n",
       "      <td>396.0</td>\n",
       "    </tr>\n",
       "    <tr>\n",
       "      <th>2</th>\n",
       "      <td>max</td>\n",
       "      <td>71.000000</td>\n",
       "      <td>14.00000</td>\n",
       "      <td>0.0</td>\n",
       "      <td>1.000000</td>\n",
       "      <td>NaN</td>\n",
       "      <td>NaN</td>\n",
       "      <td>NaN</td>\n",
       "      <td>NaN</td>\n",
       "      <td>NaN</td>\n",
       "      <td>NaN</td>\n",
       "    </tr>\n",
       "  </tbody>\n",
       "</table>\n",
       "</div>"
      ],
      "text/plain": [
       "  index        Age    Priors  Juvenial Felonies  Juvenial Misdemeanors  \\\n",
       "0  mean  28.742056   2.31215                0.0               0.005607   \n",
       "1   min  19.000000   0.00000                0.0               0.000000   \n",
       "2   max  71.000000  14.00000                0.0               1.000000   \n",
       "\n",
       "      sex  count   race  count  felony  count  \n",
       "0  Female   59.0  Black  326.0     0.0  139.0  \n",
       "1    Male  476.0  White  209.0     1.0  396.0  \n",
       "2     NaN    NaN    NaN    NaN     NaN    NaN  "
      ]
     },
     "execution_count": 238,
     "metadata": {},
     "output_type": "execute_result"
    }
   ],
   "source": [
    "pd.concat([a.reset_index(),b.reset_index(),c.reset_index(),d.reset_index()], axis=1)"
   ]
  },
  {
   "cell_type": "code",
   "execution_count": null,
   "id": "6e4130ab-93a6-461c-9152-9b900e809ba1",
   "metadata": {},
   "outputs": [],
   "source": []
  },
  {
   "cell_type": "code",
   "execution_count": 220,
   "id": "7ed5664b-c7f6-4411-9841-bff904ed417d",
   "metadata": {},
   "outputs": [
    {
     "data": {
      "text/html": [
       "<div>\n",
       "<style scoped>\n",
       "    .dataframe tbody tr th:only-of-type {\n",
       "        vertical-align: middle;\n",
       "    }\n",
       "\n",
       "    .dataframe tbody tr th {\n",
       "        vertical-align: top;\n",
       "    }\n",
       "\n",
       "    .dataframe thead th {\n",
       "        text-align: right;\n",
       "    }\n",
       "</style>\n",
       "<table border=\"1\" class=\"dataframe\">\n",
       "  <thead>\n",
       "    <tr style=\"text-align: right;\">\n",
       "      <th></th>\n",
       "      <th>Age</th>\n",
       "      <th>Priors</th>\n",
       "      <th>Juvenial Felonies</th>\n",
       "      <th>Juvenial Misdemeanors</th>\n",
       "    </tr>\n",
       "  </thead>\n",
       "  <tbody>\n",
       "    <tr>\n",
       "      <th>mean</th>\n",
       "      <td>29.389474</td>\n",
       "      <td>3.647368</td>\n",
       "      <td>0.001754</td>\n",
       "      <td>0.019298</td>\n",
       "    </tr>\n",
       "    <tr>\n",
       "      <th>min</th>\n",
       "      <td>19.000000</td>\n",
       "      <td>0.000000</td>\n",
       "      <td>0.000000</td>\n",
       "      <td>0.000000</td>\n",
       "    </tr>\n",
       "    <tr>\n",
       "      <th>max</th>\n",
       "      <td>69.000000</td>\n",
       "      <td>22.000000</td>\n",
       "      <td>1.000000</td>\n",
       "      <td>1.000000</td>\n",
       "    </tr>\n",
       "  </tbody>\n",
       "</table>\n",
       "</div>"
      ],
      "text/plain": [
       "            Age     Priors  Juvenial Felonies  Juvenial Misdemeanors\n",
       "mean  29.389474   3.647368           0.001754               0.019298\n",
       "min   19.000000   0.000000           0.000000               0.000000\n",
       "max   69.000000  22.000000           1.000000               1.000000"
      ]
     },
     "execution_count": 220,
     "metadata": {},
     "output_type": "execute_result"
    }
   ],
   "source": [
    "compas_t[compas_t.adv_change!=0].describe()[['age', 'priors_count', 'juv_fel_count', 'juv_misd_count']].loc[['mean', 'min', 'max']].rename({\n",
    "                                                                                                       'age':'Age',\n",
    "                                                                                                       'priors_count':'Priors',\n",
    "                                                                                                       'juv_fel_count':'Juvenial Felonies',\n",
    "                                                                                                       'juv_misd_count':'Juvenial Misdemeanors',\n",
    "                                                                                                       'felony':'Felony'}, axis=1)"
   ]
  },
  {
   "cell_type": "code",
   "execution_count": 218,
   "id": "ccb5700e-9848-4f8b-8015-98f4c3fd495b",
   "metadata": {},
   "outputs": [
    {
     "data": {
      "text/html": [
       "<div>\n",
       "<style scoped>\n",
       "    .dataframe tbody tr th:only-of-type {\n",
       "        vertical-align: middle;\n",
       "    }\n",
       "\n",
       "    .dataframe tbody tr th {\n",
       "        vertical-align: top;\n",
       "    }\n",
       "\n",
       "    .dataframe thead th {\n",
       "        text-align: right;\n",
       "    }\n",
       "</style>\n",
       "<table border=\"1\" class=\"dataframe\">\n",
       "  <thead>\n",
       "    <tr style=\"text-align: right;\">\n",
       "      <th></th>\n",
       "      <th>count</th>\n",
       "    </tr>\n",
       "    <tr>\n",
       "      <th>sex</th>\n",
       "      <th></th>\n",
       "    </tr>\n",
       "  </thead>\n",
       "  <tbody>\n",
       "    <tr>\n",
       "      <th>Female</th>\n",
       "      <td>41</td>\n",
       "    </tr>\n",
       "    <tr>\n",
       "      <th>Male</th>\n",
       "      <td>529</td>\n",
       "    </tr>\n",
       "  </tbody>\n",
       "</table>\n",
       "</div>"
      ],
      "text/plain": [
       "        count\n",
       "sex          \n",
       "Female     41\n",
       "Male      529"
      ]
     },
     "execution_count": 218,
     "metadata": {},
     "output_type": "execute_result"
    }
   ],
   "source": [
    "compas_t[compas_t.adv_change!=0].groupby('sex').count()[['age']].rename({0:'Female', 1:'Male'}).rename({'age':'count'}, axis=1)"
   ]
  },
  {
   "cell_type": "code",
   "execution_count": 219,
   "id": "4267f2ad-1cd9-4ffd-9fcb-7a8cf4081411",
   "metadata": {},
   "outputs": [
    {
     "data": {
      "text/html": [
       "<div>\n",
       "<style scoped>\n",
       "    .dataframe tbody tr th:only-of-type {\n",
       "        vertical-align: middle;\n",
       "    }\n",
       "\n",
       "    .dataframe tbody tr th {\n",
       "        vertical-align: top;\n",
       "    }\n",
       "\n",
       "    .dataframe thead th {\n",
       "        text-align: right;\n",
       "    }\n",
       "</style>\n",
       "<table border=\"1\" class=\"dataframe\">\n",
       "  <thead>\n",
       "    <tr style=\"text-align: right;\">\n",
       "      <th></th>\n",
       "      <th>count</th>\n",
       "    </tr>\n",
       "    <tr>\n",
       "      <th>race</th>\n",
       "      <th></th>\n",
       "    </tr>\n",
       "  </thead>\n",
       "  <tbody>\n",
       "    <tr>\n",
       "      <th>Black</th>\n",
       "      <td>518</td>\n",
       "    </tr>\n",
       "    <tr>\n",
       "      <th>White</th>\n",
       "      <td>52</td>\n",
       "    </tr>\n",
       "  </tbody>\n",
       "</table>\n",
       "</div>"
      ],
      "text/plain": [
       "       count\n",
       "race        \n",
       "Black    518\n",
       "White     52"
      ]
     },
     "execution_count": 219,
     "metadata": {},
     "output_type": "execute_result"
    }
   ],
   "source": [
    "compas_t[compas_t.adv_change!=0].groupby('race').count()[['age']].rename({0:'Black', 1:'White'}).rename({'age':'count'}, axis=1)"
   ]
  },
  {
   "cell_type": "code",
   "execution_count": 223,
   "id": "bd1d3dda-545b-49f9-80ec-ed01208edac6",
   "metadata": {},
   "outputs": [
    {
     "data": {
      "text/html": [
       "<div>\n",
       "<style scoped>\n",
       "    .dataframe tbody tr th:only-of-type {\n",
       "        vertical-align: middle;\n",
       "    }\n",
       "\n",
       "    .dataframe tbody tr th {\n",
       "        vertical-align: top;\n",
       "    }\n",
       "\n",
       "    .dataframe thead th {\n",
       "        text-align: right;\n",
       "    }\n",
       "</style>\n",
       "<table border=\"1\" class=\"dataframe\">\n",
       "  <thead>\n",
       "    <tr style=\"text-align: right;\">\n",
       "      <th></th>\n",
       "      <th>count</th>\n",
       "    </tr>\n",
       "    <tr>\n",
       "      <th>felony</th>\n",
       "      <th></th>\n",
       "    </tr>\n",
       "  </thead>\n",
       "  <tbody>\n",
       "    <tr>\n",
       "      <th>0</th>\n",
       "      <td>117</td>\n",
       "    </tr>\n",
       "    <tr>\n",
       "      <th>1</th>\n",
       "      <td>453</td>\n",
       "    </tr>\n",
       "  </tbody>\n",
       "</table>\n",
       "</div>"
      ],
      "text/plain": [
       "        count\n",
       "felony       \n",
       "0         117\n",
       "1         453"
      ]
     },
     "execution_count": 223,
     "metadata": {},
     "output_type": "execute_result"
    }
   ],
   "source": [
    "compas_t[compas_t.adv_change!=0].groupby('felony').count()[['age']].rename({'age':'count'}, axis=1)"
   ]
  },
  {
   "cell_type": "code",
   "execution_count": null,
   "id": "518c0532-d1db-4588-8310-85ca8354f0f2",
   "metadata": {},
   "outputs": [],
   "source": []
  },
  {
   "cell_type": "code",
   "execution_count": 225,
   "id": "a90f8cb8-0a75-4c2d-83a2-262ecdab0b5c",
   "metadata": {},
   "outputs": [
    {
     "data": {
      "text/html": [
       "<div>\n",
       "<style scoped>\n",
       "    .dataframe tbody tr th:only-of-type {\n",
       "        vertical-align: middle;\n",
       "    }\n",
       "\n",
       "    .dataframe tbody tr th {\n",
       "        vertical-align: top;\n",
       "    }\n",
       "\n",
       "    .dataframe thead th {\n",
       "        text-align: right;\n",
       "    }\n",
       "</style>\n",
       "<table border=\"1\" class=\"dataframe\">\n",
       "  <thead>\n",
       "    <tr style=\"text-align: right;\">\n",
       "      <th></th>\n",
       "      <th>Age</th>\n",
       "      <th>Priors</th>\n",
       "      <th>Juvenial Felonies</th>\n",
       "      <th>Juvenial Misdemeanors</th>\n",
       "    </tr>\n",
       "  </thead>\n",
       "  <tbody>\n",
       "    <tr>\n",
       "      <th>mean</th>\n",
       "      <td>40.803977</td>\n",
       "      <td>1.284091</td>\n",
       "      <td>0.0</td>\n",
       "      <td>0.011364</td>\n",
       "    </tr>\n",
       "    <tr>\n",
       "      <th>min</th>\n",
       "      <td>20.000000</td>\n",
       "      <td>0.000000</td>\n",
       "      <td>0.0</td>\n",
       "      <td>0.000000</td>\n",
       "    </tr>\n",
       "    <tr>\n",
       "      <th>max</th>\n",
       "      <td>73.000000</td>\n",
       "      <td>12.000000</td>\n",
       "      <td>0.0</td>\n",
       "      <td>2.000000</td>\n",
       "    </tr>\n",
       "  </tbody>\n",
       "</table>\n",
       "</div>"
      ],
      "text/plain": [
       "            Age     Priors  Juvenial Felonies  Juvenial Misdemeanors\n",
       "mean  40.803977   1.284091                0.0               0.011364\n",
       "min   20.000000   0.000000                0.0               0.000000\n",
       "max   73.000000  12.000000                0.0               2.000000"
      ]
     },
     "execution_count": 225,
     "metadata": {},
     "output_type": "execute_result"
    }
   ],
   "source": [
    "compas_t[compas_t.eq_change!=0].describe()[['age', 'priors_count', 'juv_fel_count', 'juv_misd_count']].loc[['mean', 'min', 'max']].rename({\n",
    "                                                                                                       'age':'Age',\n",
    "                                                                                                       'priors_count':'Priors',\n",
    "                                                                                                       'juv_fel_count':'Juvenial Felonies',\n",
    "                                                                                                       'juv_misd_count':'Juvenial Misdemeanors',\n",
    "                                                                                                       'felony':'Felony'}, axis=1)"
   ]
  },
  {
   "cell_type": "code",
   "execution_count": 228,
   "id": "0e219b33-28e5-4019-b62f-ffdc3e7ee34f",
   "metadata": {},
   "outputs": [
    {
     "data": {
      "text/html": [
       "<div>\n",
       "<style scoped>\n",
       "    .dataframe tbody tr th:only-of-type {\n",
       "        vertical-align: middle;\n",
       "    }\n",
       "\n",
       "    .dataframe tbody tr th {\n",
       "        vertical-align: top;\n",
       "    }\n",
       "\n",
       "    .dataframe thead th {\n",
       "        text-align: right;\n",
       "    }\n",
       "</style>\n",
       "<table border=\"1\" class=\"dataframe\">\n",
       "  <thead>\n",
       "    <tr style=\"text-align: right;\">\n",
       "      <th></th>\n",
       "      <th>count</th>\n",
       "    </tr>\n",
       "    <tr>\n",
       "      <th>sex</th>\n",
       "      <th></th>\n",
       "    </tr>\n",
       "  </thead>\n",
       "  <tbody>\n",
       "    <tr>\n",
       "      <th>Female</th>\n",
       "      <td>57</td>\n",
       "    </tr>\n",
       "    <tr>\n",
       "      <th>Male</th>\n",
       "      <td>295</td>\n",
       "    </tr>\n",
       "  </tbody>\n",
       "</table>\n",
       "</div>"
      ],
      "text/plain": [
       "        count\n",
       "sex          \n",
       "Female     57\n",
       "Male      295"
      ]
     },
     "execution_count": 228,
     "metadata": {},
     "output_type": "execute_result"
    }
   ],
   "source": [
    "compas_t[compas_t.eq_change!=0].groupby('sex').count()[['age']].rename({0:'Female', 1:'Male'}).rename({'age':'count'}, axis=1)"
   ]
  },
  {
   "cell_type": "code",
   "execution_count": 230,
   "id": "569dc1bc-678d-4047-9ad1-64f4afbe459a",
   "metadata": {},
   "outputs": [
    {
     "data": {
      "text/html": [
       "<div>\n",
       "<style scoped>\n",
       "    .dataframe tbody tr th:only-of-type {\n",
       "        vertical-align: middle;\n",
       "    }\n",
       "\n",
       "    .dataframe tbody tr th {\n",
       "        vertical-align: top;\n",
       "    }\n",
       "\n",
       "    .dataframe thead th {\n",
       "        text-align: right;\n",
       "    }\n",
       "</style>\n",
       "<table border=\"1\" class=\"dataframe\">\n",
       "  <thead>\n",
       "    <tr style=\"text-align: right;\">\n",
       "      <th></th>\n",
       "      <th>count</th>\n",
       "    </tr>\n",
       "    <tr>\n",
       "      <th>race</th>\n",
       "      <th></th>\n",
       "    </tr>\n",
       "  </thead>\n",
       "  <tbody>\n",
       "    <tr>\n",
       "      <th>Black</th>\n",
       "      <td>1</td>\n",
       "    </tr>\n",
       "    <tr>\n",
       "      <th>White</th>\n",
       "      <td>351</td>\n",
       "    </tr>\n",
       "  </tbody>\n",
       "</table>\n",
       "</div>"
      ],
      "text/plain": [
       "       count\n",
       "race        \n",
       "Black      1\n",
       "White    351"
      ]
     },
     "execution_count": 230,
     "metadata": {},
     "output_type": "execute_result"
    }
   ],
   "source": [
    "compas_t[compas_t.eq_change!=0].groupby('race').count()[['age']].rename({0:'Black', 1:'White'}).rename({'age':'count'}, axis=1)"
   ]
  },
  {
   "cell_type": "code",
   "execution_count": 231,
   "id": "cf275502-efca-432d-8c9d-ffda0a454b26",
   "metadata": {},
   "outputs": [
    {
     "data": {
      "text/html": [
       "<div>\n",
       "<style scoped>\n",
       "    .dataframe tbody tr th:only-of-type {\n",
       "        vertical-align: middle;\n",
       "    }\n",
       "\n",
       "    .dataframe tbody tr th {\n",
       "        vertical-align: top;\n",
       "    }\n",
       "\n",
       "    .dataframe thead th {\n",
       "        text-align: right;\n",
       "    }\n",
       "</style>\n",
       "<table border=\"1\" class=\"dataframe\">\n",
       "  <thead>\n",
       "    <tr style=\"text-align: right;\">\n",
       "      <th></th>\n",
       "      <th>count</th>\n",
       "    </tr>\n",
       "    <tr>\n",
       "      <th>felony</th>\n",
       "      <th></th>\n",
       "    </tr>\n",
       "  </thead>\n",
       "  <tbody>\n",
       "    <tr>\n",
       "      <th>0</th>\n",
       "      <td>164</td>\n",
       "    </tr>\n",
       "    <tr>\n",
       "      <th>1</th>\n",
       "      <td>188</td>\n",
       "    </tr>\n",
       "  </tbody>\n",
       "</table>\n",
       "</div>"
      ],
      "text/plain": [
       "        count\n",
       "felony       \n",
       "0         164\n",
       "1         188"
      ]
     },
     "execution_count": 231,
     "metadata": {},
     "output_type": "execute_result"
    }
   ],
   "source": [
    "compas_t[compas_t.eq_change!=0].groupby('felony').count()[['age']].rename({'age':'count'}, axis=1)"
   ]
  },
  {
   "cell_type": "code",
   "execution_count": 245,
   "id": "c0d37110-1421-4e74-aa0a-38e0b85b6adb",
   "metadata": {},
   "outputs": [
    {
     "data": {
      "text/html": [
       "<div>\n",
       "<style scoped>\n",
       "    .dataframe tbody tr th:only-of-type {\n",
       "        vertical-align: middle;\n",
       "    }\n",
       "\n",
       "    .dataframe tbody tr th {\n",
       "        vertical-align: top;\n",
       "    }\n",
       "\n",
       "    .dataframe thead th {\n",
       "        text-align: right;\n",
       "    }\n",
       "</style>\n",
       "<table border=\"1\" class=\"dataframe\">\n",
       "  <thead>\n",
       "    <tr style=\"text-align: right;\">\n",
       "      <th></th>\n",
       "      <th></th>\n",
       "      <th>biased_pred</th>\n",
       "    </tr>\n",
       "    <tr>\n",
       "      <th>race</th>\n",
       "      <th>lfr_pred</th>\n",
       "      <th></th>\n",
       "    </tr>\n",
       "  </thead>\n",
       "  <tbody>\n",
       "    <tr>\n",
       "      <th rowspan=\"2\" valign=\"top\">0</th>\n",
       "      <th>0.0</th>\n",
       "      <td>628</td>\n",
       "    </tr>\n",
       "    <tr>\n",
       "      <th>1.0</th>\n",
       "      <td>955</td>\n",
       "    </tr>\n",
       "    <tr>\n",
       "      <th rowspan=\"2\" valign=\"top\">1</th>\n",
       "      <th>0.0</th>\n",
       "      <td>480</td>\n",
       "    </tr>\n",
       "    <tr>\n",
       "      <th>1.0</th>\n",
       "      <td>576</td>\n",
       "    </tr>\n",
       "  </tbody>\n",
       "</table>\n",
       "</div>"
      ],
      "text/plain": [
       "               biased_pred\n",
       "race lfr_pred             \n",
       "0    0.0               628\n",
       "     1.0               955\n",
       "1    0.0               480\n",
       "     1.0               576"
      ]
     },
     "execution_count": 245,
     "metadata": {},
     "output_type": "execute_result"
    }
   ],
   "source": [
    "compas.groupby(['race', 'lfr_pred']).count()[['biased_pred']]"
   ]
  },
  {
   "cell_type": "code",
   "execution_count": 252,
   "id": "370fc2fd-21ab-4489-9114-54c68ac3ca43",
   "metadata": {},
   "outputs": [
    {
     "name": "stdout",
     "output_type": "stream",
     "text": [
      "LFR: 60.33% of black people are in the positive class\n",
      "LFR: 54.55% of white people are in the positive class\n"
     ]
    }
   ],
   "source": [
    "print(f'LFR: {955/(628+955) * 100:.2f}% of black people are in the positive class')\n",
    "print(f'LFR: {576/(576+480) * 100:.2f}% of white people are in the positive class')"
   ]
  },
  {
   "cell_type": "code",
   "execution_count": 246,
   "id": "924f1fe9-7cb5-447b-9a74-d17777e6af6c",
   "metadata": {},
   "outputs": [
    {
     "data": {
      "text/html": [
       "<div>\n",
       "<style scoped>\n",
       "    .dataframe tbody tr th:only-of-type {\n",
       "        vertical-align: middle;\n",
       "    }\n",
       "\n",
       "    .dataframe tbody tr th {\n",
       "        vertical-align: top;\n",
       "    }\n",
       "\n",
       "    .dataframe thead th {\n",
       "        text-align: right;\n",
       "    }\n",
       "</style>\n",
       "<table border=\"1\" class=\"dataframe\">\n",
       "  <thead>\n",
       "    <tr style=\"text-align: right;\">\n",
       "      <th></th>\n",
       "      <th></th>\n",
       "      <th>biased_pred</th>\n",
       "    </tr>\n",
       "    <tr>\n",
       "      <th>race</th>\n",
       "      <th>adv_pred</th>\n",
       "      <th></th>\n",
       "    </tr>\n",
       "  </thead>\n",
       "  <tbody>\n",
       "    <tr>\n",
       "      <th rowspan=\"2\" valign=\"top\">0</th>\n",
       "      <th>0.0</th>\n",
       "      <td>436</td>\n",
       "    </tr>\n",
       "    <tr>\n",
       "      <th>1.0</th>\n",
       "      <td>1147</td>\n",
       "    </tr>\n",
       "    <tr>\n",
       "      <th rowspan=\"2\" valign=\"top\">1</th>\n",
       "      <th>0.0</th>\n",
       "      <td>321</td>\n",
       "    </tr>\n",
       "    <tr>\n",
       "      <th>1.0</th>\n",
       "      <td>735</td>\n",
       "    </tr>\n",
       "  </tbody>\n",
       "</table>\n",
       "</div>"
      ],
      "text/plain": [
       "               biased_pred\n",
       "race adv_pred             \n",
       "0    0.0               436\n",
       "     1.0              1147\n",
       "1    0.0               321\n",
       "     1.0               735"
      ]
     },
     "execution_count": 246,
     "metadata": {},
     "output_type": "execute_result"
    }
   ],
   "source": [
    "compas.groupby(['race', 'adv_pred']).count()[['biased_pred']]"
   ]
  },
  {
   "cell_type": "code",
   "execution_count": 253,
   "id": "372e090a-6a95-47a0-9a83-1aaf2a86e140",
   "metadata": {},
   "outputs": [
    {
     "name": "stdout",
     "output_type": "stream",
     "text": [
      "Adversarial: 72.46% of black people are in the positive class\n",
      "Adversarial: 69.60% of white people are in the positive class\n"
     ]
    }
   ],
   "source": [
    "print(f'Adversarial: {1147/(1147+436) * 100:.2f}% of black people are in the positive class')\n",
    "print(f'Adversarial: {735/(735+321) * 100:.2f}% of white people are in the positive class')"
   ]
  },
  {
   "cell_type": "code",
   "execution_count": 247,
   "id": "05bfb3a0-11ff-4c27-ac7e-6c6e477d504b",
   "metadata": {},
   "outputs": [
    {
     "data": {
      "text/html": [
       "<div>\n",
       "<style scoped>\n",
       "    .dataframe tbody tr th:only-of-type {\n",
       "        vertical-align: middle;\n",
       "    }\n",
       "\n",
       "    .dataframe tbody tr th {\n",
       "        vertical-align: top;\n",
       "    }\n",
       "\n",
       "    .dataframe thead th {\n",
       "        text-align: right;\n",
       "    }\n",
       "</style>\n",
       "<table border=\"1\" class=\"dataframe\">\n",
       "  <thead>\n",
       "    <tr style=\"text-align: right;\">\n",
       "      <th></th>\n",
       "      <th></th>\n",
       "      <th>biased_pred</th>\n",
       "    </tr>\n",
       "    <tr>\n",
       "      <th>race</th>\n",
       "      <th>eq_pred</th>\n",
       "      <th></th>\n",
       "    </tr>\n",
       "  </thead>\n",
       "  <tbody>\n",
       "    <tr>\n",
       "      <th rowspan=\"2\" valign=\"top\">0</th>\n",
       "      <th>0</th>\n",
       "      <td>953</td>\n",
       "    </tr>\n",
       "    <tr>\n",
       "      <th>1</th>\n",
       "      <td>630</td>\n",
       "    </tr>\n",
       "    <tr>\n",
       "      <th rowspan=\"2\" valign=\"top\">1</th>\n",
       "      <th>0</th>\n",
       "      <td>622</td>\n",
       "    </tr>\n",
       "    <tr>\n",
       "      <th>1</th>\n",
       "      <td>434</td>\n",
       "    </tr>\n",
       "  </tbody>\n",
       "</table>\n",
       "</div>"
      ],
      "text/plain": [
       "              biased_pred\n",
       "race eq_pred             \n",
       "0    0                953\n",
       "     1                630\n",
       "1    0                622\n",
       "     1                434"
      ]
     },
     "execution_count": 247,
     "metadata": {},
     "output_type": "execute_result"
    }
   ],
   "source": [
    "compas.groupby(['race', 'eq_pred']).count()[['biased_pred']]"
   ]
  },
  {
   "cell_type": "code",
   "execution_count": 254,
   "id": "e4ea211d-fcbd-4425-8deb-b39cce43cfe7",
   "metadata": {},
   "outputs": [
    {
     "name": "stdout",
     "output_type": "stream",
     "text": [
      "Equal Odds: 39.80% of black people are in the positive class\n",
      "Equal Odds: 41.10% of white people are in the positive class\n"
     ]
    }
   ],
   "source": [
    "print(f'Equal Odds: {630/(630 + 953) * 100:.2f}% of black people are in the positive class')\n",
    "print(f'Equal Odds: {434/(434 + 622) * 100:.2f}% of white people are in the positive class')"
   ]
  },
  {
   "cell_type": "code",
   "execution_count": null,
   "id": "d1ce9c21-e368-4145-b05a-a61ec7e2f9ef",
   "metadata": {},
   "outputs": [],
   "source": []
  },
  {
   "cell_type": "code",
   "execution_count": 255,
   "id": "af30438a-58b2-45ee-a80b-6e6dc0df3b35",
   "metadata": {},
   "outputs": [
    {
     "data": {
      "text/html": [
       "<div>\n",
       "<style scoped>\n",
       "    .dataframe tbody tr th:only-of-type {\n",
       "        vertical-align: middle;\n",
       "    }\n",
       "\n",
       "    .dataframe tbody tr th {\n",
       "        vertical-align: top;\n",
       "    }\n",
       "\n",
       "    .dataframe thead th {\n",
       "        text-align: right;\n",
       "    }\n",
       "</style>\n",
       "<table border=\"1\" class=\"dataframe\">\n",
       "  <thead>\n",
       "    <tr style=\"text-align: right;\">\n",
       "      <th></th>\n",
       "      <th></th>\n",
       "      <th>lfr_pred</th>\n",
       "      <th>adv_pred</th>\n",
       "      <th>eq_pred</th>\n",
       "      <th>lfr_change</th>\n",
       "      <th>adv_change</th>\n",
       "      <th>eq_change</th>\n",
       "    </tr>\n",
       "    <tr>\n",
       "      <th>race</th>\n",
       "      <th>biased_pred</th>\n",
       "      <th></th>\n",
       "      <th></th>\n",
       "      <th></th>\n",
       "      <th></th>\n",
       "      <th></th>\n",
       "      <th></th>\n",
       "    </tr>\n",
       "  </thead>\n",
       "  <tbody>\n",
       "    <tr>\n",
       "      <th rowspan=\"2\" valign=\"top\">0</th>\n",
       "      <th>0.0</th>\n",
       "      <td>954</td>\n",
       "      <td>954</td>\n",
       "      <td>954</td>\n",
       "      <td>954</td>\n",
       "      <td>954</td>\n",
       "      <td>954</td>\n",
       "    </tr>\n",
       "    <tr>\n",
       "      <th>1.0</th>\n",
       "      <td>629</td>\n",
       "      <td>629</td>\n",
       "      <td>629</td>\n",
       "      <td>629</td>\n",
       "      <td>629</td>\n",
       "      <td>629</td>\n",
       "    </tr>\n",
       "    <tr>\n",
       "      <th rowspan=\"2\" valign=\"top\">1</th>\n",
       "      <th>0.0</th>\n",
       "      <td>271</td>\n",
       "      <td>271</td>\n",
       "      <td>271</td>\n",
       "      <td>271</td>\n",
       "      <td>271</td>\n",
       "      <td>271</td>\n",
       "    </tr>\n",
       "    <tr>\n",
       "      <th>1.0</th>\n",
       "      <td>785</td>\n",
       "      <td>785</td>\n",
       "      <td>785</td>\n",
       "      <td>785</td>\n",
       "      <td>785</td>\n",
       "      <td>785</td>\n",
       "    </tr>\n",
       "  </tbody>\n",
       "</table>\n",
       "</div>"
      ],
      "text/plain": [
       "                  lfr_pred  adv_pred  eq_pred  lfr_change  adv_change  \\\n",
       "race biased_pred                                                        \n",
       "0    0.0               954       954      954         954         954   \n",
       "     1.0               629       629      629         629         629   \n",
       "1    0.0               271       271      271         271         271   \n",
       "     1.0               785       785      785         785         785   \n",
       "\n",
       "                  eq_change  \n",
       "race biased_pred             \n",
       "0    0.0                954  \n",
       "     1.0                629  \n",
       "1    0.0                271  \n",
       "     1.0                785  "
      ]
     },
     "execution_count": 255,
     "metadata": {},
     "output_type": "execute_result"
    }
   ],
   "source": [
    "compas.groupby(['race', 'biased_pred']).count()#[['biased_pred']]"
   ]
  },
  {
   "cell_type": "code",
   "execution_count": 256,
   "id": "a2efb9e6-3eb7-4fd4-986e-50b9b8566223",
   "metadata": {},
   "outputs": [
    {
     "name": "stdout",
     "output_type": "stream",
     "text": [
      "Equal Odds: 39.73% of black people are in the positive class\n",
      "Equal Odds: 74.34% of white people are in the positive class\n"
     ]
    }
   ],
   "source": [
    "print(f'Equal Odds: {629/(629 + 954) * 100:.2f}% of black people are in the positive class')\n",
    "print(f'Equal Odds: {785/(785 + 271) * 100:.2f}% of white people are in the positive class')"
   ]
  },
  {
   "cell_type": "code",
   "execution_count": 257,
   "id": "36e6ff81-72e8-4baf-8c8d-f2afb862de8c",
   "metadata": {},
   "outputs": [
    {
     "data": {
      "text/html": [
       "<div>\n",
       "<style scoped>\n",
       "    .dataframe tbody tr th:only-of-type {\n",
       "        vertical-align: middle;\n",
       "    }\n",
       "\n",
       "    .dataframe tbody tr th {\n",
       "        vertical-align: top;\n",
       "    }\n",
       "\n",
       "    .dataframe thead th {\n",
       "        text-align: right;\n",
       "    }\n",
       "</style>\n",
       "<table border=\"1\" class=\"dataframe\">\n",
       "  <thead>\n",
       "    <tr style=\"text-align: right;\">\n",
       "      <th></th>\n",
       "      <th>sex</th>\n",
       "      <th>biased_pred</th>\n",
       "      <th>adv_pred</th>\n",
       "      <th>lfr_pred</th>\n",
       "      <th>eq_pred</th>\n",
       "      <th>adv_change</th>\n",
       "      <th>lfr_change</th>\n",
       "      <th>eq_change</th>\n",
       "    </tr>\n",
       "    <tr>\n",
       "      <th>index</th>\n",
       "      <th></th>\n",
       "      <th></th>\n",
       "      <th></th>\n",
       "      <th></th>\n",
       "      <th></th>\n",
       "      <th></th>\n",
       "      <th></th>\n",
       "      <th></th>\n",
       "    </tr>\n",
       "  </thead>\n",
       "  <tbody>\n",
       "    <tr>\n",
       "      <th>258</th>\n",
       "      <td>Female</td>\n",
       "      <td>0</td>\n",
       "      <td>0.0</td>\n",
       "      <td>0</td>\n",
       "      <td>0</td>\n",
       "      <td>0.0</td>\n",
       "      <td>0</td>\n",
       "      <td>0</td>\n",
       "    </tr>\n",
       "    <tr>\n",
       "      <th>26976</th>\n",
       "      <td>Female</td>\n",
       "      <td>0</td>\n",
       "      <td>0.0</td>\n",
       "      <td>0</td>\n",
       "      <td>0</td>\n",
       "      <td>0.0</td>\n",
       "      <td>0</td>\n",
       "      <td>0</td>\n",
       "    </tr>\n",
       "    <tr>\n",
       "      <th>9335</th>\n",
       "      <td>Male</td>\n",
       "      <td>0</td>\n",
       "      <td>0.0</td>\n",
       "      <td>0</td>\n",
       "      <td>0</td>\n",
       "      <td>0.0</td>\n",
       "      <td>0</td>\n",
       "      <td>0</td>\n",
       "    </tr>\n",
       "    <tr>\n",
       "      <th>5764</th>\n",
       "      <td>Male</td>\n",
       "      <td>1</td>\n",
       "      <td>1.0</td>\n",
       "      <td>1</td>\n",
       "      <td>1</td>\n",
       "      <td>0.0</td>\n",
       "      <td>0</td>\n",
       "      <td>0</td>\n",
       "    </tr>\n",
       "    <tr>\n",
       "      <th>28351</th>\n",
       "      <td>Female</td>\n",
       "      <td>0</td>\n",
       "      <td>0.0</td>\n",
       "      <td>0</td>\n",
       "      <td>0</td>\n",
       "      <td>0.0</td>\n",
       "      <td>0</td>\n",
       "      <td>0</td>\n",
       "    </tr>\n",
       "  </tbody>\n",
       "</table>\n",
       "</div>"
      ],
      "text/plain": [
       "          sex  biased_pred  adv_pred  lfr_pred  eq_pred  adv_change  \\\n",
       "index                                                                 \n",
       "258    Female            0       0.0         0        0         0.0   \n",
       "26976  Female            0       0.0         0        0         0.0   \n",
       "9335     Male            0       0.0         0        0         0.0   \n",
       "5764     Male            1       1.0         1        1         0.0   \n",
       "28351  Female            0       0.0         0        0         0.0   \n",
       "\n",
       "       lfr_change  eq_change  \n",
       "index                         \n",
       "258             0          0  \n",
       "26976           0          0  \n",
       "9335            0          0  \n",
       "5764            0          0  \n",
       "28351           0          0  "
      ]
     },
     "execution_count": 257,
     "metadata": {},
     "output_type": "execute_result"
    }
   ],
   "source": [
    "adult.head()"
   ]
  },
  {
   "cell_type": "code",
   "execution_count": null,
   "id": "b4724b44-fb92-47a0-8684-4b3e6b544d48",
   "metadata": {},
   "outputs": [],
   "source": []
  }
 ],
 "metadata": {
  "kernelspec": {
   "display_name": "fairness_env",
   "language": "python",
   "name": "fairness_env"
  },
  "language_info": {
   "codemirror_mode": {
    "name": "ipython",
    "version": 3
   },
   "file_extension": ".py",
   "mimetype": "text/x-python",
   "name": "python",
   "nbconvert_exporter": "python",
   "pygments_lexer": "ipython3",
   "version": "3.9.7"
  }
 },
 "nbformat": 4,
 "nbformat_minor": 5
}
