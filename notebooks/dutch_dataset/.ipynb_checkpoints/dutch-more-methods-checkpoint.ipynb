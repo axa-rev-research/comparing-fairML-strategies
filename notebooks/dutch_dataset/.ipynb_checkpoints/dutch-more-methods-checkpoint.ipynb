{
 "cells": [
  {
   "cell_type": "markdown",
   "id": "104b482c-2c88-4eac-86b9-3a7d4664a9ce",
   "metadata": {},
   "source": [
    "# Imports"
   ]
  },
  {
   "cell_type": "code",
   "execution_count": 1,
   "id": "4de8b3f4-6902-49af-bc28-22f7262b1cb3",
   "metadata": {},
   "outputs": [],
   "source": [
    "%load_ext autoreload\n",
    "%autoreload 2"
   ]
  },
  {
   "cell_type": "code",
   "execution_count": 2,
   "id": "aae58394-7c2f-45b3-aff2-c5dfcc08be7a",
   "metadata": {},
   "outputs": [],
   "source": [
    "import sys\n",
    "sys.path.append('../')\n",
    "sys.path.append('../../')"
   ]
  },
  {
   "cell_type": "code",
   "execution_count": 3,
   "id": "47c7c836-0eeb-4e5e-9f75-9ad481597479",
   "metadata": {},
   "outputs": [
    {
     "name": "stderr",
     "output_type": "stream",
     "text": [
      "WARNING:root:No module named 'tempeh': LawSchoolGPADataset will be unavailable. To install, run:\n",
      "pip install 'aif360[LawSchoolGPA]'\n",
      "2023-02-09 16:38:06.078007: I tensorflow/core/platform/cpu_feature_guard.cc:193] This TensorFlow binary is optimized with oneAPI Deep Neural Network Library (oneDNN) to use the following CPU instructions in performance-critical operations:  AVX2 FMA\n",
      "To enable them in other operations, rebuild TensorFlow with the appropriate compiler flags.\n",
      "WARNING:root:No module named 'fairlearn': ExponentiatedGradientReduction will be unavailable. To install, run:\n",
      "pip install 'aif360[Reductions]'\n",
      "WARNING:root:No module named 'fairlearn': GridSearchReduction will be unavailable. To install, run:\n",
      "pip install 'aif360[Reductions]'\n",
      "WARNING:root:No module named 'fairlearn': GridSearchReduction will be unavailable. To install, run:\n",
      "pip install 'aif360[Reductions]'\n"
     ]
    }
   ],
   "source": [
    "import pandas as pd\n",
    "from fairness.helpers import *\n",
    "from fairness.avd_helpers import *\n",
    "from sklearn import preprocessing\n",
    "import torch\n",
    "import torch.nn as nn\n",
    "import torch.optim as optim\n",
    "import time\n",
    "\n",
    "from torch.utils.data import TensorDataset\n",
    "from torch.utils.data import DataLoader\n",
    "import aif360 as aif\n",
    "\n",
    "from aif360.algorithms.inprocessing import AdversarialDebiasing\n",
    "import tensorflow.compat.v1 as tf\n",
    "from aif360.datasets import BinaryLabelDataset\n",
    "from aif360.algorithms.preprocessing import LFR\n",
    "\n",
    "#import skorch\n",
    "#from skorch.net import NeuralNet as NN\n",
    "import matplotlib.patches as mpatches\n",
    "\n",
    "\n",
    "torch.manual_seed(1)\n",
    "np.random.seed(7)\n",
    "sns.set(style=\"white\", palette=\"colorblind\", color_codes=True, context=\"talk\")\n",
    "sns.set_theme()\n",
    "\n",
    "tf.disable_eager_execution()"
   ]
  },
  {
   "cell_type": "markdown",
   "id": "b4059b53-7aa7-4e9e-a57d-52b001964514",
   "metadata": {},
   "source": [
    "# Loading Data"
   ]
  },
  {
   "cell_type": "code",
   "execution_count": 4,
   "id": "4803e687-1e2a-4663-a9cb-c58f25fa8350",
   "metadata": {},
   "outputs": [],
   "source": [
    "df = pd.read_csv('../../data/dutch/dutch.csv')"
   ]
  },
  {
   "cell_type": "code",
   "execution_count": 5,
   "id": "db4ed6c3-60e4-42aa-8681-6ce204b1ca9b",
   "metadata": {},
   "outputs": [
    {
     "data": {
      "text/html": [
       "<div>\n",
       "<style scoped>\n",
       "    .dataframe tbody tr th:only-of-type {\n",
       "        vertical-align: middle;\n",
       "    }\n",
       "\n",
       "    .dataframe tbody tr th {\n",
       "        vertical-align: top;\n",
       "    }\n",
       "\n",
       "    .dataframe thead th {\n",
       "        text-align: right;\n",
       "    }\n",
       "</style>\n",
       "<table border=\"1\" class=\"dataframe\">\n",
       "  <thead>\n",
       "    <tr style=\"text-align: right;\">\n",
       "      <th></th>\n",
       "      <th>sex</th>\n",
       "      <th>age</th>\n",
       "      <th>household_position</th>\n",
       "      <th>household_size</th>\n",
       "      <th>prev_residence_place</th>\n",
       "      <th>citizenship</th>\n",
       "      <th>country_birth</th>\n",
       "      <th>edu_level</th>\n",
       "      <th>economic_status</th>\n",
       "      <th>cur_eco_activity</th>\n",
       "      <th>Marital_status</th>\n",
       "      <th>occupation</th>\n",
       "    </tr>\n",
       "  </thead>\n",
       "  <tbody>\n",
       "    <tr>\n",
       "      <th>0</th>\n",
       "      <td>1</td>\n",
       "      <td>6</td>\n",
       "      <td>1131</td>\n",
       "      <td>112</td>\n",
       "      <td>1</td>\n",
       "      <td>1</td>\n",
       "      <td>1</td>\n",
       "      <td>5</td>\n",
       "      <td>111</td>\n",
       "      <td>135</td>\n",
       "      <td>1</td>\n",
       "      <td>2_1</td>\n",
       "    </tr>\n",
       "    <tr>\n",
       "      <th>1</th>\n",
       "      <td>2</td>\n",
       "      <td>10</td>\n",
       "      <td>1122</td>\n",
       "      <td>113</td>\n",
       "      <td>1</td>\n",
       "      <td>1</td>\n",
       "      <td>1</td>\n",
       "      <td>2</td>\n",
       "      <td>111</td>\n",
       "      <td>122</td>\n",
       "      <td>2</td>\n",
       "      <td>5_4_9</td>\n",
       "    </tr>\n",
       "    <tr>\n",
       "      <th>2</th>\n",
       "      <td>1</td>\n",
       "      <td>8</td>\n",
       "      <td>1122</td>\n",
       "      <td>113</td>\n",
       "      <td>1</td>\n",
       "      <td>1</td>\n",
       "      <td>1</td>\n",
       "      <td>2</td>\n",
       "      <td>111</td>\n",
       "      <td>122</td>\n",
       "      <td>2</td>\n",
       "      <td>2_1</td>\n",
       "    </tr>\n",
       "    <tr>\n",
       "      <th>3</th>\n",
       "      <td>1</td>\n",
       "      <td>12</td>\n",
       "      <td>1121</td>\n",
       "      <td>112</td>\n",
       "      <td>1</td>\n",
       "      <td>1</td>\n",
       "      <td>1</td>\n",
       "      <td>1</td>\n",
       "      <td>111</td>\n",
       "      <td>137</td>\n",
       "      <td>2</td>\n",
       "      <td>5_4_9</td>\n",
       "    </tr>\n",
       "    <tr>\n",
       "      <th>4</th>\n",
       "      <td>2</td>\n",
       "      <td>4</td>\n",
       "      <td>1110</td>\n",
       "      <td>114</td>\n",
       "      <td>1</td>\n",
       "      <td>1</td>\n",
       "      <td>1</td>\n",
       "      <td>2</td>\n",
       "      <td>111</td>\n",
       "      <td>138</td>\n",
       "      <td>1</td>\n",
       "      <td>5_4_9</td>\n",
       "    </tr>\n",
       "  </tbody>\n",
       "</table>\n",
       "</div>"
      ],
      "text/plain": [
       "   sex   age   household_position   household_size   prev_residence_place  \\\n",
       "0    1     6                 1131              112                      1   \n",
       "1    2    10                 1122              113                      1   \n",
       "2    1     8                 1122              113                      1   \n",
       "3    1    12                 1121              112                      1   \n",
       "4    2     4                 1110              114                      1   \n",
       "\n",
       "    citizenship   country_birth   edu_level   economic_status  \\\n",
       "0             1               1           5               111   \n",
       "1             1               1           2               111   \n",
       "2             1               1           2               111   \n",
       "3             1               1           1               111   \n",
       "4             1               1           2               111   \n",
       "\n",
       "    cur_eco_activity   Marital_status  occupation  \n",
       "0                135                1         2_1  \n",
       "1                122                2       5_4_9  \n",
       "2                122                2         2_1  \n",
       "3                137                2       5_4_9  \n",
       "4                138                1       5_4_9  "
      ]
     },
     "execution_count": 5,
     "metadata": {},
     "output_type": "execute_result"
    }
   ],
   "source": [
    "df.head()"
   ]
  },
  {
   "cell_type": "code",
   "execution_count": 6,
   "id": "27bba3fe-6943-4e4a-81e6-53579dc30b92",
   "metadata": {},
   "outputs": [],
   "source": [
    "df.columns = [c.strip() for c in df.columns]"
   ]
  },
  {
   "cell_type": "code",
   "execution_count": 7,
   "id": "945236d3-7ca5-4e12-88d7-e2edd25c040a",
   "metadata": {},
   "outputs": [
    {
     "data": {
      "text/html": [
       "<div>\n",
       "<style scoped>\n",
       "    .dataframe tbody tr th:only-of-type {\n",
       "        vertical-align: middle;\n",
       "    }\n",
       "\n",
       "    .dataframe tbody tr th {\n",
       "        vertical-align: top;\n",
       "    }\n",
       "\n",
       "    .dataframe thead th {\n",
       "        text-align: right;\n",
       "    }\n",
       "</style>\n",
       "<table border=\"1\" class=\"dataframe\">\n",
       "  <thead>\n",
       "    <tr style=\"text-align: right;\">\n",
       "      <th></th>\n",
       "      <th>sex</th>\n",
       "      <th>age</th>\n",
       "      <th>prev_residence_place</th>\n",
       "      <th>citizenship</th>\n",
       "      <th>country_birth</th>\n",
       "      <th>edu_level</th>\n",
       "      <th>economic_status</th>\n",
       "      <th>Marital_status</th>\n",
       "      <th>occupation_high_level</th>\n",
       "      <th>moved_recently</th>\n",
       "      <th>marital_status</th>\n",
       "    </tr>\n",
       "  </thead>\n",
       "  <tbody>\n",
       "    <tr>\n",
       "      <th>0</th>\n",
       "      <td>male</td>\n",
       "      <td>6</td>\n",
       "      <td>1</td>\n",
       "      <td>netherlands</td>\n",
       "      <td>netherlands</td>\n",
       "      <td>5</td>\n",
       "      <td>111</td>\n",
       "      <td>1</td>\n",
       "      <td>1</td>\n",
       "      <td>0</td>\n",
       "      <td>single</td>\n",
       "    </tr>\n",
       "    <tr>\n",
       "      <th>1</th>\n",
       "      <td>female</td>\n",
       "      <td>10</td>\n",
       "      <td>1</td>\n",
       "      <td>netherlands</td>\n",
       "      <td>netherlands</td>\n",
       "      <td>2</td>\n",
       "      <td>111</td>\n",
       "      <td>2</td>\n",
       "      <td>0</td>\n",
       "      <td>0</td>\n",
       "      <td>married</td>\n",
       "    </tr>\n",
       "    <tr>\n",
       "      <th>2</th>\n",
       "      <td>male</td>\n",
       "      <td>8</td>\n",
       "      <td>1</td>\n",
       "      <td>netherlands</td>\n",
       "      <td>netherlands</td>\n",
       "      <td>2</td>\n",
       "      <td>111</td>\n",
       "      <td>2</td>\n",
       "      <td>1</td>\n",
       "      <td>0</td>\n",
       "      <td>married</td>\n",
       "    </tr>\n",
       "    <tr>\n",
       "      <th>3</th>\n",
       "      <td>male</td>\n",
       "      <td>12</td>\n",
       "      <td>1</td>\n",
       "      <td>netherlands</td>\n",
       "      <td>netherlands</td>\n",
       "      <td>1</td>\n",
       "      <td>111</td>\n",
       "      <td>2</td>\n",
       "      <td>0</td>\n",
       "      <td>0</td>\n",
       "      <td>married</td>\n",
       "    </tr>\n",
       "    <tr>\n",
       "      <th>4</th>\n",
       "      <td>female</td>\n",
       "      <td>4</td>\n",
       "      <td>1</td>\n",
       "      <td>netherlands</td>\n",
       "      <td>netherlands</td>\n",
       "      <td>2</td>\n",
       "      <td>111</td>\n",
       "      <td>1</td>\n",
       "      <td>0</td>\n",
       "      <td>0</td>\n",
       "      <td>single</td>\n",
       "    </tr>\n",
       "  </tbody>\n",
       "</table>\n",
       "</div>"
      ],
      "text/plain": [
       "      sex  age  prev_residence_place  citizenship country_birth  edu_level  \\\n",
       "0    male    6                     1  netherlands   netherlands          5   \n",
       "1  female   10                     1  netherlands   netherlands          2   \n",
       "2    male    8                     1  netherlands   netherlands          2   \n",
       "3    male   12                     1  netherlands   netherlands          1   \n",
       "4  female    4                     1  netherlands   netherlands          2   \n",
       "\n",
       "  economic_status  Marital_status  occupation_high_level  moved_recently  \\\n",
       "0             111               1                      1               0   \n",
       "1             111               2                      0               0   \n",
       "2             111               2                      1               0   \n",
       "3             111               2                      0               0   \n",
       "4             111               1                      0               0   \n",
       "\n",
       "  marital_status  \n",
       "0         single  \n",
       "1        married  \n",
       "2        married  \n",
       "3        married  \n",
       "4         single  "
      ]
     },
     "execution_count": 7,
     "metadata": {},
     "output_type": "execute_result"
    }
   ],
   "source": [
    "data = df.assign(sex = df.sex.map({1: 'male', 2: 'female'}),\n",
    "         occupation_high_level = df.occupation.map({'2_1': 1, '5_4_9': 0}),\n",
    "         moved_recently = df.prev_residence_place.map({1:0, 2:1}),\n",
    "         citizenship = df.citizenship.map({1: 'netherlands', 2: 'europe', 3: 'rest_of_world'}),\n",
    "         country_birth = df.country_birth.map({1: 'netherlands', 2: 'europe', 3: 'rest_of_world'}),\n",
    "         marital_status = df.Marital_status.map({1: 'single', 2: 'married', 3: 'widowed', 4: 'divorced'}),\n",
    "         economic_status=df.economic_status.map({111: '111', 120: '120', 112: '112'}))\\\n",
    "    .drop(columns=['household_position', 'household_size', 'cur_eco_activity', 'occupation'])\n",
    "data.head()"
   ]
  },
  {
   "cell_type": "markdown",
   "id": "c561f643-9e3c-4aad-b916-3d5dd6c64191",
   "metadata": {},
   "source": [
    "## Split Data and Train Biased Model"
   ]
  },
  {
   "cell_type": "code",
   "execution_count": 8,
   "id": "debc6a1c-99ce-4142-92f6-99eac31d9809",
   "metadata": {},
   "outputs": [],
   "source": [
    "(X_train, X_test, y_train, y_test, Z_train, Z_test) = split_scale_pipe(pd.get_dummies(data.drop(columns=['sex', 'occupation_high_level'])),\n",
    "                                                                      data.occupation_high_level,\n",
    "                                                                      (data.sex=='male').astype(int),\n",
    "                                                                      stratify=data.occupation_high_level)"
   ]
  },
  {
   "cell_type": "code",
   "execution_count": 9,
   "id": "dbd45db1-5c70-412d-87f7-762d32da6794",
   "metadata": {
    "tags": []
   },
   "outputs": [
    {
     "name": "stderr",
     "output_type": "stream",
     "text": [
      "2023-02-09 16:38:11.174023: I tensorflow/core/platform/cpu_feature_guard.cc:193] This TensorFlow binary is optimized with oneAPI Deep Neural Network Library (oneDNN) to use the following CPU instructions in performance-critical operations:  AVX2 FMA\n",
      "To enable them in other operations, rebuild TensorFlow with the appropriate compiler flags.\n",
      "WARNING:tensorflow:From /Users/B429DU/opt/anaconda3/lib/python3.9/site-packages/tensorflow/python/util/dispatch.py:1176: calling dropout (from tensorflow.python.ops.nn_ops) with keep_prob is deprecated and will be removed in a future version.\n",
      "Instructions for updating:\n",
      "Please use `rate` instead of `keep_prob`. Rate should be set to `rate = 1 - keep_prob`.\n",
      "2023-02-09 16:38:11.331667: I tensorflow/compiler/mlir/mlir_graph_optimization_pass.cc:357] MLIR V1 optimization pass is not enabled\n"
     ]
    },
    {
     "name": "stdout",
     "output_type": "stream",
     "text": [
      "epoch 0; iter: 0; batch classifier loss: 0.761194\n",
      "epoch 0; iter: 200; batch classifier loss: 0.403348\n",
      "epoch 1; iter: 0; batch classifier loss: 0.443197\n",
      "epoch 1; iter: 200; batch classifier loss: 0.396592\n",
      "epoch 2; iter: 0; batch classifier loss: 0.473236\n",
      "epoch 2; iter: 200; batch classifier loss: 0.463243\n",
      "epoch 3; iter: 0; batch classifier loss: 0.433476\n",
      "epoch 3; iter: 200; batch classifier loss: 0.377906\n",
      "epoch 4; iter: 0; batch classifier loss: 0.456884\n",
      "epoch 4; iter: 200; batch classifier loss: 0.388321\n",
      "epoch 5; iter: 0; batch classifier loss: 0.374195\n",
      "epoch 5; iter: 200; batch classifier loss: 0.445200\n",
      "epoch 6; iter: 0; batch classifier loss: 0.329281\n",
      "epoch 6; iter: 200; batch classifier loss: 0.367683\n",
      "epoch 7; iter: 0; batch classifier loss: 0.322340\n",
      "epoch 7; iter: 200; batch classifier loss: 0.348341\n",
      "epoch 8; iter: 0; batch classifier loss: 0.311581\n",
      "epoch 8; iter: 200; batch classifier loss: 0.406317\n",
      "epoch 9; iter: 0; batch classifier loss: 0.360491\n",
      "epoch 9; iter: 200; batch classifier loss: 0.438898\n",
      "epoch 10; iter: 0; batch classifier loss: 0.460614\n",
      "epoch 10; iter: 200; batch classifier loss: 0.406093\n",
      "epoch 11; iter: 0; batch classifier loss: 0.411316\n",
      "epoch 11; iter: 200; batch classifier loss: 0.433456\n",
      "epoch 12; iter: 0; batch classifier loss: 0.413888\n",
      "epoch 12; iter: 200; batch classifier loss: 0.513409\n",
      "epoch 13; iter: 0; batch classifier loss: 0.347980\n",
      "epoch 13; iter: 200; batch classifier loss: 0.429252\n",
      "epoch 14; iter: 0; batch classifier loss: 0.412756\n",
      "epoch 14; iter: 200; batch classifier loss: 0.345989\n",
      "epoch 15; iter: 0; batch classifier loss: 0.389057\n",
      "epoch 15; iter: 200; batch classifier loss: 0.352076\n",
      "epoch 16; iter: 0; batch classifier loss: 0.407935\n",
      "epoch 16; iter: 200; batch classifier loss: 0.455705\n",
      "epoch 17; iter: 0; batch classifier loss: 0.320445\n",
      "epoch 17; iter: 200; batch classifier loss: 0.416394\n",
      "epoch 18; iter: 0; batch classifier loss: 0.363040\n",
      "epoch 18; iter: 200; batch classifier loss: 0.415475\n",
      "epoch 19; iter: 0; batch classifier loss: 0.397652\n",
      "epoch 19; iter: 200; batch classifier loss: 0.373033\n",
      "epoch 20; iter: 0; batch classifier loss: 0.348428\n",
      "epoch 20; iter: 200; batch classifier loss: 0.350204\n",
      "epoch 21; iter: 0; batch classifier loss: 0.347813\n",
      "epoch 21; iter: 200; batch classifier loss: 0.431043\n",
      "epoch 22; iter: 0; batch classifier loss: 0.358813\n",
      "epoch 22; iter: 200; batch classifier loss: 0.381461\n",
      "epoch 23; iter: 0; batch classifier loss: 0.305478\n",
      "epoch 23; iter: 200; batch classifier loss: 0.425382\n",
      "epoch 24; iter: 0; batch classifier loss: 0.389929\n",
      "epoch 24; iter: 200; batch classifier loss: 0.459005\n",
      "epoch 25; iter: 0; batch classifier loss: 0.383687\n",
      "epoch 25; iter: 200; batch classifier loss: 0.343519\n",
      "epoch 26; iter: 0; batch classifier loss: 0.352333\n",
      "epoch 26; iter: 200; batch classifier loss: 0.372904\n",
      "epoch 27; iter: 0; batch classifier loss: 0.347518\n",
      "epoch 27; iter: 200; batch classifier loss: 0.349216\n",
      "epoch 28; iter: 0; batch classifier loss: 0.390967\n",
      "epoch 28; iter: 200; batch classifier loss: 0.384764\n",
      "epoch 29; iter: 0; batch classifier loss: 0.385496\n",
      "epoch 29; iter: 200; batch classifier loss: 0.345405\n",
      "epoch 30; iter: 0; batch classifier loss: 0.393569\n",
      "epoch 30; iter: 200; batch classifier loss: 0.401883\n",
      "epoch 31; iter: 0; batch classifier loss: 0.371725\n",
      "epoch 31; iter: 200; batch classifier loss: 0.355550\n",
      "epoch 32; iter: 0; batch classifier loss: 0.423956\n",
      "epoch 32; iter: 200; batch classifier loss: 0.397216\n",
      "epoch 33; iter: 0; batch classifier loss: 0.378520\n",
      "epoch 33; iter: 200; batch classifier loss: 0.379425\n",
      "epoch 34; iter: 0; batch classifier loss: 0.381489\n",
      "epoch 34; iter: 200; batch classifier loss: 0.398929\n",
      "epoch 35; iter: 0; batch classifier loss: 0.460361\n",
      "epoch 35; iter: 200; batch classifier loss: 0.411667\n",
      "epoch 36; iter: 0; batch classifier loss: 0.429764\n",
      "epoch 36; iter: 200; batch classifier loss: 0.450228\n",
      "epoch 37; iter: 0; batch classifier loss: 0.431277\n",
      "epoch 37; iter: 200; batch classifier loss: 0.385654\n",
      "epoch 38; iter: 0; batch classifier loss: 0.459780\n",
      "epoch 38; iter: 200; batch classifier loss: 0.362934\n",
      "epoch 39; iter: 0; batch classifier loss: 0.423505\n",
      "epoch 39; iter: 200; batch classifier loss: 0.320775\n",
      "epoch 40; iter: 0; batch classifier loss: 0.389327\n",
      "epoch 40; iter: 200; batch classifier loss: 0.429975\n",
      "epoch 41; iter: 0; batch classifier loss: 0.472172\n",
      "epoch 41; iter: 200; batch classifier loss: 0.333572\n",
      "epoch 42; iter: 0; batch classifier loss: 0.415608\n",
      "epoch 42; iter: 200; batch classifier loss: 0.429983\n",
      "epoch 43; iter: 0; batch classifier loss: 0.401329\n",
      "epoch 43; iter: 200; batch classifier loss: 0.485136\n",
      "epoch 44; iter: 0; batch classifier loss: 0.343826\n",
      "epoch 44; iter: 200; batch classifier loss: 0.421472\n",
      "epoch 45; iter: 0; batch classifier loss: 0.371381\n",
      "epoch 45; iter: 200; batch classifier loss: 0.369771\n",
      "epoch 46; iter: 0; batch classifier loss: 0.412867\n",
      "epoch 46; iter: 200; batch classifier loss: 0.352834\n",
      "epoch 47; iter: 0; batch classifier loss: 0.357390\n",
      "epoch 47; iter: 200; batch classifier loss: 0.557630\n",
      "epoch 48; iter: 0; batch classifier loss: 0.351341\n",
      "epoch 48; iter: 200; batch classifier loss: 0.400124\n",
      "epoch 49; iter: 0; batch classifier loss: 0.384527\n",
      "epoch 49; iter: 200; batch classifier loss: 0.240887\n"
     ]
    }
   ],
   "source": [
    "train_data = BinaryLabelDataset(df=X_train.assign(occupation_high_level = y_train, sex=Z_train), label_names=['occupation_high_level'], \n",
    "                                protected_attribute_names=['sex'])\n",
    "test_data = BinaryLabelDataset(df=X_test.assign(occupation_high_level=y_test, sex=Z_test), label_names=['occupation_high_level'],\n",
    "                               protected_attribute_names=['sex'])\n",
    "\n",
    "\n",
    "tf.reset_default_graph()\n",
    "sess = tf.Session()\n",
    "\n",
    "\n",
    "privileged_groups = [{'sex': 1}]\n",
    "unprivileged_groups = [{'sex': 0}]\n",
    "\n",
    "biased_model = AdversarialDebiasing(unprivileged_groups=unprivileged_groups,\n",
    "                 privileged_groups=privileged_groups,\n",
    "                 scope_name='classifier',\n",
    "                 debias=False,\n",
    "                 sess=sess).fit(train_data)\n",
    "\n",
    "preds = biased_model.predict(test_data)\n",
    "acc = metrics.accuracy_score(y_test, preds.labels)\n",
    "b_acc = metrics.balanced_accuracy_score(y_test, preds.labels)\n",
    "prule = p_rule(preds.labels, Z_test)"
   ]
  },
  {
   "cell_type": "code",
   "execution_count": 10,
   "id": "2bc017d9-6f56-4733-83b7-98c2ab7a4dd1",
   "metadata": {},
   "outputs": [
    {
     "name": "stdout",
     "output_type": "stream",
     "text": [
      "accuracy = 83.00562727573652%\n",
      "balanced accuracy = 82.96204187925656%\n",
      "p-rule = 45.64851989241833%\n"
     ]
    }
   ],
   "source": [
    "print(f'accuracy = {acc * 100}%')\n",
    "print(f'balanced accuracy = {b_acc * 100}%')\n",
    "print(f'p-rule = {prule}%')"
   ]
  },
  {
   "cell_type": "code",
   "execution_count": 12,
   "id": "7fe4f9cb-c0c9-448e-8f66-774773676a62",
   "metadata": {},
   "outputs": [],
   "source": [
    "test_results = pd.DataFrame(Z_test).assign(biased_pred = preds.labels, target=y_test)\n",
    "test_results = test_results.assign(biased_score = preds.scores)"
   ]
  },
  {
   "cell_type": "markdown",
   "id": "c767115b-add0-4666-bc33-ca838ddccb7a",
   "metadata": {},
   "source": [
    "### LFR"
   ]
  },
  {
   "cell_type": "code",
   "execution_count": 13,
   "id": "98e3bddb-daa5-4b3f-836f-ee937e64fa5c",
   "metadata": {
    "tags": []
   },
   "outputs": [
    {
     "name": "stdout",
     "output_type": "stream",
     "text": [
      "epoch 0; iter: 0; batch classifier loss: 0.836795\n",
      "epoch 0; iter: 200; batch classifier loss: 0.088764\n",
      "epoch 1; iter: 0; batch classifier loss: 0.078043\n",
      "epoch 1; iter: 200; batch classifier loss: 0.061212\n",
      "epoch 2; iter: 0; batch classifier loss: 0.054752\n",
      "epoch 2; iter: 200; batch classifier loss: 0.069888\n",
      "epoch 3; iter: 0; batch classifier loss: 0.054460\n",
      "epoch 3; iter: 200; batch classifier loss: 0.047107\n",
      "epoch 4; iter: 0; batch classifier loss: 0.078947\n",
      "epoch 4; iter: 200; batch classifier loss: 0.075377\n",
      "epoch 5; iter: 0; batch classifier loss: 0.053373\n",
      "epoch 5; iter: 200; batch classifier loss: 0.032771\n",
      "epoch 6; iter: 0; batch classifier loss: 0.048712\n",
      "epoch 6; iter: 200; batch classifier loss: 0.027037\n",
      "epoch 7; iter: 0; batch classifier loss: 0.051880\n",
      "epoch 7; iter: 200; batch classifier loss: 0.028208\n",
      "epoch 8; iter: 0; batch classifier loss: 0.024256\n",
      "epoch 8; iter: 200; batch classifier loss: 0.025936\n",
      "epoch 9; iter: 0; batch classifier loss: 0.033859\n",
      "epoch 9; iter: 200; batch classifier loss: 0.049565\n",
      "epoch 10; iter: 0; batch classifier loss: 0.028240\n",
      "epoch 10; iter: 200; batch classifier loss: 0.045744\n",
      "epoch 11; iter: 0; batch classifier loss: 0.025773\n",
      "epoch 11; iter: 200; batch classifier loss: 0.028615\n",
      "epoch 12; iter: 0; batch classifier loss: 0.028321\n",
      "epoch 12; iter: 200; batch classifier loss: 0.024378\n",
      "epoch 13; iter: 0; batch classifier loss: 0.016286\n",
      "epoch 13; iter: 200; batch classifier loss: 0.039807\n",
      "epoch 14; iter: 0; batch classifier loss: 0.027431\n",
      "epoch 14; iter: 200; batch classifier loss: 0.012195\n",
      "epoch 15; iter: 0; batch classifier loss: 0.013150\n",
      "epoch 15; iter: 200; batch classifier loss: 0.008521\n",
      "epoch 16; iter: 0; batch classifier loss: 0.033753\n",
      "epoch 16; iter: 200; batch classifier loss: 0.049764\n",
      "epoch 17; iter: 0; batch classifier loss: 0.019127\n",
      "epoch 17; iter: 200; batch classifier loss: 0.011038\n",
      "epoch 18; iter: 0; batch classifier loss: 0.014623\n",
      "epoch 18; iter: 200; batch classifier loss: 0.019893\n",
      "epoch 19; iter: 0; batch classifier loss: 0.016209\n",
      "epoch 19; iter: 200; batch classifier loss: 0.008344\n",
      "epoch 20; iter: 0; batch classifier loss: 0.013739\n",
      "epoch 20; iter: 200; batch classifier loss: 0.011476\n",
      "epoch 21; iter: 0; batch classifier loss: 0.005726\n",
      "epoch 21; iter: 200; batch classifier loss: 0.013107\n",
      "epoch 22; iter: 0; batch classifier loss: 0.009279\n",
      "epoch 22; iter: 200; batch classifier loss: 0.006423\n",
      "epoch 23; iter: 0; batch classifier loss: 0.016922\n",
      "epoch 23; iter: 200; batch classifier loss: 0.022000\n",
      "epoch 24; iter: 0; batch classifier loss: 0.008068\n",
      "epoch 24; iter: 200; batch classifier loss: 0.004895\n",
      "epoch 25; iter: 0; batch classifier loss: 0.004351\n",
      "epoch 25; iter: 200; batch classifier loss: 0.011574\n",
      "epoch 26; iter: 0; batch classifier loss: 0.003910\n",
      "epoch 26; iter: 200; batch classifier loss: 0.006053\n",
      "epoch 27; iter: 0; batch classifier loss: 0.003189\n",
      "epoch 27; iter: 200; batch classifier loss: 0.009029\n",
      "epoch 28; iter: 0; batch classifier loss: 0.008188\n",
      "epoch 28; iter: 200; batch classifier loss: 0.000739\n",
      "epoch 29; iter: 0; batch classifier loss: 0.016752\n",
      "epoch 29; iter: 200; batch classifier loss: 0.014756\n",
      "epoch 30; iter: 0; batch classifier loss: 0.004332\n",
      "epoch 30; iter: 200; batch classifier loss: 0.004834\n",
      "epoch 31; iter: 0; batch classifier loss: 0.005495\n",
      "epoch 31; iter: 200; batch classifier loss: 0.003593\n",
      "epoch 32; iter: 0; batch classifier loss: 0.018515\n",
      "epoch 32; iter: 200; batch classifier loss: 0.006140\n",
      "epoch 33; iter: 0; batch classifier loss: 0.007778\n",
      "epoch 33; iter: 200; batch classifier loss: 0.003462\n",
      "epoch 34; iter: 0; batch classifier loss: 0.008878\n",
      "epoch 34; iter: 200; batch classifier loss: 0.001485\n",
      "epoch 35; iter: 0; batch classifier loss: 0.008468\n",
      "epoch 35; iter: 200; batch classifier loss: 0.005525\n",
      "epoch 36; iter: 0; batch classifier loss: 0.001874\n",
      "epoch 36; iter: 200; batch classifier loss: 0.001579\n",
      "epoch 37; iter: 0; batch classifier loss: 0.004274\n",
      "epoch 37; iter: 200; batch classifier loss: 0.001514\n",
      "epoch 38; iter: 0; batch classifier loss: 0.003883\n",
      "epoch 38; iter: 200; batch classifier loss: 0.002242\n",
      "epoch 39; iter: 0; batch classifier loss: 0.023365\n",
      "epoch 39; iter: 200; batch classifier loss: 0.001454\n",
      "epoch 40; iter: 0; batch classifier loss: 0.000651\n",
      "epoch 40; iter: 200; batch classifier loss: 0.001337\n",
      "epoch 41; iter: 0; batch classifier loss: 0.011083\n",
      "epoch 41; iter: 200; batch classifier loss: 0.002179\n",
      "epoch 42; iter: 0; batch classifier loss: 0.003452\n",
      "epoch 42; iter: 200; batch classifier loss: 0.002815\n",
      "epoch 43; iter: 0; batch classifier loss: 0.003527\n",
      "epoch 43; iter: 200; batch classifier loss: 0.000738\n",
      "epoch 44; iter: 0; batch classifier loss: 0.004467\n",
      "epoch 44; iter: 200; batch classifier loss: 0.003668\n",
      "epoch 45; iter: 0; batch classifier loss: 0.002302\n",
      "epoch 45; iter: 200; batch classifier loss: 0.000570\n",
      "epoch 46; iter: 0; batch classifier loss: 0.001505\n",
      "epoch 46; iter: 200; batch classifier loss: 0.001989\n",
      "epoch 47; iter: 0; batch classifier loss: 0.001193\n",
      "epoch 47; iter: 200; batch classifier loss: 0.005233\n",
      "epoch 48; iter: 0; batch classifier loss: 0.001544\n",
      "epoch 48; iter: 200; batch classifier loss: 0.003933\n",
      "epoch 49; iter: 0; batch classifier loss: 0.003679\n",
      "epoch 49; iter: 200; batch classifier loss: 0.009771\n",
      "accuracy = 75.16716319099636%\n",
      "balanced accuracy = 74.89847744290292%\n",
      "p-rule = 98.49163070713081%\n"
     ]
    }
   ],
   "source": [
    "privileged_groups = [{'sex': 1}]\n",
    "unprivileged_groups = [{'sex': 0}]\n",
    "\n",
    "train_bld = BinaryLabelDataset(df=X_train.assign(occupation_high_level = y_train, sex=Z_train),\n",
    "                              label_names=['occupation_high_level'],\n",
    "                              protected_attribute_names=['sex'])\n",
    "\n",
    "test_bld =  BinaryLabelDataset(df=X_test.assign(occupation_high_level = y_test, sex=Z_test),\n",
    "                              label_names=['occupation_high_level'],\n",
    "                              protected_attribute_names=['sex'])\n",
    "\n",
    "start = time.time()\n",
    "lfr = LFR(\n",
    "    unprivileged_groups=unprivileged_groups,\n",
    "    privileged_groups=privileged_groups,\n",
    "    Az=8\n",
    "         ).fit(train_bld)\n",
    "\n",
    "new_train_data = lfr.transform(train_bld)\n",
    "new_test_data = lfr.transform(test_bld)\n",
    "\n",
    "tf.reset_default_graph()\n",
    "sess = tf.Session()\n",
    "\n",
    "\n",
    "privileged_groups = [{'sex': 1}]\n",
    "unprivileged_groups = [{'sex': 0}]\n",
    "\n",
    "model = AdversarialDebiasing(unprivileged_groups=unprivileged_groups,\n",
    "                 privileged_groups=privileged_groups,\n",
    "                 scope_name='classifier',\n",
    "                 debias=False,\n",
    "                 sess=sess).fit(new_train_data)\n",
    "\n",
    "preds = model.predict(new_test_data)\n",
    "acc = metrics.accuracy_score(y_test, preds.labels)\n",
    "b_acc = metrics.balanced_accuracy_score(y_test, preds.labels)\n",
    "prule = p_rule(preds.labels, Z_test)\n",
    "\n",
    "print(f'accuracy = {acc * 100}%')\n",
    "print(f'balanced accuracy = {b_acc * 100}%')\n",
    "print(f'p-rule = {prule}%')"
   ]
  },
  {
   "cell_type": "code",
   "execution_count": 14,
   "id": "23b90181-7aba-4845-829c-d19a6ff34544",
   "metadata": {},
   "outputs": [
    {
     "name": "stdout",
     "output_type": "stream",
     "text": [
      "accuracy = 75.17%\n",
      "balanced accuracy = 74.90%\n",
      "p-rule = 98.49%\n"
     ]
    }
   ],
   "source": [
    "print(f'accuracy = {acc*100:.2f}%')\n",
    "print(f'balanced accuracy = {b_acc*100:.2f}%')\n",
    "print(f'p-rule = {prule:.2f}%')"
   ]
  },
  {
   "cell_type": "code",
   "execution_count": 15,
   "id": "c61608a5-2af1-4425-b55b-fb1e81a31e25",
   "metadata": {},
   "outputs": [],
   "source": [
    "test_results = test_results.assign(lfr_pred = preds.labels,\n",
    "                                  lfr_change = preds.labels.flatten() - test_results.biased_pred)"
   ]
  },
  {
   "cell_type": "markdown",
   "id": "ce4cfe31-df9a-4115-9052-92e6ba2c1afd",
   "metadata": {
    "tags": []
   },
   "source": [
    "### Advesarial Debiasing"
   ]
  },
  {
   "cell_type": "code",
   "execution_count": 16,
   "id": "7d6c05d9-cc8f-48d9-a1f7-07509bd05c29",
   "metadata": {},
   "outputs": [],
   "source": [
    "import fairlearn_int\n",
    "import fairness.avd_helpers as avh\n",
    "from fairlearn_int.adversarial import AdversarialFairnessClassifier"
   ]
  },
  {
   "cell_type": "code",
   "execution_count": 17,
   "id": "60de69c5-a20d-4b8f-958b-add13017debd",
   "metadata": {},
   "outputs": [],
   "source": [
    "adfl = AdversarialFairnessClassifier(predictor_model=[200, nn.ReLU()], \n",
    "                                    adversary_model=avh.Adversary_old(),\n",
    "                                    alpha=10.86)"
   ]
  },
  {
   "cell_type": "code",
   "execution_count": 18,
   "id": "d6d86723-e6bb-442d-888c-3cd162a8e53f",
   "metadata": {},
   "outputs": [],
   "source": [
    "adfl_ = adfl.fit(X=X_train, y=y_train, sensitive_features=Z_train)"
   ]
  },
  {
   "cell_type": "code",
   "execution_count": 19,
   "id": "4fb3444e-0b00-4cce-abbc-9ff5e87b2ecd",
   "metadata": {},
   "outputs": [
    {
     "name": "stdout",
     "output_type": "stream",
     "text": [
      "accuracy = 70.36%\n",
      "balanced accuracy = 69.81%\n",
      "p-rule = 95.44%\n"
     ]
    }
   ],
   "source": [
    "preds = adfl_.predict(X_test)\n",
    "preds.index=X_test.index\n",
    "acc = metrics.accuracy_score(y_test, preds) * 100\n",
    "b_acc = metrics.balanced_accuracy_score(y_test, preds) * 100\n",
    "prule = p_rule(preds, Z_test.values)\n",
    "\n",
    "print(f'accuracy = {acc:.2f}%')\n",
    "print(f'balanced accuracy = {b_acc:.2f}%')\n",
    "print(f'p-rule = {prule:.2f}%')"
   ]
  },
  {
   "cell_type": "code",
   "execution_count": 20,
   "id": "8ac32b82-750c-435a-9a42-d780eb6790a5",
   "metadata": {},
   "outputs": [],
   "source": [
    "test_results = test_results.assign(adv_pred = preds, adv_change = preds - test_results.biased_pred)"
   ]
  },
  {
   "cell_type": "markdown",
   "id": "45c136ba-7dc9-4ac8-9ef3-9a48b4ad3dd1",
   "metadata": {
    "tags": []
   },
   "source": [
    "### Advesarial Debiasing (Equal Odds)"
   ]
  },
  {
   "cell_type": "code",
   "execution_count": 40,
   "id": "68c3b3c7-620f-4e09-842d-d772d214aafe",
   "metadata": {},
   "outputs": [],
   "source": [
    "import fairlearn_int\n",
    "import fairness.avd_helpers as avh\n",
    "from fairlearn_int.adversarial import AdversarialFairnessClassifier"
   ]
  },
  {
   "cell_type": "code",
   "execution_count": 41,
   "id": "53e90bd4-d834-4c4c-8fe6-70de155f1c2e",
   "metadata": {},
   "outputs": [],
   "source": [
    "adfl = AdversarialFairnessClassifier(predictor_model=[200, nn.ReLU()], \n",
    "                                    adversary_model=[128, nn.ReLU(), 128, nn.ReLU(), 128, nn.ReLU()],\n",
    "                                    constraints='equalized_odds',\n",
    "                                    alpha=130)"
   ]
  },
  {
   "cell_type": "code",
   "execution_count": 42,
   "id": "c73cf543-7de2-4d47-bc6d-dae9d30d4c4a",
   "metadata": {},
   "outputs": [],
   "source": [
    "adfl_ = adfl.fit(X=X_train, y=y_train, sensitive_features=Z_train)"
   ]
  },
  {
   "cell_type": "code",
   "execution_count": 43,
   "id": "e8496c97-598e-474a-a44f-9d8564c3c4d8",
   "metadata": {},
   "outputs": [],
   "source": [
    "preds = adfl_.predict(X_test)\n",
    "preds.index=X_test.index\n",
    "\n",
    "test_results = test_results.assign(\n",
    "    adveq_pred = preds,\n",
    "    adveq_change = preds - test_results.biased_pred\n",
    ")"
   ]
  },
  {
   "cell_type": "code",
   "execution_count": 44,
   "id": "2116ea5c-5408-4388-b2d0-16ddee9493bc",
   "metadata": {},
   "outputs": [
    {
     "name": "stdout",
     "output_type": "stream",
     "text": [
      "disparate mistreatement: D(FPR) = 1.07, D(TPR) = 1.25\n",
      "accuracy = 75.56%\n",
      "balanced accuracy = 75.81%\n"
     ]
    }
   ],
   "source": [
    "acc = metrics.accuracy_score(y_test, preds) * 100\n",
    "b_acc = metrics.balanced_accuracy_score(y_test, preds) * 100\n",
    "dm = disparate_mistreatment(test_results[['sex', 'target', 'adveq_pred']].rename({'adveq_pred':'fair_label'}, axis=1), 'sex')\n",
    "\n",
    "print(f'disparate mistreatement: D(FPR) = {dm[0]:.2f}, D(TPR) = {dm[1]:.2f}')\n",
    "print(f'accuracy = {acc:.2f}%')\n",
    "print(f'balanced accuracy = {b_acc:.2f}%')"
   ]
  },
  {
   "cell_type": "markdown",
   "id": "63873416-27cf-4c98-95ca-31afeac10014",
   "metadata": {},
   "source": [
    "### Equal Odds"
   ]
  },
  {
   "cell_type": "code",
   "execution_count": 70,
   "id": "a96668ec-c5cf-4264-8ce8-04c34ea10f6f",
   "metadata": {},
   "outputs": [],
   "source": [
    "import fairlearn_int\n",
    "from fairlearn_int.postprocessing import ThresholdOptimizer as TOp"
   ]
  },
  {
   "cell_type": "code",
   "execution_count": 71,
   "id": "2f18e541-c974-48bc-b573-effaddc9176e",
   "metadata": {},
   "outputs": [],
   "source": [
    "bld_train = BinaryLabelDataset(df=X_train.join(y_train).join(Z_train), label_names=['occupation_high_level'], protected_attribute_names=['sex'])"
   ]
  },
  {
   "cell_type": "code",
   "execution_count": 72,
   "id": "d46072bb-44d7-433e-9bf2-6d26abf4e2d5",
   "metadata": {},
   "outputs": [],
   "source": [
    "m = TOp(estimator=biased_model, constraints='equalized_odds',\n",
    "        predict_method='predict', prefit=True).fit(X=torch.Tensor(X_train.assign(sex=Z_train).set_index('sex').to_numpy()),\n",
    "                                                                           y=torch.Tensor(y_train.to_numpy()),\n",
    "                                                                           sensitive_features=torch.Tensor(Z_train.to_numpy()),\n",
    "                                                                           Z=Z_train, \n",
    "                                                                           bld=bld_train)"
   ]
  },
  {
   "cell_type": "code",
   "execution_count": 73,
   "id": "7a60bb40-2754-4d60-8441-a6192e9bfb00",
   "metadata": {},
   "outputs": [],
   "source": [
    "preds = m.predict(X=X_test,\n",
    "                  sensitive_features=torch.Tensor(Z_test.to_numpy()),\n",
    "                  y=y_test,\n",
    "                  Z=Z_test,\n",
    "                  bld=test_data\n",
    "                 )"
   ]
  },
  {
   "cell_type": "code",
   "execution_count": 74,
   "id": "1fd697e8-20f5-49e8-a2c2-51d384eb6ef7",
   "metadata": {},
   "outputs": [
    {
     "name": "stdout",
     "output_type": "stream",
     "text": [
      "accuracy = 79.48%\n",
      "balanced accuracy = 78.98%\n",
      "disparate mistreatement: D(FPR) = 1.07, D(TPR) = 1.25\n"
     ]
    }
   ],
   "source": [
    "acc = metrics.accuracy_score(y_test, preds) * 100\n",
    "b_acc = metrics.balanced_accuracy_score(y_test, preds) * 100\n",
    "dm = disparate_mistreatment(test_results[['sex', 'target', 'adveq_pred']].rename({'adveq_pred':'fair_label'}, axis=1), 'sex')\n",
    "\n",
    "print(f'accuracy = {acc:.2f}%')\n",
    "print(f'balanced accuracy = {b_acc:.2f}%')\n",
    "print(f'disparate mistreatement: D(FPR) = {dm[0]:.2f}, D(TPR) = {dm[1]:.2f}')"
   ]
  },
  {
   "cell_type": "code",
   "execution_count": 75,
   "id": "f0f57674-f5ae-43a6-a0a5-c6b8a1e49dc4",
   "metadata": {},
   "outputs": [],
   "source": [
    "test_results = test_results.assign(eq_pred = preds, eq_change = preds-test_results.biased_pred)"
   ]
  },
  {
   "cell_type": "markdown",
   "id": "f74ae084-70a2-43b6-b700-6739d2a3bd73",
   "metadata": {},
   "source": [
    "### Reject Option Classification"
   ]
  },
  {
   "cell_type": "code",
   "execution_count": 52,
   "id": "c7cc9942-b95e-46b2-91f0-dc36d92b37ba",
   "metadata": {},
   "outputs": [],
   "source": [
    "from fairness.avd_helpers import RejectOptionClassifier"
   ]
  },
  {
   "cell_type": "code",
   "execution_count": 53,
   "id": "e3457ae2-37fa-4dea-a756-6e6747cbb848",
   "metadata": {},
   "outputs": [],
   "source": [
    "scores = biased_model.predict(test_data).scores.flatten()\n",
    "labels = biased_model.predict(test_data).labels.flatten()\n",
    "\n",
    "preds = RejectOptionClassifier(0.92).predict(scores, Z_test.values)"
   ]
  },
  {
   "cell_type": "code",
   "execution_count": 55,
   "id": "d8e34db2-44ca-4687-8f33-fcfab8bd60ed",
   "metadata": {},
   "outputs": [
    {
     "name": "stdout",
     "output_type": "stream",
     "text": [
      "accuracy = 83.01%\n",
      "balanced accuracy = 82.96%\n",
      "p-rule = 45.65%\n",
      "-------------\n",
      "debiased:\n",
      "accuracy = 76.21%\n",
      "balanced accuracy = 75.32%\n",
      "p-rule = 96.91%\n"
     ]
    }
   ],
   "source": [
    "print(f'accuracy = {metrics.accuracy_score(y_test, labels)*100:.2f}%')\n",
    "print(f'balanced accuracy = {metrics.balanced_accuracy_score(y_test, labels)*100:.2f}%')\n",
    "print(f'p-rule = {p_rule(scores, Z_test):.2f}%')\n",
    "\n",
    "print('-------------')\n",
    "print('debiased:')\n",
    "\n",
    "print(f'accuracy = {metrics.accuracy_score(y_test, preds)*100:.2f}%')\n",
    "print(f'balanced accuracy = {metrics.balanced_accuracy_score(y_test, preds)*100:.2f}%')\n",
    "print(f'p-rule = {p_rule(preds, Z_test):.2f}%')"
   ]
  },
  {
   "cell_type": "code",
   "execution_count": 56,
   "id": "61b95349-13d1-4688-a78a-c6a5f7dd851e",
   "metadata": {},
   "outputs": [],
   "source": [
    "test_results = test_results.assign(roc_pred=preds, roc_change = preds - test_results.biased_pred)"
   ]
  },
  {
   "cell_type": "markdown",
   "id": "7303d285-19e4-4144-84fe-137426487906",
   "metadata": {},
   "source": [
    "# Comparisons"
   ]
  },
  {
   "cell_type": "code",
   "execution_count": 59,
   "id": "9ac25811-3164-408f-829b-a0add081c801",
   "metadata": {},
   "outputs": [],
   "source": [
    "t = test_results"
   ]
  },
  {
   "cell_type": "code",
   "execution_count": 67,
   "id": "3c5d18fc-0d37-452d-aa33-2e85763f5e7b",
   "metadata": {},
   "outputs": [
    {
     "data": {
      "text/html": [
       "<div>\n",
       "<style scoped>\n",
       "    .dataframe tbody tr th:only-of-type {\n",
       "        vertical-align: middle;\n",
       "    }\n",
       "\n",
       "    .dataframe tbody tr th {\n",
       "        vertical-align: top;\n",
       "    }\n",
       "\n",
       "    .dataframe thead th {\n",
       "        text-align: right;\n",
       "    }\n",
       "</style>\n",
       "<table border=\"1\" class=\"dataframe\">\n",
       "  <thead>\n",
       "    <tr style=\"text-align: right;\">\n",
       "      <th></th>\n",
       "      <th>approach</th>\n",
       "      <th>accuracy</th>\n",
       "      <th>balanced accuracy</th>\n",
       "      <th>p% rules</th>\n",
       "      <th>fpr_diffs</th>\n",
       "      <th>tpr_diffs</th>\n",
       "    </tr>\n",
       "  </thead>\n",
       "  <tbody>\n",
       "    <tr>\n",
       "      <th>0</th>\n",
       "      <td>adversarial (dem parity)</td>\n",
       "      <td>0.751672</td>\n",
       "      <td>0.748985</td>\n",
       "      <td>98.491631</td>\n",
       "      <td>15.934801</td>\n",
       "      <td>17.523836</td>\n",
       "    </tr>\n",
       "    <tr>\n",
       "      <th>1</th>\n",
       "      <td>LFR</td>\n",
       "      <td>0.703608</td>\n",
       "      <td>0.698110</td>\n",
       "      <td>95.437786</td>\n",
       "      <td>6.107890</td>\n",
       "      <td>16.017999</td>\n",
       "    </tr>\n",
       "    <tr>\n",
       "      <th>2</th>\n",
       "      <td>ROC</td>\n",
       "      <td>0.762099</td>\n",
       "      <td>0.753223</td>\n",
       "      <td>96.905933</td>\n",
       "      <td>2.898521</td>\n",
       "      <td>28.962601</td>\n",
       "    </tr>\n",
       "    <tr>\n",
       "      <th>3</th>\n",
       "      <td>adversarial (eq odds)</td>\n",
       "      <td>0.755611</td>\n",
       "      <td>0.758074</td>\n",
       "      <td>75.427701</td>\n",
       "      <td>1.072992</td>\n",
       "      <td>1.252312</td>\n",
       "    </tr>\n",
       "    <tr>\n",
       "      <th>4</th>\n",
       "      <td>eq odds</td>\n",
       "      <td>0.795200</td>\n",
       "      <td>0.790147</td>\n",
       "      <td>63.125638</td>\n",
       "      <td>0.452289</td>\n",
       "      <td>0.020152</td>\n",
       "    </tr>\n",
       "    <tr>\n",
       "      <th>5</th>\n",
       "      <td>biased</td>\n",
       "      <td>0.830056</td>\n",
       "      <td>0.829620</td>\n",
       "      <td>45.648520</td>\n",
       "      <td>24.819729</td>\n",
       "      <td>9.681503</td>\n",
       "    </tr>\n",
       "  </tbody>\n",
       "</table>\n",
       "</div>"
      ],
      "text/plain": [
       "                   approach  accuracy  balanced accuracy   p% rules  \\\n",
       "0  adversarial (dem parity)  0.751672           0.748985  98.491631   \n",
       "1                       LFR  0.703608           0.698110  95.437786   \n",
       "2                       ROC  0.762099           0.753223  96.905933   \n",
       "3     adversarial (eq odds)  0.755611           0.758074  75.427701   \n",
       "4                   eq odds  0.795200           0.790147  63.125638   \n",
       "5                    biased  0.830056           0.829620  45.648520   \n",
       "\n",
       "   fpr_diffs  tpr_diffs  \n",
       "0  15.934801  17.523836  \n",
       "1   6.107890  16.017999  \n",
       "2   2.898521  28.962601  \n",
       "3   1.072992   1.252312  \n",
       "4   0.452289   0.020152  \n",
       "5  24.819729   9.681503  "
      ]
     },
     "execution_count": 67,
     "metadata": {},
     "output_type": "execute_result"
    }
   ],
   "source": [
    "metrics_ = get_metrics(\n",
    "    [t[['sex', 'target', 'lfr_pred', 'biased_pred']].rename({'biased_pred': 'biased_label', 'lfr_pred':'fair_label'}, axis=1),\n",
    "     t[['sex', 'target', 'adv_pred']].rename({'adv_pred':'fair_label'}, axis=1),\n",
    "     t[['sex', 'target', 'roc_pred']].rename({'roc_pred':'fair_label'}, axis=1),\n",
    "     t[['sex', 'target', 'adveq_pred']].rename({'adveq_pred':'fair_label'}, axis=1),\n",
    "     t[['sex', 'target', 'eq_pred']].rename({'eq_pred':'fair_label'}, axis=1)],\n",
    "    ['adversarial (dem parity)','LFR',  'ROC', 'adversarial (eq odds)', 'eq odds'],\n",
    "    sensitive_feature='sex'\n",
    ")\n",
    "\n",
    "metrics_.drop(columns=['class 0 accuracy', 'class 1 accuracy'])"
   ]
  },
  {
   "cell_type": "markdown",
   "id": "150e5ee1-c1c8-4f7e-b0b3-027311af54c6",
   "metadata": {},
   "source": [
    "## How many instances does each method change ?"
   ]
  },
  {
   "cell_type": "code",
   "execution_count": 76,
   "id": "831b4da1-2d32-4592-9529-8f3282db9b04",
   "metadata": {},
   "outputs": [],
   "source": [
    "comp_df = test_results"
   ]
  },
  {
   "cell_type": "code",
   "execution_count": 77,
   "id": "edc71f13-1a28-4dcd-bcc8-a378cb6337a4",
   "metadata": {},
   "outputs": [],
   "source": [
    "eq_changed = len(comp_df[comp_df.eq_change!=0])\n",
    "adv_changed = len(comp_df[comp_df.adv_change!=0])\n",
    "lfr_changed = len(comp_df[comp_df.lfr_change!=0])\n",
    "roc_changed = len(comp_df[comp_df.roc_change!=0])\n",
    "adveq_changed = len(comp_df[comp_df.adveq_change!=0])\n",
    "\n",
    "eq_perc = eq_changed / len(comp_df) * 100\n",
    "adv_perc = adv_changed / len(comp_df)* 100\n",
    "lfr_perc = lfr_changed / len(comp_df)* 100\n",
    "roc_perc = roc_changed / len(comp_df)* 100\n",
    "adveq_perc = adveq_changed / len(comp_df)* 100"
   ]
  },
  {
   "cell_type": "code",
   "execution_count": 80,
   "id": "2b8f8fc5-8b02-4cde-a3fb-ef9162285851",
   "metadata": {},
   "outputs": [
    {
     "data": {
      "text/plain": [
       "(array([0, 1, 2, 3, 4]),\n",
       " [Text(0, 0, 'LFR'),\n",
       "  Text(1, 0, 'Adversarial (DP)'),\n",
       "  Text(2, 0, 'ROC'),\n",
       "  Text(3, 0, 'Adversarial (EO)'),\n",
       "  Text(4, 0, 'TO')])"
      ]
     },
     "execution_count": 80,
     "metadata": {},
     "output_type": "execute_result"
    },
    {
     "data": {
      "image/png": "[encoded data removed]",
      "text/plain": [
       "<Figure size 500x300 with 1 Axes>"
      ]
     },
     "metadata": {},
     "output_type": "display_data"
    }
   ],
   "source": [
    "fig, axs = plt.subplots(1,1,figsize=(5,3))\n",
    "\n",
    "sns.barplot(x=['LFR', 'Adversarial (DP)', 'ROC', 'Adversarial (EO)', 'TO'], y=[lfr_perc, adv_perc, roc_perc, adveq_perc, eq_perc])\n",
    "plt.xticks(rotation=45)\n"
   ]
  },
  {
   "cell_type": "code",
   "execution_count": 81,
   "id": "606779e3-d4de-4928-9bdf-7f6d959d7615",
   "metadata": {},
   "outputs": [
    {
     "name": "stdout",
     "output_type": "stream",
     "text": [
      "percentage of predictions changed by adversarial: 23.67%\n",
      "percentage of predictions changed by lfr: 20.36%\n",
      "percentage of predictions changed by roc: 17.24%\n",
      "percentage of predictions changed by adversarial (equal odds): 12.51%\n",
      "percentage of predictions changed by equal odds: 13.30%\n"
     ]
    }
   ],
   "source": [
    "print(f'percentage of predictions changed by adversarial: {adv_perc:.2f}%')\n",
    "print(f'percentage of predictions changed by lfr: {lfr_perc:.2f}%')\n",
    "print(f'percentage of predictions changed by roc: {roc_perc:.2f}%')\n",
    "print(f'percentage of predictions changed by adversarial (equal odds): {adveq_perc:.2f}%')\n",
    "print(f'percentage of predictions changed by equal odds: {eq_perc:.2f}%')"
   ]
  },
  {
   "cell_type": "code",
   "execution_count": 84,
   "id": "5ca65266-c024-44df-9828-3de56a83dfc3",
   "metadata": {},
   "outputs": [
    {
     "name": "stdout",
     "output_type": "stream",
     "text": [
      "IOU(DP) = 19.38%\n",
      "IOU(EO) = 6.55%\n"
     ]
    }
   ],
   "source": [
    "inters = len(comp_df[(comp_df.adv_change!=0) & (comp_df.lfr_change!=0) & (comp_df.roc_change!=0)])\n",
    "union = len(comp_df[(comp_df.adv_change!=0) | (comp_df.lfr_change!=0) | (comp_df.roc_change!=0)])\n",
    "iou_dp = inters / union * 100\n",
    "\n",
    "inters = len(comp_df[(comp_df.adveq_change!=0) & (comp_df.eq_change!=0)])\n",
    "union = len(comp_df[(comp_df.adveq_change!=0) | (comp_df.eq_change!=0)])\n",
    "iou_eo = inters / union * 100\n",
    "\n",
    "\n",
    "print(f'IOU(DP) = {iou_dp:.2f}%')\n",
    "print(f'IOU(EO) = {iou_eo:.2f}%')"
   ]
  },
  {
   "cell_type": "markdown",
   "id": "d4549055-28c7-4741-a5b6-d35c5a8c11c9",
   "metadata": {},
   "source": [
    "## Are these the same instances ?"
   ]
  },
  {
   "cell_type": "markdown",
   "id": "439d59c6-b0ec-463c-91b6-b5ce001da003",
   "metadata": {},
   "source": [
    "How many instances were changed by just one method, how many by two, and how many by three ?"
   ]
  },
  {
   "cell_type": "code",
   "execution_count": 85,
   "id": "6a735f0c-5d4c-4ecc-93b7-d77b8790a615",
   "metadata": {},
   "outputs": [
    {
     "data": {
      "text/plain": [
       "<AxesSubplot:xlabel='num_changes', ylabel='perc'>"
      ]
     },
     "execution_count": 85,
     "metadata": {},
     "output_type": "execute_result"
    },
    {
     "data": {
      "image/png": "[encoded data removed]",
      "text/plain": [
       "<Figure size 640x480 with 1 Axes>"
      ]
     },
     "metadata": {},
     "output_type": "display_data"
    }
   ],
   "source": [
    "comp_df = comp_df.assign(\n",
    "    num_changes = abs(comp_df.eq_change) + abs(comp_df.adv_change) + abs(comp_df.lfr_change) + abs(comp_df.roc_change) + abs(comp_df.adveq_change)\n",
    ")\n",
    "\n",
    "plot_df = comp_df.groupby('num_changes').count()[['sex']].reset_index().rename({'sex':'num'}, axis=1)\n",
    "plot_df = plot_df[plot_df.num_changes!=0].assign(perc = round(plot_df.num / len(comp_df) * 100, 2))\n",
    "sns.barplot(data=plot_df, x='num_changes', y='perc')"
   ]
  },
  {
   "cell_type": "markdown",
   "id": "54d21cbf-a067-446c-bad4-d68e6f7371db",
   "metadata": {},
   "source": [
    "### Values achieved by each "
   ]
  },
  {
   "cell_type": "code",
   "execution_count": 86,
   "id": "5d557f5f-2abf-49b6-bf51-ba7eac3aaed4",
   "metadata": {},
   "outputs": [],
   "source": [
    "num_women = len(comp_df[comp_df.sex==0])\n",
    "num_men = len(comp_df[comp_df.sex==1])"
   ]
  },
  {
   "cell_type": "code",
   "execution_count": 87,
   "id": "d8cc15f7-b631-4922-97b5-b64a9c500f3a",
   "metadata": {},
   "outputs": [],
   "source": [
    "lfr_perc_women = len(comp_df[(comp_df.sex==0) & (comp_df.lfr_pred==1)]) / num_women * 100\n",
    "lfr_perc_men = len(comp_df[(comp_df.sex==1) & (comp_df.lfr_pred==1)]) / num_men * 100\n",
    "\n",
    "adv_perc_women = len(comp_df[(comp_df.sex==0) & (comp_df.adv_pred==1)]) / num_women * 100\n",
    "adv_perc_men = len(comp_df[(comp_df.sex==1) & (comp_df.adv_pred==1)]) / num_men * 100\n",
    "\n",
    "roc_perc_women = len(comp_df[(comp_df.sex==0) & (comp_df.roc_pred==1)]) / num_women * 100\n",
    "roc_perc_men = len(comp_df[(comp_df.sex==1) & (comp_df.roc_pred==1)]) / num_men * 100\n",
    "\n",
    "adveq_perc_women = len(comp_df[(comp_df.sex==0) & (comp_df.adveq_pred==1)]) / num_women * 100\n",
    "adveq_perc_men = len(comp_df[(comp_df.sex==1) & (comp_df.adveq_pred==1)]) / num_men * 100\n",
    "\n",
    "eq_perc_women = len(comp_df[(comp_df.sex==0) & (comp_df.eq_pred==1)]) / num_women * 100\n",
    "eq_perc_men = len(comp_df[(comp_df.sex==1) & (comp_df.eq_pred==1)]) / num_men * 100"
   ]
  },
  {
   "cell_type": "code",
   "execution_count": 88,
   "id": "248ca8db-85f5-4544-81e3-8524a0111ab4",
   "metadata": {},
   "outputs": [
    {
     "name": "stdout",
     "output_type": "stream",
     "text": [
      "LFR:\n",
      "43.53% of women classified positively\n",
      "42.87% of men classified positively\n",
      "\n",
      "Adversarial:\n",
      "36.70% of women classified positively\n",
      "38.46% of men classified positively\n",
      "\n",
      "ROC:\n",
      "29.79% of women classified positively\n",
      "30.74% of men classified positively\n",
      "\n"
     ]
    }
   ],
   "source": [
    "print('LFR:')\n",
    "print(f'{lfr_perc_women:.2f}% of women classified positively')\n",
    "print(f'{lfr_perc_men:.2f}% of men classified positively')\n",
    "print()\n",
    "\n",
    "print('Adversarial:')\n",
    "print(f'{adv_perc_women:.2f}% of women classified positively')\n",
    "print(f'{adv_perc_men:.2f}% of men classified positively')\n",
    "print()\n",
    "\n",
    "print('ROC:')\n",
    "print(f'{roc_perc_women:.2f}% of women classified positively')\n",
    "print(f'{roc_perc_men:.2f}% of men classified positively')\n",
    "print()"
   ]
  },
  {
   "cell_type": "markdown",
   "id": "7f358197-3b01-4d29-b81f-e50989a3e91b",
   "metadata": {},
   "source": [
    "### Focus:"
   ]
  },
  {
   "cell_type": "code",
   "execution_count": 89,
   "id": "1c2b6462-84ee-415b-b07d-586bf5c57875",
   "metadata": {},
   "outputs": [
    {
     "data": {
      "image/png": "[encoded data removed]",
      "text/plain": [
       "<Figure size 640x480 with 1 Axes>"
      ]
     },
     "metadata": {},
     "output_type": "display_data"
    }
   ],
   "source": [
    "plt_eq = comp_df[comp_df.eq_change!=0].assign(sex = comp_df.sex.map(lambda x: 'male' if x==1 else 'female')).groupby(['sex', 'eq_change']).count()[['biased_pred']].rename({'biased_pred':'count'}, axis=1).reset_index().assign(method = 'Equal Odds')\n",
    "\n",
    "g = sns.barplot(data=plt_eq, x='eq_change', y='count', hue='sex')\n",
    "g.set_yscale('log')"
   ]
  },
  {
   "cell_type": "code",
   "execution_count": 90,
   "id": "1969bd55-982c-4a33-a91c-c22fe68367a8",
   "metadata": {},
   "outputs": [
    {
     "data": {
      "text/html": [
       "<div>\n",
       "<style scoped>\n",
       "    .dataframe tbody tr th:only-of-type {\n",
       "        vertical-align: middle;\n",
       "    }\n",
       "\n",
       "    .dataframe tbody tr th {\n",
       "        vertical-align: top;\n",
       "    }\n",
       "\n",
       "    .dataframe thead th {\n",
       "        text-align: right;\n",
       "    }\n",
       "</style>\n",
       "<table border=\"1\" class=\"dataframe\">\n",
       "  <thead>\n",
       "    <tr style=\"text-align: right;\">\n",
       "      <th></th>\n",
       "      <th>sex</th>\n",
       "      <th>eq_change</th>\n",
       "      <th>count</th>\n",
       "      <th>method</th>\n",
       "    </tr>\n",
       "  </thead>\n",
       "  <tbody>\n",
       "    <tr>\n",
       "      <th>0</th>\n",
       "      <td>female</td>\n",
       "      <td>-1.0</td>\n",
       "      <td>630</td>\n",
       "      <td>Equal Odds</td>\n",
       "    </tr>\n",
       "    <tr>\n",
       "      <th>1</th>\n",
       "      <td>female</td>\n",
       "      <td>1.0</td>\n",
       "      <td>585</td>\n",
       "      <td>Equal Odds</td>\n",
       "    </tr>\n",
       "    <tr>\n",
       "      <th>2</th>\n",
       "      <td>male</td>\n",
       "      <td>-1.0</td>\n",
       "      <td>2802</td>\n",
       "      <td>Equal Odds</td>\n",
       "    </tr>\n",
       "  </tbody>\n",
       "</table>\n",
       "</div>"
      ],
      "text/plain": [
       "      sex  eq_change  count      method\n",
       "0  female       -1.0    630  Equal Odds\n",
       "1  female        1.0    585  Equal Odds\n",
       "2    male       -1.0   2802  Equal Odds"
      ]
     },
     "execution_count": 90,
     "metadata": {},
     "output_type": "execute_result"
    }
   ],
   "source": [
    "plt_eq"
   ]
  },
  {
   "cell_type": "code",
   "execution_count": 91,
   "id": "3ca2e9df-d25f-4bf7-9151-5077b3a0df59",
   "metadata": {},
   "outputs": [
    {
     "data": {
      "text/plain": [
       "<AxesSubplot:xlabel='adv_change', ylabel='count'>"
      ]
     },
     "execution_count": 91,
     "metadata": {},
     "output_type": "execute_result"
    },
    {
     "data": {
      "image/png": "[encoded data removed]",
      "text/plain": [
       "<Figure size 640x480 with 1 Axes>"
      ]
     },
     "metadata": {},
     "output_type": "display_data"
    }
   ],
   "source": [
    "plt_adv = comp_df[comp_df.adv_change!=0].assign(sex = comp_df.sex.map(lambda x: 'male' if x==1 else 'female')).groupby(['sex', 'adv_change']).count()[['biased_pred']].rename({'biased_pred':'count'}, axis=1).reset_index()\n",
    "\n",
    "sns.barplot(data=plt_adv, x='adv_change', y='count', hue='sex')"
   ]
  },
  {
   "cell_type": "markdown",
   "id": "0dc0b6fd-c826-4332-b6d6-569881496491",
   "metadata": {},
   "source": [
    "## Are these the same people ?"
   ]
  },
  {
   "cell_type": "code",
   "execution_count": 92,
   "id": "5bcf20f2-f56b-4880-80af-213480cc6e94",
   "metadata": {},
   "outputs": [
    {
     "name": "stdout",
     "output_type": "stream",
     "text": [
      "Demographic Parity:\n",
      "Of all the predictions changed by at least one method, 19.38% were changed by all three\n",
      "Equal Odds:\n",
      "Of all the predictions changed by at least one method, 6.55% were changed by both\n",
      "All methods:\n",
      "Of all the predictions changed by at least one method, 0.48% were changed by all five\n"
     ]
    }
   ],
   "source": [
    "# DP\n",
    "changed_union = comp_df[(comp_df.adv_change!=0) | (comp_df.lfr_change!=0) | (comp_df.roc_change!=0)]\n",
    "changed_intersect = comp_df[(comp_df.adv_change!=0) & (comp_df.lfr_change!=0) & (comp_df.roc_change!=0)]\n",
    "\n",
    "perc_intersect = len(changed_intersect) / len(changed_union) * 100\n",
    "\n",
    "print('Demographic Parity:')\n",
    "print(f'Of all the predictions changed by at least one method, {perc_intersect:.2f}% were changed by all three')\n",
    "\n",
    "# EO\n",
    "changed_union = comp_df[(comp_df.adveq_change!=0) | (comp_df.eq_change!=0)]\n",
    "changed_intersect = comp_df[(comp_df.adveq_change!=0) & (comp_df.eq_change!=0)]\n",
    "\n",
    "perc_intersect = len(changed_intersect) / len(changed_union) * 100\n",
    "\n",
    "print('Equal Odds:')\n",
    "print(f'Of all the predictions changed by at least one method, {perc_intersect:.2f}% were changed by both')\n",
    "\n",
    "# All\n",
    "changed_union = comp_df[(comp_df.adv_change!=0) | (comp_df.lfr_change!=0) | (comp_df.roc_change!=0) | (comp_df.adveq_change!=0) | (comp_df.eq_change!=0)]\n",
    "changed_intersect = comp_df[(comp_df.adv_change!=0) & (comp_df.lfr_change!=0) & (comp_df.roc_change!=0) & (comp_df.adveq_change!=0) & (comp_df.eq_change!=0)]\n",
    "\n",
    "perc_intersect = len(changed_intersect) / len(changed_union) * 100\n",
    "\n",
    "print('All methods:')\n",
    "print(f'Of all the predictions changed by at least one method, {perc_intersect:.2f}% were changed by all five')\n"
   ]
  },
  {
   "cell_type": "markdown",
   "id": "8fb9e3e7-71dd-4a66-b22f-7c4708f87e87",
   "metadata": {},
   "source": [
    "## T-SNE"
   ]
  },
  {
   "cell_type": "code",
   "execution_count": 94,
   "id": "9e1cdfbc-46ce-4f23-9a2c-a9cd656ce272",
   "metadata": {},
   "outputs": [],
   "source": [
    "a_df = comp_df[comp_df.adv_change!=0]\n",
    "l_df = comp_df[comp_df.lfr_change!=0]\n",
    "e_df = comp_df[comp_df.eq_change!=0]\n",
    "r_df = comp_df[comp_df.roc_change!=0]\n",
    "ae_df = comp_df[comp_df.adveq_change!=0]"
   ]
  },
  {
   "cell_type": "code",
   "execution_count": 95,
   "id": "bf10279a-aa7b-461f-a492-e49b03c26ab8",
   "metadata": {},
   "outputs": [],
   "source": [
    "from sklearn.manifold import TSNE\n",
    "\n",
    "tsne_df = TSNE(n_components=2, learning_rate='auto',\n",
    "                   init='random', perplexity=(50)).fit_transform(X_test)\n"
   ]
  },
  {
   "cell_type": "code",
   "execution_count": 96,
   "id": "b952b15b-4ff7-43a6-a3c6-0ed283b3b2bc",
   "metadata": {},
   "outputs": [
    {
     "data": {
      "image/png": "[encoded data removed]",
      "text/plain": [
       "<Figure size 1000x600 with 1 Axes>"
      ]
     },
     "metadata": {},
     "output_type": "display_data"
    }
   ],
   "source": [
    "#from fairness.helpers import *\n",
    "\n",
    "tsne_plot(\n",
    "    pd.DataFrame(tsne_df, index=X_test.index, columns=['c1', 'c2']),\n",
    "    {'LFR': l_df, 'Adversarial':a_df, 'ROC':r_df},\n",
    "    {'LFR': 'Blue', 'Adversarial':'Green', 'ROC':'Orange'}\n",
    ")"
   ]
  },
  {
   "cell_type": "code",
   "execution_count": 97,
   "id": "52c2339b-eb6c-4d5a-98c4-21e43127a243",
   "metadata": {},
   "outputs": [
    {
     "data": {
      "image/png": "[encoded data removed]",
      "text/plain": [
       "<Figure size 1000x600 with 1 Axes>"
      ]
     },
     "metadata": {},
     "output_type": "display_data"
    }
   ],
   "source": [
    "tsne_plot(\n",
    "    pd.DataFrame(tsne_df, index=X_test.index, columns=['c1', 'c2']),\n",
    "    {'Threshold Optimizer': e_df, 'Adversarial':ae_df},\n",
    "    {'Threshold Optimizer': 'Blue', 'Adversarial':'Green'}\n",
    ")"
   ]
  },
  {
   "cell_type": "code",
   "execution_count": 92,
   "id": "11587366-bbfd-41ef-9cc6-a671a605c7a7",
   "metadata": {},
   "outputs": [],
   "source": [
    "import discrepancies as disc\n",
    "from discrepancies import pool\n",
    "from discrepancies import DIG"
   ]
  },
  {
   "cell_type": "code",
   "execution_count": 186,
   "id": "a62e5270-cdeb-45db-8d33-dfe7dab411f7",
   "metadata": {},
   "outputs": [],
   "source": [
    "class LFR_model:\n",
    "    \n",
    "    def __init__(self, lfr, model):\n",
    "        self.lfr = lfr\n",
    "        self.model = model\n",
    "        \n",
    "    def fit(self):\n",
    "        pass\n",
    "    \n",
    "    def predict(self, XZ):\n",
    "        \n",
    "        bld = BinaryLabelDataset(df = XZ.assign(occupation_high_level = 0),\n",
    "                                label_names=['occupation_high_level'],\n",
    "                                protected_attribute_names=['sex'])\n",
    "        df = self.lfr.transform(bld).convert_to_dataframe()[0].drop(columns=['sex', 'occupation_high_level'])\n",
    "        \n",
    "        return self.model.predict(torch.Tensor(df.to_numpy()))\n",
    "    \n",
    "class EQ_model:\n",
    "    \n",
    "    def __init__(self, model):\n",
    "        self.model = model\n",
    "        \n",
    "    def fit(self):\n",
    "        pass\n",
    "    \n",
    "    def predict(self, XZ):\n",
    "        return self.model.predict(X=torch.Tensor(XZ.drop(columns=['sex']).to_numpy()),\n",
    "                                  sensitive_features=torch.Tensor(XZ['sex'].to_numpy()))\n",
    "    \n",
    "class Simple_Model:\n",
    "    \n",
    "    def __init__(self, model):\n",
    "        self.model = model\n",
    "        \n",
    "    def fit(self):\n",
    "        pass\n",
    "    \n",
    "    def predict(self, XZ):\n",
    "        return (self.model.predict(torch.Tensor(XZ.drop(columns=['sex']).to_numpy()))>0.5).astype(int)"
   ]
  },
  {
   "cell_type": "code",
   "execution_count": 187,
   "id": "209bfd09-d3b3-4eda-8b7d-85f53480079d",
   "metadata": {},
   "outputs": [],
   "source": [
    "lfr_wrap = LFR_model(lfr, lfr_clf)\n",
    "eq_wrap = EQ_model(m)\n",
    "adv_wrap = Simple_Model(adfl_)\n",
    "biased_wrap = Simple_Model(biased_clf)"
   ]
  },
  {
   "cell_type": "code",
   "execution_count": 188,
   "id": "dc62f8d6-16d8-474a-bc13-91b5b0edc30b",
   "metadata": {},
   "outputs": [],
   "source": [
    "eq_pool = pool.FairnessPool([eq_wrap, biased_wrap], ['Equal Odds', 'Biased'], 'sex')\n",
    "adv_pool = pool.FairnessPool([adv_wrap, biased_wrap], ['Adversarial', 'Biased'], 'sex')\n",
    "lfr_pool = pool.FairnessPool([lfr_wrap, biased_wrap], ['LFR', 'Biased'], 'sex')"
   ]
  },
  {
   "cell_type": "code",
   "execution_count": 189,
   "id": "186ba84a-9a80-425f-a7bc-ba233411b57f",
   "metadata": {},
   "outputs": [],
   "source": [
    "check = lfr_pool.predict(XZ=X_test.join(Z_test))\n",
    "check = check.assign(\n",
    "    Biased = (check.Biased>0.5).astype(int),\n",
    "    sex=Z_test,\n",
    "    target=y_test,\n",
    "    LFR = (check.LFR>0.5).astype(int)\n",
    ")"
   ]
  },
  {
   "cell_type": "code",
   "execution_count": 190,
   "id": "0ccd5cdb-6e66-4778-8cee-a383f540f698",
   "metadata": {},
   "outputs": [
    {
     "name": "stdout",
     "output_type": "stream",
     "text": [
      "85.88032168836781\n",
      "78.37140019860973\n",
      "77.97714771565829\n"
     ]
    }
   ],
   "source": [
    "print(p_rule(check['LFR'], check.sex))\n",
    "print(metrics.accuracy_score(check.target, check['LFR'])*100)\n",
    "print(metrics.balanced_accuracy_score(check.target, check['LFR'])*100)"
   ]
  },
  {
   "cell_type": "code",
   "execution_count": 191,
   "id": "d116dfe8-402b-4f57-9e3f-7e725c128130",
   "metadata": {},
   "outputs": [],
   "source": [
    "sample = X_test.join(Z_test).sample(250)#.assign(occupation_high_level=0)"
   ]
  },
  {
   "cell_type": "code",
   "execution_count": 195,
   "id": "d1a0502a-acde-40e6-9ee1-44a2c1c2d6c2",
   "metadata": {},
   "outputs": [
    {
     "data": {
      "text/html": [
       "<div>\n",
       "<style scoped>\n",
       "    .dataframe tbody tr th:only-of-type {\n",
       "        vertical-align: middle;\n",
       "    }\n",
       "\n",
       "    .dataframe tbody tr th {\n",
       "        vertical-align: top;\n",
       "    }\n",
       "\n",
       "    .dataframe thead th {\n",
       "        text-align: right;\n",
       "    }\n",
       "</style>\n",
       "<table border=\"1\" class=\"dataframe\">\n",
       "  <thead>\n",
       "    <tr style=\"text-align: right;\">\n",
       "      <th></th>\n",
       "      <th>Adversarial</th>\n",
       "      <th>Biased</th>\n",
       "      <th>discrepancies</th>\n",
       "    </tr>\n",
       "  </thead>\n",
       "  <tbody>\n",
       "    <tr>\n",
       "      <th>30420</th>\n",
       "      <td>0</td>\n",
       "      <td>0</td>\n",
       "      <td>0</td>\n",
       "    </tr>\n",
       "    <tr>\n",
       "      <th>53894</th>\n",
       "      <td>0</td>\n",
       "      <td>0</td>\n",
       "      <td>0</td>\n",
       "    </tr>\n",
       "    <tr>\n",
       "      <th>5414</th>\n",
       "      <td>1</td>\n",
       "      <td>1</td>\n",
       "      <td>0</td>\n",
       "    </tr>\n",
       "    <tr>\n",
       "      <th>23560</th>\n",
       "      <td>1</td>\n",
       "      <td>1</td>\n",
       "      <td>0</td>\n",
       "    </tr>\n",
       "    <tr>\n",
       "      <th>44438</th>\n",
       "      <td>0</td>\n",
       "      <td>0</td>\n",
       "      <td>0</td>\n",
       "    </tr>\n",
       "  </tbody>\n",
       "</table>\n",
       "</div>"
      ],
      "text/plain": [
       "       Adversarial  Biased  discrepancies\n",
       "30420            0       0              0\n",
       "53894            0       0              0\n",
       "5414             1       1              0\n",
       "23560            1       1              0\n",
       "44438            0       0              0"
      ]
     },
     "execution_count": 195,
     "metadata": {},
     "output_type": "execute_result"
    }
   ],
   "source": [
    "dd = adv_pool.predict_discrepancies(sample)\n",
    "dd.head()"
   ]
  },
  {
   "cell_type": "code",
   "execution_count": 196,
   "id": "9e00980f-fcc5-4b9a-96a3-81215c36a3db",
   "metadata": {},
   "outputs": [
    {
     "data": {
      "text/html": [
       "<div>\n",
       "<style scoped>\n",
       "    .dataframe tbody tr th:only-of-type {\n",
       "        vertical-align: middle;\n",
       "    }\n",
       "\n",
       "    .dataframe tbody tr th {\n",
       "        vertical-align: top;\n",
       "    }\n",
       "\n",
       "    .dataframe thead th {\n",
       "        text-align: right;\n",
       "    }\n",
       "</style>\n",
       "<table border=\"1\" class=\"dataframe\">\n",
       "  <thead>\n",
       "    <tr style=\"text-align: right;\">\n",
       "      <th></th>\n",
       "      <th>age</th>\n",
       "      <th>prev_residence_place</th>\n",
       "      <th>edu_level</th>\n",
       "      <th>Marital_status</th>\n",
       "      <th>moved_recently</th>\n",
       "      <th>citizenship_europe</th>\n",
       "      <th>citizenship_netherlands</th>\n",
       "      <th>citizenship_rest_of_world</th>\n",
       "      <th>country_birth_europe</th>\n",
       "      <th>country_birth_netherlands</th>\n",
       "      <th>country_birth_rest_of_world</th>\n",
       "      <th>economic_status_111</th>\n",
       "      <th>economic_status_112</th>\n",
       "      <th>economic_status_120</th>\n",
       "      <th>marital_status_divorced</th>\n",
       "      <th>marital_status_married</th>\n",
       "      <th>marital_status_single</th>\n",
       "      <th>marital_status_widowed</th>\n",
       "    </tr>\n",
       "  </thead>\n",
       "  <tbody>\n",
       "    <tr>\n",
       "      <th>6235</th>\n",
       "      <td>1.16054</td>\n",
       "      <td>-0.15703</td>\n",
       "      <td>-0.972347</td>\n",
       "      <td>0.270881</td>\n",
       "      <td>-0.15703</td>\n",
       "      <td>-0.11686</td>\n",
       "      <td>0.141013</td>\n",
       "      <td>-0.077852</td>\n",
       "      <td>-0.162263</td>\n",
       "      <td>0.280256</td>\n",
       "      <td>-0.222497</td>\n",
       "      <td>0.417491</td>\n",
       "      <td>-0.274791</td>\n",
       "      <td>-0.291301</td>\n",
       "      <td>-0.250593</td>\n",
       "      <td>0.802157</td>\n",
       "      <td>-0.692149</td>\n",
       "      <td>-0.09281</td>\n",
       "    </tr>\n",
       "  </tbody>\n",
       "</table>\n",
       "</div>"
      ],
      "text/plain": [
       "          age  prev_residence_place  edu_level  Marital_status  \\\n",
       "6235  1.16054              -0.15703  -0.972347        0.270881   \n",
       "\n",
       "      moved_recently  citizenship_europe  citizenship_netherlands  \\\n",
       "6235        -0.15703            -0.11686                 0.141013   \n",
       "\n",
       "      citizenship_rest_of_world  country_birth_europe  \\\n",
       "6235                  -0.077852             -0.162263   \n",
       "\n",
       "      country_birth_netherlands  country_birth_rest_of_world  \\\n",
       "6235                   0.280256                    -0.222497   \n",
       "\n",
       "      economic_status_111  economic_status_112  economic_status_120  \\\n",
       "6235             0.417491            -0.274791            -0.291301   \n",
       "\n",
       "      marital_status_divorced  marital_status_married  marital_status_single  \\\n",
       "6235                -0.250593                0.802157              -0.692149   \n",
       "\n",
       "      marital_status_widowed  \n",
       "6235                -0.09281  "
      ]
     },
     "execution_count": 196,
     "metadata": {},
     "output_type": "execute_result"
    }
   ],
   "source": [
    "X_test.head(1)"
   ]
  },
  {
   "cell_type": "code",
   "execution_count": 197,
   "id": "c10b8a9c-699f-4d88-8a6a-3a09f943f071",
   "metadata": {},
   "outputs": [
    {
     "data": {
      "text/plain": [
       "Index(['age', 'prev_residence_place', 'edu_level', 'Marital_status',\n",
       "       'moved_recently', 'citizenship_europe', 'citizenship_netherlands',\n",
       "       'citizenship_rest_of_world', 'country_birth_europe',\n",
       "       'country_birth_netherlands', 'country_birth_rest_of_world',\n",
       "       'economic_status_111', 'economic_status_112', 'economic_status_120',\n",
       "       'marital_status_divorced', 'marital_status_married',\n",
       "       'marital_status_single', 'marital_status_widowed'],\n",
       "      dtype='object')"
      ]
     },
     "execution_count": 197,
     "metadata": {},
     "output_type": "execute_result"
    }
   ],
   "source": [
    "X_test.columns"
   ]
  },
  {
   "cell_type": "code",
   "execution_count": 202,
   "id": "eb12fe66-b092-406a-87cc-7bb9659e62a3",
   "metadata": {
    "tags": []
   },
   "outputs": [
    {
     "name": "stderr",
     "output_type": "stream",
     "text": [
      "INFO:root:### EPOCH #1\n",
      "INFO:root:### EPOCH #2\n"
     ]
    },
    {
     "name": "stdout",
     "output_type": "stream",
     "text": [
      "epoch 1\n",
      "(82, 19)\n",
      "epoch 2\n",
      "(1039, 19)\n"
     ]
    },
    {
     "name": "stderr",
     "output_type": "stream",
     "text": [
      "INFO:root:### EPOCH #3\n"
     ]
    },
    {
     "name": "stdout",
     "output_type": "stream",
     "text": [
      "epoch 3\n",
      "(2400, 19)\n"
     ]
    },
    {
     "name": "stderr",
     "output_type": "stream",
     "text": [
      "INFO:root:### EPOCH #4\n"
     ]
    },
    {
     "name": "stdout",
     "output_type": "stream",
     "text": [
      "epoch 4\n",
      "(3274, 19)\n"
     ]
    },
    {
     "name": "stderr",
     "output_type": "stream",
     "text": [
      "INFO:root:### EPOCH #5\n"
     ]
    },
    {
     "name": "stdout",
     "output_type": "stream",
     "text": [
      "epoch 5\n",
      "(4859, 19)\n"
     ]
    },
    {
     "name": "stderr",
     "output_type": "stream",
     "text": [
      "INFO:root:### EPOCH #6\n"
     ]
    },
    {
     "name": "stdout",
     "output_type": "stream",
     "text": [
      "epoch 6\n",
      "(7803, 19)\n"
     ]
    },
    {
     "name": "stderr",
     "output_type": "stream",
     "text": [
      "INFO:root:### EPOCH #7\n"
     ]
    },
    {
     "name": "stdout",
     "output_type": "stream",
     "text": [
      "epoch 7\n",
      "(13928, 19)\n"
     ]
    }
   ],
   "source": [
    "digger = DIG.Digger(\n",
    "    sample,#.drop(columns=['occupation_high_level']),\n",
    "    y_test,#sample.occupation_high_level,\n",
    "    eq_pool,\n",
    "    categorical_names=['Marital_status',\n",
    "       'moved_recently', 'citizenship_europe', 'citizenship_netherlands',\n",
    "       'citizenship_rest_of_world', 'country_birth_europe',\n",
    "       'country_birth_netherlands', 'country_birth_rest_of_world',\n",
    "       'economic_status_111', 'economic_status_112', 'economic_status_120',\n",
    "       'marital_status_divorced', 'marital_status_married',\n",
    "       'marital_status_single', 'marital_status_widowed']\n",
    ").fit(max_epochs=7)"
   ]
  },
  {
   "cell_type": "code",
   "execution_count": 206,
   "id": "1509bac5-074c-46a9-8f90-a93a32de224a",
   "metadata": {},
   "outputs": [],
   "source": [
    "nodes = pd.concat(\n",
    "    [digger.get_nodes_attributes(digger.get_nodes())[0],\n",
    "    digger.get_nodes_attributes(digger.get_nodes())[1]],\n",
    "    axis=1\n",
    ").assign(\n",
    "    discrepancy = lambda x: (x['Equal Odds']!=x['Biased']).astype(int)\n",
    ")"
   ]
  },
  {
   "cell_type": "code",
   "execution_count": 207,
   "id": "e95c1a95-cb46-4115-b71c-16a6618bbc5a",
   "metadata": {},
   "outputs": [
    {
     "data": {
      "text/html": [
       "<div>\n",
       "<style scoped>\n",
       "    .dataframe tbody tr th:only-of-type {\n",
       "        vertical-align: middle;\n",
       "    }\n",
       "\n",
       "    .dataframe tbody tr th {\n",
       "        vertical-align: top;\n",
       "    }\n",
       "\n",
       "    .dataframe thead th {\n",
       "        text-align: right;\n",
       "    }\n",
       "</style>\n",
       "<table border=\"1\" class=\"dataframe\">\n",
       "  <thead>\n",
       "    <tr style=\"text-align: right;\">\n",
       "      <th></th>\n",
       "      <th>age</th>\n",
       "      <th>prev_residence_place</th>\n",
       "      <th>edu_level</th>\n",
       "      <th>Marital_status</th>\n",
       "      <th>moved_recently</th>\n",
       "      <th>citizenship_europe</th>\n",
       "      <th>citizenship_netherlands</th>\n",
       "      <th>citizenship_rest_of_world</th>\n",
       "      <th>country_birth_europe</th>\n",
       "      <th>country_birth_netherlands</th>\n",
       "      <th>...</th>\n",
       "      <th>economic_status_112</th>\n",
       "      <th>economic_status_120</th>\n",
       "      <th>marital_status_divorced</th>\n",
       "      <th>marital_status_married</th>\n",
       "      <th>marital_status_single</th>\n",
       "      <th>marital_status_widowed</th>\n",
       "      <th>sex</th>\n",
       "      <th>Equal Odds</th>\n",
       "      <th>Biased</th>\n",
       "      <th>discrepancy</th>\n",
       "    </tr>\n",
       "  </thead>\n",
       "  <tbody>\n",
       "    <tr>\n",
       "      <th>30420</th>\n",
       "      <td>-1.824153</td>\n",
       "      <td>-0.15703</td>\n",
       "      <td>-1.737869</td>\n",
       "      <td>-1.102851</td>\n",
       "      <td>-0.15703</td>\n",
       "      <td>-0.11686</td>\n",
       "      <td>0.141013</td>\n",
       "      <td>-0.077852</td>\n",
       "      <td>-0.162263</td>\n",
       "      <td>0.280256</td>\n",
       "      <td>...</td>\n",
       "      <td>3.639132</td>\n",
       "      <td>-0.291301</td>\n",
       "      <td>-0.250593</td>\n",
       "      <td>-1.246639</td>\n",
       "      <td>1.444776</td>\n",
       "      <td>-0.09281</td>\n",
       "      <td>1.0</td>\n",
       "      <td>0</td>\n",
       "      <td>0</td>\n",
       "      <td>0</td>\n",
       "    </tr>\n",
       "    <tr>\n",
       "      <th>53894</th>\n",
       "      <td>-0.544999</td>\n",
       "      <td>-0.15703</td>\n",
       "      <td>-0.206825</td>\n",
       "      <td>0.270881</td>\n",
       "      <td>-0.15703</td>\n",
       "      <td>-0.11686</td>\n",
       "      <td>0.141013</td>\n",
       "      <td>-0.077852</td>\n",
       "      <td>-0.162263</td>\n",
       "      <td>0.280256</td>\n",
       "      <td>...</td>\n",
       "      <td>-0.274791</td>\n",
       "      <td>-0.291301</td>\n",
       "      <td>-0.250593</td>\n",
       "      <td>0.802157</td>\n",
       "      <td>-0.692149</td>\n",
       "      <td>-0.09281</td>\n",
       "      <td>0.0</td>\n",
       "      <td>0</td>\n",
       "      <td>0</td>\n",
       "      <td>0</td>\n",
       "    </tr>\n",
       "    <tr>\n",
       "      <th>5414</th>\n",
       "      <td>0.307770</td>\n",
       "      <td>-0.15703</td>\n",
       "      <td>-0.206825</td>\n",
       "      <td>0.270881</td>\n",
       "      <td>-0.15703</td>\n",
       "      <td>-0.11686</td>\n",
       "      <td>0.141013</td>\n",
       "      <td>-0.077852</td>\n",
       "      <td>-0.162263</td>\n",
       "      <td>0.280256</td>\n",
       "      <td>...</td>\n",
       "      <td>-0.274791</td>\n",
       "      <td>3.432870</td>\n",
       "      <td>-0.250593</td>\n",
       "      <td>0.802157</td>\n",
       "      <td>-0.692149</td>\n",
       "      <td>-0.09281</td>\n",
       "      <td>0.0</td>\n",
       "      <td>1</td>\n",
       "      <td>1</td>\n",
       "      <td>0</td>\n",
       "    </tr>\n",
       "    <tr>\n",
       "      <th>23560</th>\n",
       "      <td>0.307770</td>\n",
       "      <td>-0.15703</td>\n",
       "      <td>1.324218</td>\n",
       "      <td>0.270881</td>\n",
       "      <td>-0.15703</td>\n",
       "      <td>-0.11686</td>\n",
       "      <td>0.141013</td>\n",
       "      <td>-0.077852</td>\n",
       "      <td>-0.162263</td>\n",
       "      <td>0.280256</td>\n",
       "      <td>...</td>\n",
       "      <td>-0.274791</td>\n",
       "      <td>-0.291301</td>\n",
       "      <td>-0.250593</td>\n",
       "      <td>0.802157</td>\n",
       "      <td>-0.692149</td>\n",
       "      <td>-0.09281</td>\n",
       "      <td>0.0</td>\n",
       "      <td>1</td>\n",
       "      <td>1</td>\n",
       "      <td>0</td>\n",
       "    </tr>\n",
       "    <tr>\n",
       "      <th>44438</th>\n",
       "      <td>-0.971383</td>\n",
       "      <td>-0.15703</td>\n",
       "      <td>-0.972347</td>\n",
       "      <td>-1.102851</td>\n",
       "      <td>-0.15703</td>\n",
       "      <td>-0.11686</td>\n",
       "      <td>0.141013</td>\n",
       "      <td>-0.077852</td>\n",
       "      <td>-0.162263</td>\n",
       "      <td>0.280256</td>\n",
       "      <td>...</td>\n",
       "      <td>-0.274791</td>\n",
       "      <td>-0.291301</td>\n",
       "      <td>-0.250593</td>\n",
       "      <td>-1.246639</td>\n",
       "      <td>1.444776</td>\n",
       "      <td>-0.09281</td>\n",
       "      <td>1.0</td>\n",
       "      <td>0</td>\n",
       "      <td>0</td>\n",
       "      <td>0</td>\n",
       "    </tr>\n",
       "  </tbody>\n",
       "</table>\n",
       "<p>5 rows × 22 columns</p>\n",
       "</div>"
      ],
      "text/plain": [
       "            age  prev_residence_place  edu_level  Marital_status  \\\n",
       "30420 -1.824153              -0.15703  -1.737869       -1.102851   \n",
       "53894 -0.544999              -0.15703  -0.206825        0.270881   \n",
       "5414   0.307770              -0.15703  -0.206825        0.270881   \n",
       "23560  0.307770              -0.15703   1.324218        0.270881   \n",
       "44438 -0.971383              -0.15703  -0.972347       -1.102851   \n",
       "\n",
       "       moved_recently  citizenship_europe  citizenship_netherlands  \\\n",
       "30420        -0.15703            -0.11686                 0.141013   \n",
       "53894        -0.15703            -0.11686                 0.141013   \n",
       "5414         -0.15703            -0.11686                 0.141013   \n",
       "23560        -0.15703            -0.11686                 0.141013   \n",
       "44438        -0.15703            -0.11686                 0.141013   \n",
       "\n",
       "       citizenship_rest_of_world  country_birth_europe  \\\n",
       "30420                  -0.077852             -0.162263   \n",
       "53894                  -0.077852             -0.162263   \n",
       "5414                   -0.077852             -0.162263   \n",
       "23560                  -0.077852             -0.162263   \n",
       "44438                  -0.077852             -0.162263   \n",
       "\n",
       "       country_birth_netherlands  ...  economic_status_112  \\\n",
       "30420                   0.280256  ...             3.639132   \n",
       "53894                   0.280256  ...            -0.274791   \n",
       "5414                    0.280256  ...            -0.274791   \n",
       "23560                   0.280256  ...            -0.274791   \n",
       "44438                   0.280256  ...            -0.274791   \n",
       "\n",
       "       economic_status_120  marital_status_divorced  marital_status_married  \\\n",
       "30420            -0.291301                -0.250593               -1.246639   \n",
       "53894            -0.291301                -0.250593                0.802157   \n",
       "5414              3.432870                -0.250593                0.802157   \n",
       "23560            -0.291301                -0.250593                0.802157   \n",
       "44438            -0.291301                -0.250593               -1.246639   \n",
       "\n",
       "       marital_status_single  marital_status_widowed  sex  Equal Odds  Biased  \\\n",
       "30420               1.444776                -0.09281  1.0           0       0   \n",
       "53894              -0.692149                -0.09281  0.0           0       0   \n",
       "5414               -0.692149                -0.09281  0.0           1       1   \n",
       "23560              -0.692149                -0.09281  0.0           1       1   \n",
       "44438               1.444776                -0.09281  1.0           0       0   \n",
       "\n",
       "       discrepancy  \n",
       "30420            0  \n",
       "53894            0  \n",
       "5414             0  \n",
       "23560            0  \n",
       "44438            0  \n",
       "\n",
       "[5 rows x 22 columns]"
      ]
     },
     "execution_count": 207,
     "metadata": {},
     "output_type": "execute_result"
    }
   ],
   "source": [
    "nodes.head()"
   ]
  },
  {
   "cell_type": "code",
   "execution_count": 310,
   "id": "63471311-ddef-4581-9a07-83511fd27940",
   "metadata": {},
   "outputs": [],
   "source": [
    "#(X_train, X_test, y_train, y_test, Z_train, Z_test) = split_scale_pipe(pd.get_dummies(data.drop(columns=['sex', 'occupation_high_level'])),\n",
    "#                                                                      data.occupation_high_level,\n",
    "#                                                                      (data.sex=='male').astype(int),\n",
    "#                                                                      stratify=data.occupation_high_level)\n",
    "\n",
    "X = pd.get_dummies(data.drop(columns=['sex', 'occupation_high_level', 'marital_status']))\n",
    "y = data.occupation_high_level\n",
    "Z = (data.sex=='male').astype(int)"
   ]
  },
  {
   "cell_type": "code",
   "execution_count": 313,
   "id": "fbc4d1ee-b597-4f9b-bc14-fbeea15fd917",
   "metadata": {},
   "outputs": [
    {
     "data": {
      "text/html": [
       "<div>\n",
       "<style scoped>\n",
       "    .dataframe tbody tr th:only-of-type {\n",
       "        vertical-align: middle;\n",
       "    }\n",
       "\n",
       "    .dataframe tbody tr th {\n",
       "        vertical-align: top;\n",
       "    }\n",
       "\n",
       "    .dataframe thead th {\n",
       "        text-align: right;\n",
       "    }\n",
       "</style>\n",
       "<table border=\"1\" class=\"dataframe\">\n",
       "  <thead>\n",
       "    <tr style=\"text-align: right;\">\n",
       "      <th></th>\n",
       "      <th>age</th>\n",
       "      <th>prev_residence_place</th>\n",
       "      <th>edu_level</th>\n",
       "      <th>Marital_status</th>\n",
       "      <th>moved_recently</th>\n",
       "      <th>citizenship_europe</th>\n",
       "      <th>citizenship_netherlands</th>\n",
       "      <th>citizenship_rest_of_world</th>\n",
       "      <th>country_birth_europe</th>\n",
       "      <th>country_birth_netherlands</th>\n",
       "      <th>country_birth_rest_of_world</th>\n",
       "      <th>economic_status_111</th>\n",
       "      <th>economic_status_112</th>\n",
       "      <th>economic_status_120</th>\n",
       "    </tr>\n",
       "  </thead>\n",
       "  <tbody>\n",
       "    <tr>\n",
       "      <th>0</th>\n",
       "      <td>6</td>\n",
       "      <td>1</td>\n",
       "      <td>5</td>\n",
       "      <td>1</td>\n",
       "      <td>0</td>\n",
       "      <td>0</td>\n",
       "      <td>1</td>\n",
       "      <td>0</td>\n",
       "      <td>0</td>\n",
       "      <td>1</td>\n",
       "      <td>0</td>\n",
       "      <td>1</td>\n",
       "      <td>0</td>\n",
       "      <td>0</td>\n",
       "    </tr>\n",
       "    <tr>\n",
       "      <th>1</th>\n",
       "      <td>10</td>\n",
       "      <td>1</td>\n",
       "      <td>2</td>\n",
       "      <td>2</td>\n",
       "      <td>0</td>\n",
       "      <td>0</td>\n",
       "      <td>1</td>\n",
       "      <td>0</td>\n",
       "      <td>0</td>\n",
       "      <td>1</td>\n",
       "      <td>0</td>\n",
       "      <td>1</td>\n",
       "      <td>0</td>\n",
       "      <td>0</td>\n",
       "    </tr>\n",
       "    <tr>\n",
       "      <th>2</th>\n",
       "      <td>8</td>\n",
       "      <td>1</td>\n",
       "      <td>2</td>\n",
       "      <td>2</td>\n",
       "      <td>0</td>\n",
       "      <td>0</td>\n",
       "      <td>1</td>\n",
       "      <td>0</td>\n",
       "      <td>0</td>\n",
       "      <td>1</td>\n",
       "      <td>0</td>\n",
       "      <td>1</td>\n",
       "      <td>0</td>\n",
       "      <td>0</td>\n",
       "    </tr>\n",
       "    <tr>\n",
       "      <th>3</th>\n",
       "      <td>12</td>\n",
       "      <td>1</td>\n",
       "      <td>1</td>\n",
       "      <td>2</td>\n",
       "      <td>0</td>\n",
       "      <td>0</td>\n",
       "      <td>1</td>\n",
       "      <td>0</td>\n",
       "      <td>0</td>\n",
       "      <td>1</td>\n",
       "      <td>0</td>\n",
       "      <td>1</td>\n",
       "      <td>0</td>\n",
       "      <td>0</td>\n",
       "    </tr>\n",
       "    <tr>\n",
       "      <th>4</th>\n",
       "      <td>4</td>\n",
       "      <td>1</td>\n",
       "      <td>2</td>\n",
       "      <td>1</td>\n",
       "      <td>0</td>\n",
       "      <td>0</td>\n",
       "      <td>1</td>\n",
       "      <td>0</td>\n",
       "      <td>0</td>\n",
       "      <td>1</td>\n",
       "      <td>0</td>\n",
       "      <td>1</td>\n",
       "      <td>0</td>\n",
       "      <td>0</td>\n",
       "    </tr>\n",
       "  </tbody>\n",
       "</table>\n",
       "</div>"
      ],
      "text/plain": [
       "   age  prev_residence_place  edu_level  Marital_status  moved_recently  \\\n",
       "0    6                     1          5               1               0   \n",
       "1   10                     1          2               2               0   \n",
       "2    8                     1          2               2               0   \n",
       "3   12                     1          1               2               0   \n",
       "4    4                     1          2               1               0   \n",
       "\n",
       "   citizenship_europe  citizenship_netherlands  citizenship_rest_of_world  \\\n",
       "0                   0                        1                          0   \n",
       "1                   0                        1                          0   \n",
       "2                   0                        1                          0   \n",
       "3                   0                        1                          0   \n",
       "4                   0                        1                          0   \n",
       "\n",
       "   country_birth_europe  country_birth_netherlands  \\\n",
       "0                     0                          1   \n",
       "1                     0                          1   \n",
       "2                     0                          1   \n",
       "3                     0                          1   \n",
       "4                     0                          1   \n",
       "\n",
       "   country_birth_rest_of_world  economic_status_111  economic_status_112  \\\n",
       "0                            0                    1                    0   \n",
       "1                            0                    1                    0   \n",
       "2                            0                    1                    0   \n",
       "3                            0                    1                    0   \n",
       "4                            0                    1                    0   \n",
       "\n",
       "   economic_status_120  \n",
       "0                    0  \n",
       "1                    0  \n",
       "2                    0  \n",
       "3                    0  \n",
       "4                    0  "
      ]
     },
     "execution_count": 313,
     "metadata": {},
     "output_type": "execute_result"
    }
   ],
   "source": [
    "X.head()"
   ]
  },
  {
   "cell_type": "code",
   "execution_count": 231,
   "id": "8801c7af-a9da-4aea-b495-5444a04fce00",
   "metadata": {},
   "outputs": [
    {
     "data": {
      "text/html": [
       "<div>\n",
       "<style scoped>\n",
       "    .dataframe tbody tr th:only-of-type {\n",
       "        vertical-align: middle;\n",
       "    }\n",
       "\n",
       "    .dataframe tbody tr th {\n",
       "        vertical-align: top;\n",
       "    }\n",
       "\n",
       "    .dataframe thead th {\n",
       "        text-align: right;\n",
       "    }\n",
       "</style>\n",
       "<table border=\"1\" class=\"dataframe\">\n",
       "  <thead>\n",
       "    <tr style=\"text-align: right;\">\n",
       "      <th></th>\n",
       "      <th>age</th>\n",
       "      <th>prev_residence_place</th>\n",
       "      <th>edu_level</th>\n",
       "      <th>Marital_status</th>\n",
       "      <th>moved_recently</th>\n",
       "      <th>citizenship_europe</th>\n",
       "      <th>citizenship_netherlands</th>\n",
       "      <th>citizenship_rest_of_world</th>\n",
       "      <th>country_birth_europe</th>\n",
       "      <th>country_birth_netherlands</th>\n",
       "      <th>country_birth_rest_of_world</th>\n",
       "      <th>economic_status_111</th>\n",
       "      <th>economic_status_112</th>\n",
       "      <th>economic_status_120</th>\n",
       "      <th>marital_status_divorced</th>\n",
       "      <th>marital_status_married</th>\n",
       "      <th>marital_status_single</th>\n",
       "      <th>marital_status_widowed</th>\n",
       "    </tr>\n",
       "  </thead>\n",
       "  <tbody>\n",
       "    <tr>\n",
       "      <th>60420</th>\n",
       "      <td>5.0</td>\n",
       "      <td>1.0</td>\n",
       "      <td>3.0</td>\n",
       "      <td>1.0</td>\n",
       "      <td>0.0</td>\n",
       "      <td>0.0</td>\n",
       "      <td>1.0</td>\n",
       "      <td>0.0</td>\n",
       "      <td>0.0</td>\n",
       "      <td>1.0</td>\n",
       "      <td>0.0</td>\n",
       "      <td>1.0</td>\n",
       "      <td>0.0</td>\n",
       "      <td>0.0</td>\n",
       "      <td>0.0</td>\n",
       "      <td>0.0</td>\n",
       "      <td>1.0</td>\n",
       "      <td>0.0</td>\n",
       "    </tr>\n",
       "    <tr>\n",
       "      <th>60421</th>\n",
       "      <td>5.0</td>\n",
       "      <td>1.0</td>\n",
       "      <td>3.0</td>\n",
       "      <td>1.0</td>\n",
       "      <td>0.0</td>\n",
       "      <td>0.0</td>\n",
       "      <td>1.0</td>\n",
       "      <td>0.0</td>\n",
       "      <td>0.0</td>\n",
       "      <td>1.0</td>\n",
       "      <td>0.0</td>\n",
       "      <td>1.0</td>\n",
       "      <td>0.0</td>\n",
       "      <td>0.0</td>\n",
       "      <td>0.0</td>\n",
       "      <td>0.0</td>\n",
       "      <td>1.0</td>\n",
       "      <td>0.0</td>\n",
       "    </tr>\n",
       "    <tr>\n",
       "      <th>60422</th>\n",
       "      <td>5.0</td>\n",
       "      <td>1.0</td>\n",
       "      <td>3.0</td>\n",
       "      <td>1.0</td>\n",
       "      <td>0.0</td>\n",
       "      <td>0.0</td>\n",
       "      <td>1.0</td>\n",
       "      <td>0.0</td>\n",
       "      <td>0.0</td>\n",
       "      <td>1.0</td>\n",
       "      <td>0.0</td>\n",
       "      <td>1.0</td>\n",
       "      <td>0.0</td>\n",
       "      <td>0.0</td>\n",
       "      <td>0.0</td>\n",
       "      <td>0.0</td>\n",
       "      <td>1.0</td>\n",
       "      <td>0.0</td>\n",
       "    </tr>\n",
       "    <tr>\n",
       "      <th>60423</th>\n",
       "      <td>5.0</td>\n",
       "      <td>1.0</td>\n",
       "      <td>3.0</td>\n",
       "      <td>1.0</td>\n",
       "      <td>0.0</td>\n",
       "      <td>0.0</td>\n",
       "      <td>1.0</td>\n",
       "      <td>0.0</td>\n",
       "      <td>0.0</td>\n",
       "      <td>1.0</td>\n",
       "      <td>0.0</td>\n",
       "      <td>1.0</td>\n",
       "      <td>0.0</td>\n",
       "      <td>0.0</td>\n",
       "      <td>0.0</td>\n",
       "      <td>0.0</td>\n",
       "      <td>1.0</td>\n",
       "      <td>0.0</td>\n",
       "    </tr>\n",
       "    <tr>\n",
       "      <th>60424</th>\n",
       "      <td>5.0</td>\n",
       "      <td>1.0</td>\n",
       "      <td>3.0</td>\n",
       "      <td>1.0</td>\n",
       "      <td>0.0</td>\n",
       "      <td>0.0</td>\n",
       "      <td>1.0</td>\n",
       "      <td>0.0</td>\n",
       "      <td>0.0</td>\n",
       "      <td>1.0</td>\n",
       "      <td>0.0</td>\n",
       "      <td>1.0</td>\n",
       "      <td>0.0</td>\n",
       "      <td>0.0</td>\n",
       "      <td>0.0</td>\n",
       "      <td>0.0</td>\n",
       "      <td>1.0</td>\n",
       "      <td>0.0</td>\n",
       "    </tr>\n",
       "  </tbody>\n",
       "</table>\n",
       "</div>"
      ],
      "text/plain": [
       "       age  prev_residence_place  edu_level  Marital_status  moved_recently  \\\n",
       "60420  5.0                   1.0        3.0             1.0             0.0   \n",
       "60421  5.0                   1.0        3.0             1.0             0.0   \n",
       "60422  5.0                   1.0        3.0             1.0             0.0   \n",
       "60423  5.0                   1.0        3.0             1.0             0.0   \n",
       "60424  5.0                   1.0        3.0             1.0             0.0   \n",
       "\n",
       "       citizenship_europe  citizenship_netherlands  citizenship_rest_of_world  \\\n",
       "60420                 0.0                      1.0                        0.0   \n",
       "60421                 0.0                      1.0                        0.0   \n",
       "60422                 0.0                      1.0                        0.0   \n",
       "60423                 0.0                      1.0                        0.0   \n",
       "60424                 0.0                      1.0                        0.0   \n",
       "\n",
       "       country_birth_europe  country_birth_netherlands  \\\n",
       "60420                   0.0                        1.0   \n",
       "60421                   0.0                        1.0   \n",
       "60422                   0.0                        1.0   \n",
       "60423                   0.0                        1.0   \n",
       "60424                   0.0                        1.0   \n",
       "\n",
       "       country_birth_rest_of_world  economic_status_111  economic_status_112  \\\n",
       "60420                          0.0                  1.0                  0.0   \n",
       "60421                          0.0                  1.0                  0.0   \n",
       "60422                          0.0                  1.0                  0.0   \n",
       "60423                          0.0                  1.0                  0.0   \n",
       "60424                          0.0                  1.0                  0.0   \n",
       "\n",
       "       economic_status_120  marital_status_divorced  marital_status_married  \\\n",
       "60420                  0.0                      0.0                     0.0   \n",
       "60421                  0.0                      0.0                     0.0   \n",
       "60422                  0.0                      0.0                     0.0   \n",
       "60423                  0.0                      0.0                     0.0   \n",
       "60424                  0.0                      0.0                     0.0   \n",
       "\n",
       "       marital_status_single  marital_status_widowed  \n",
       "60420                    1.0                     0.0  \n",
       "60421                    1.0                     0.0  \n",
       "60422                    1.0                     0.0  \n",
       "60423                    1.0                     0.0  \n",
       "60424                    1.0                     0.0  "
      ]
     },
     "execution_count": 231,
     "metadata": {},
     "output_type": "execute_result"
    }
   ],
   "source": [
    "(trainx, testx, trainy, testy,\n",
    "     trainz, testz) = train_test_split(X, y, Z, test_size=0.5,\n",
    "                                         stratify=y, random_state=11)\n",
    "\n",
    "scaler = StandardScaler().fit(trainx)\n",
    "\n",
    "nodes_unscaled = pd.DataFrame(scaler.inverse_transform(nodes[~nodes.index.isin(X.index)][X_test.columns]), columns=X_test.columns,\n",
    "            index=nodes.index[~nodes.index.isin(X.index)])\n",
    "nodes_unscaled.head()"
   ]
  },
  {
   "cell_type": "code",
   "execution_count": 250,
   "id": "233fb375-c18f-4926-9886-7ef2e26a8871",
   "metadata": {},
   "outputs": [
    {
     "data": {
      "text/html": [
       "<div>\n",
       "<style scoped>\n",
       "    .dataframe tbody tr th:only-of-type {\n",
       "        vertical-align: middle;\n",
       "    }\n",
       "\n",
       "    .dataframe tbody tr th {\n",
       "        vertical-align: top;\n",
       "    }\n",
       "\n",
       "    .dataframe thead th {\n",
       "        text-align: right;\n",
       "    }\n",
       "</style>\n",
       "<table border=\"1\" class=\"dataframe\">\n",
       "  <thead>\n",
       "    <tr style=\"text-align: right;\">\n",
       "      <th></th>\n",
       "      <th>age</th>\n",
       "      <th>prev_residence_place</th>\n",
       "      <th>edu_level</th>\n",
       "      <th>Marital_status</th>\n",
       "      <th>moved_recently</th>\n",
       "      <th>citizenship_europe</th>\n",
       "      <th>citizenship_netherlands</th>\n",
       "      <th>citizenship_rest_of_world</th>\n",
       "      <th>country_birth_europe</th>\n",
       "      <th>country_birth_netherlands</th>\n",
       "      <th>...</th>\n",
       "      <th>economic_status_111</th>\n",
       "      <th>economic_status_112</th>\n",
       "      <th>economic_status_120</th>\n",
       "      <th>marital_status_divorced</th>\n",
       "      <th>marital_status_married</th>\n",
       "      <th>marital_status_single</th>\n",
       "      <th>marital_status_widowed</th>\n",
       "      <th>Equal Odds</th>\n",
       "      <th>Biased</th>\n",
       "      <th>discrepancy</th>\n",
       "    </tr>\n",
       "  </thead>\n",
       "  <tbody>\n",
       "    <tr>\n",
       "      <th>60420</th>\n",
       "      <td>5.0</td>\n",
       "      <td>1.0</td>\n",
       "      <td>3.0</td>\n",
       "      <td>1.0</td>\n",
       "      <td>0.0</td>\n",
       "      <td>0.0</td>\n",
       "      <td>1.0</td>\n",
       "      <td>0.0</td>\n",
       "      <td>0.0</td>\n",
       "      <td>1.0</td>\n",
       "      <td>...</td>\n",
       "      <td>1.0</td>\n",
       "      <td>0.0</td>\n",
       "      <td>0.0</td>\n",
       "      <td>0.0</td>\n",
       "      <td>0.0</td>\n",
       "      <td>1.0</td>\n",
       "      <td>0.0</td>\n",
       "      <td>0</td>\n",
       "      <td>0</td>\n",
       "      <td>0</td>\n",
       "    </tr>\n",
       "    <tr>\n",
       "      <th>60421</th>\n",
       "      <td>5.0</td>\n",
       "      <td>1.0</td>\n",
       "      <td>3.0</td>\n",
       "      <td>1.0</td>\n",
       "      <td>0.0</td>\n",
       "      <td>0.0</td>\n",
       "      <td>1.0</td>\n",
       "      <td>0.0</td>\n",
       "      <td>0.0</td>\n",
       "      <td>1.0</td>\n",
       "      <td>...</td>\n",
       "      <td>1.0</td>\n",
       "      <td>0.0</td>\n",
       "      <td>0.0</td>\n",
       "      <td>0.0</td>\n",
       "      <td>0.0</td>\n",
       "      <td>1.0</td>\n",
       "      <td>0.0</td>\n",
       "      <td>0</td>\n",
       "      <td>0</td>\n",
       "      <td>0</td>\n",
       "    </tr>\n",
       "    <tr>\n",
       "      <th>60422</th>\n",
       "      <td>5.0</td>\n",
       "      <td>1.0</td>\n",
       "      <td>3.0</td>\n",
       "      <td>1.0</td>\n",
       "      <td>0.0</td>\n",
       "      <td>0.0</td>\n",
       "      <td>1.0</td>\n",
       "      <td>0.0</td>\n",
       "      <td>0.0</td>\n",
       "      <td>1.0</td>\n",
       "      <td>...</td>\n",
       "      <td>1.0</td>\n",
       "      <td>0.0</td>\n",
       "      <td>0.0</td>\n",
       "      <td>0.0</td>\n",
       "      <td>0.0</td>\n",
       "      <td>1.0</td>\n",
       "      <td>0.0</td>\n",
       "      <td>0</td>\n",
       "      <td>0</td>\n",
       "      <td>0</td>\n",
       "    </tr>\n",
       "    <tr>\n",
       "      <th>60423</th>\n",
       "      <td>5.0</td>\n",
       "      <td>1.0</td>\n",
       "      <td>3.0</td>\n",
       "      <td>1.0</td>\n",
       "      <td>0.0</td>\n",
       "      <td>0.0</td>\n",
       "      <td>1.0</td>\n",
       "      <td>0.0</td>\n",
       "      <td>0.0</td>\n",
       "      <td>1.0</td>\n",
       "      <td>...</td>\n",
       "      <td>1.0</td>\n",
       "      <td>0.0</td>\n",
       "      <td>0.0</td>\n",
       "      <td>0.0</td>\n",
       "      <td>0.0</td>\n",
       "      <td>1.0</td>\n",
       "      <td>0.0</td>\n",
       "      <td>0</td>\n",
       "      <td>0</td>\n",
       "      <td>0</td>\n",
       "    </tr>\n",
       "    <tr>\n",
       "      <th>60424</th>\n",
       "      <td>5.0</td>\n",
       "      <td>1.0</td>\n",
       "      <td>3.0</td>\n",
       "      <td>1.0</td>\n",
       "      <td>0.0</td>\n",
       "      <td>0.0</td>\n",
       "      <td>1.0</td>\n",
       "      <td>0.0</td>\n",
       "      <td>0.0</td>\n",
       "      <td>1.0</td>\n",
       "      <td>...</td>\n",
       "      <td>1.0</td>\n",
       "      <td>0.0</td>\n",
       "      <td>0.0</td>\n",
       "      <td>0.0</td>\n",
       "      <td>0.0</td>\n",
       "      <td>1.0</td>\n",
       "      <td>0.0</td>\n",
       "      <td>0</td>\n",
       "      <td>0</td>\n",
       "      <td>0</td>\n",
       "    </tr>\n",
       "  </tbody>\n",
       "</table>\n",
       "<p>5 rows × 21 columns</p>\n",
       "</div>"
      ],
      "text/plain": [
       "       age  prev_residence_place  edu_level  Marital_status  moved_recently  \\\n",
       "60420  5.0                   1.0        3.0             1.0             0.0   \n",
       "60421  5.0                   1.0        3.0             1.0             0.0   \n",
       "60422  5.0                   1.0        3.0             1.0             0.0   \n",
       "60423  5.0                   1.0        3.0             1.0             0.0   \n",
       "60424  5.0                   1.0        3.0             1.0             0.0   \n",
       "\n",
       "       citizenship_europe  citizenship_netherlands  citizenship_rest_of_world  \\\n",
       "60420                 0.0                      1.0                        0.0   \n",
       "60421                 0.0                      1.0                        0.0   \n",
       "60422                 0.0                      1.0                        0.0   \n",
       "60423                 0.0                      1.0                        0.0   \n",
       "60424                 0.0                      1.0                        0.0   \n",
       "\n",
       "       country_birth_europe  country_birth_netherlands  ...  \\\n",
       "60420                   0.0                        1.0  ...   \n",
       "60421                   0.0                        1.0  ...   \n",
       "60422                   0.0                        1.0  ...   \n",
       "60423                   0.0                        1.0  ...   \n",
       "60424                   0.0                        1.0  ...   \n",
       "\n",
       "       economic_status_111  economic_status_112  economic_status_120  \\\n",
       "60420                  1.0                  0.0                  0.0   \n",
       "60421                  1.0                  0.0                  0.0   \n",
       "60422                  1.0                  0.0                  0.0   \n",
       "60423                  1.0                  0.0                  0.0   \n",
       "60424                  1.0                  0.0                  0.0   \n",
       "\n",
       "       marital_status_divorced  marital_status_married  marital_status_single  \\\n",
       "60420                      0.0                     0.0                    1.0   \n",
       "60421                      0.0                     0.0                    1.0   \n",
       "60422                      0.0                     0.0                    1.0   \n",
       "60423                      0.0                     0.0                    1.0   \n",
       "60424                      0.0                     0.0                    1.0   \n",
       "\n",
       "       marital_status_widowed  Equal Odds  Biased  discrepancy  \n",
       "60420                     0.0           0       0            0  \n",
       "60421                     0.0           0       0            0  \n",
       "60422                     0.0           0       0            0  \n",
       "60423                     0.0           0       0            0  \n",
       "60424                     0.0           0       0            0  \n",
       "\n",
       "[5 rows x 21 columns]"
      ]
     },
     "execution_count": 250,
     "metadata": {},
     "output_type": "execute_result"
    }
   ],
   "source": [
    "df = pd.concat([nodes_unscaled, X.loc[~X.index.isin(nodes_unscaled.index) & X.index.isin(nodes.index)]])\\\n",
    "    .join(nodes[['Equal Odds', 'Biased', 'discrepancy']])\n",
    "\n",
    "df.head()"
   ]
  },
  {
   "cell_type": "code",
   "execution_count": 252,
   "id": "fbc34739-3935-4827-920f-bbba4c54549d",
   "metadata": {},
   "outputs": [],
   "source": [
    "x_tree_train, x_tree_test, y_tree_train, y_tree_test = train_test_split(df.drop(columns=['Equal Odds', 'Biased', 'discrepancy']),\n",
    "                                                                       df[['discrepancy']],\n",
    "                                                                       test_size=0.5, stratify=df[['discrepancy']], random_state=11)"
   ]
  },
  {
   "cell_type": "code",
   "execution_count": 288,
   "id": "ba8ff9a4-986f-4c84-b09d-20dc34826f1a",
   "metadata": {},
   "outputs": [],
   "source": [
    "from sklearn.tree import DecisionTreeClassifier\n",
    "\n",
    "dec_tree = DecisionTreeClassifier(max_depth=5)\n",
    "dec_tree = dec_tree.fit(x_tree_train,\n",
    "                       y_tree_train)"
   ]
  },
  {
   "cell_type": "code",
   "execution_count": 289,
   "id": "c5321498-4cae-4ca6-9ffd-1e9b84242430",
   "metadata": {},
   "outputs": [
    {
     "data": {
      "text/plain": [
       "0.6099550533029375"
      ]
     },
     "execution_count": 289,
     "metadata": {},
     "output_type": "execute_result"
    }
   ],
   "source": [
    "preds = dec_tree.predict(x_tree_test)\n",
    "metrics.balanced_accuracy_score(y_tree_test, preds)"
   ]
  },
  {
   "cell_type": "code",
   "execution_count": 290,
   "id": "9ced82da-1d79-4685-9ff9-4016b231afb2",
   "metadata": {},
   "outputs": [],
   "source": [
    "import graphviz\n",
    "from sklearn import tree"
   ]
  },
  {
   "cell_type": "code",
   "execution_count": 291,
   "id": "709357a8-cab3-457f-a434-8fec33ffdbc3",
   "metadata": {},
   "outputs": [],
   "source": [
    "dot_data = tree.export_graphviz(dec_tree, out_file=None, feature_names=list(X_test.columns), class_names=['not changed', 'changed'])\n",
    "graph = graphviz.Source(dot_data)"
   ]
  },
  {
   "cell_type": "code",
   "execution_count": 292,
   "id": "197a3057-dd16-4579-bc90-983089b0ed5a",
   "metadata": {},
   "outputs": [
    {
     "data": {
      "text/plain": [
       "'dutch_eq.pdf'"
      ]
     },
     "execution_count": 292,
     "metadata": {},
     "output_type": "execute_result"
    }
   ],
   "source": [
    "graph.render('dutch_eq')"
   ]
  },
  {
   "cell_type": "code",
   "execution_count": 304,
   "id": "0b17ed84-16aa-4db2-8e2b-089adf0f68ac",
   "metadata": {},
   "outputs": [],
   "source": [
    "x_tree_train, x_tree_test, y_tree_train, y_tree_test = train_test_split(dff.drop(columns=['Equal Odds', 'Biased', 'discrepancy']),\n",
    "                                                                       dff[['discrepancy']],\n",
    "                                                                       test_size=0.5, stratify=dff[['discrepancy']], random_state=11)\n",
    "scaler = StandardScaler().fit(x_tree_train)\n",
    "scale_df = lambda df, scaler: pd.DataFrame(scaler.transform(df), \n",
    "                                               columns=df.columns, index=df.index)\n",
    "x_train = x_tree_train.pipe(scale_df, scaler)\n",
    "x_test = x_tree_test.pipe(scale_df, scaler)"
   ]
  },
  {
   "cell_type": "code",
   "execution_count": 307,
   "id": "9d38bd14-ec7f-4f7c-b40d-c82770024976",
   "metadata": {},
   "outputs": [],
   "source": [
    "from sklearn.tree import DecisionTreeClassifier\n",
    "\n",
    "dec_tree = DecisionTreeClassifier(max_depth=5)\n",
    "dec_tree = dec_tree.fit(x_train,\n",
    "                       y_tree_train)"
   ]
  },
  {
   "cell_type": "code",
   "execution_count": 308,
   "id": "2e9754c6-8e71-44ed-a82a-dfcb1d9a419f",
   "metadata": {},
   "outputs": [
    {
     "data": {
      "text/plain": [
       "0.4990382781085771"
      ]
     },
     "execution_count": 308,
     "metadata": {},
     "output_type": "execute_result"
    }
   ],
   "source": [
    "preds = dec_tree.predict(x_tree_test)\n",
    "metrics.balanced_accuracy_score(y_tree_test, preds)"
   ]
  },
  {
   "cell_type": "code",
   "execution_count": 294,
   "id": "efba43b6-4004-4329-81d0-17f54ea05182",
   "metadata": {},
   "outputs": [
    {
     "data": {
      "text/plain": [
       "Index(['age', 'prev_residence_place', 'edu_level', 'Marital_status',\n",
       "       'moved_recently', 'citizenship_europe', 'citizenship_netherlands',\n",
       "       'citizenship_rest_of_world', 'country_birth_europe',\n",
       "       'country_birth_netherlands', 'country_birth_rest_of_world',\n",
       "       'economic_status_111', 'economic_status_112', 'economic_status_120',\n",
       "       'marital_status_divorced', 'marital_status_married',\n",
       "       'marital_status_single', 'marital_status_widowed', 'Equal Odds',\n",
       "       'Biased', 'discrepancy'],\n",
       "      dtype='object')"
      ]
     },
     "execution_count": 294,
     "metadata": {},
     "output_type": "execute_result"
    }
   ],
   "source": [
    "df.columns"
   ]
  },
  {
   "cell_type": "code",
   "execution_count": null,
   "id": "644a1459-aa79-4e9d-b9d2-94b3325abce2",
   "metadata": {},
   "outputs": [],
   "source": []
  }
 ],
 "metadata": {
  "kernelspec": {
   "display_name": "fairenv",
   "language": "python",
   "name": "fairenv"
  },
  "language_info": {
   "codemirror_mode": {
    "name": "ipython",
    "version": 3
   },
   "file_extension": ".py",
   "mimetype": "text/x-python",
   "name": "python",
   "nbconvert_exporter": "python",
   "pygments_lexer": "ipython3",
   "version": "3.9.13"
  }
 },
 "nbformat": 4,
 "nbformat_minor": 5
}
